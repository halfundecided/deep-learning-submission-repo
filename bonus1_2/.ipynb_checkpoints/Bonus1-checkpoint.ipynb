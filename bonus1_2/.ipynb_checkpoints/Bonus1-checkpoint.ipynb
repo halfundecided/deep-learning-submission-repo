{
 "cells": [
  {
   "cell_type": "markdown",
   "metadata": {},
   "source": [
    "# Bonus1: Parallel Algorithms (Decentralized Optimization)\n",
    "\n",
    "### Name: Mijeong Ban\n"
   ]
  },
  {
   "cell_type": "markdown",
   "metadata": {},
   "source": [
    "## 0. You will do the following:\n",
    "\n",
    "1. Read the lecture note: [click here](https://github.com/wangshusen/DeepLearning/blob/master/LectureNotes/Parallel/Parallel.pdf)\n",
    "\n",
    "2. Implement federated averaging or decentralized optimization.\n",
    "\n",
    "3. Plot the convergence curve. (The x-axis can be ```number of epochs``` or ```number of communication```. You must make sure the label is correct.)\n",
    "\n",
    "4. Convert the .IPYNB file to .HTML file.\n",
    "\n",
    "    * The HTML file must contain **the code** and **the output after execution**.\n",
    "    \n",
    "5. Upload this .HTML file to your Google Drive, Dropbox, or your Github repo. (If it is submitted to Google Drive or Dropbox, you must make the file open-access.)\n",
    "\n",
    "6. Submit the link to this .HTML file to Canvas.\n",
    "\n",
    "    * Example: https://github.com/wangshusen/CS583-2020S/blob/master/homework/Bonus1/Bonus1.html\n",
    "\n"
   ]
  },
  {
   "cell_type": "markdown",
   "metadata": {},
   "source": [
    "# 1. Data processing\n",
    "\n",
    "- Download the Diabete dataset from https://www.csie.ntu.edu.tw/~cjlin/libsvmtools/datasets/binary/diabetes\n",
    "- Load the data using sklearn.\n",
    "- Preprocess the data."
   ]
  },
  {
   "cell_type": "markdown",
   "metadata": {},
   "source": [
    "## 1.1. Load the data"
   ]
  },
  {
   "cell_type": "code",
   "execution_count": 1,
   "metadata": {},
   "outputs": [
    {
     "name": "stdout",
     "output_type": "stream",
     "text": [
      "Shape of x: (768, 8)\n",
      "Shape of y: (768,)\n"
     ]
    }
   ],
   "source": [
    "from sklearn import datasets\n",
    "import numpy\n",
    "\n",
    "x_sparse, y = datasets.load_svmlight_file('diabetes')\n",
    "x = x_sparse.todense()\n",
    "\n",
    "print('Shape of x: ' + str(x.shape))\n",
    "print('Shape of y: ' + str(y.shape))"
   ]
  },
  {
   "cell_type": "markdown",
   "metadata": {},
   "source": [
    "## 1.2. Partition to training and test sets"
   ]
  },
  {
   "cell_type": "code",
   "execution_count": 2,
   "metadata": {},
   "outputs": [
    {
     "name": "stdout",
     "output_type": "stream",
     "text": [
      "Shape of x_train: (640, 8)\n",
      "Shape of x_test: (128, 8)\n",
      "Shape of y_train: (640, 1)\n",
      "Shape of y_test: (128, 1)\n"
     ]
    }
   ],
   "source": [
    "# partition the data to training and test sets\n",
    "n = x.shape[0]\n",
    "n_train = 640\n",
    "n_test = n - n_train\n",
    "\n",
    "rand_indices = numpy.random.permutation(n)\n",
    "train_indices = rand_indices[0:n_train]\n",
    "test_indices = rand_indices[n_train:n]\n",
    "\n",
    "x_train = x[train_indices, :]\n",
    "x_test = x[test_indices, :]\n",
    "y_train = y[train_indices].reshape(n_train, 1)\n",
    "y_test = y[test_indices].reshape(n_test, 1)\n",
    "\n",
    "print('Shape of x_train: ' + str(x_train.shape))\n",
    "print('Shape of x_test: ' + str(x_test.shape))\n",
    "print('Shape of y_train: ' + str(y_train.shape))\n",
    "print('Shape of y_test: ' + str(y_test.shape))"
   ]
  },
  {
   "cell_type": "markdown",
   "metadata": {},
   "source": [
    "## 1.3. Feature scaling"
   ]
  },
  {
   "cell_type": "markdown",
   "metadata": {},
   "source": [
    "Use the standardization to trainsform both training and test features"
   ]
  },
  {
   "cell_type": "code",
   "execution_count": 3,
   "metadata": {},
   "outputs": [
    {
     "name": "stdout",
     "output_type": "stream",
     "text": [
      "test mean = \n",
      "[[ 0.23473443  0.06726539  0.08116457  0.11701093  0.07839323  0.13191912\n",
      "  -0.08949439  0.08866211]]\n",
      "test std = \n",
      "[[1.01145562 1.0691061  0.84586435 0.95255477 1.03070455 0.75942494\n",
      "  0.93206849 0.94069767]]\n"
     ]
    }
   ],
   "source": [
    "# Standardization\n",
    "import numpy\n",
    "\n",
    "# calculate mu and sig using the training set\n",
    "d = x_train.shape[1]\n",
    "mu = numpy.mean(x_train, axis=0).reshape(1, d)\n",
    "sig = numpy.std(x_train, axis=0).reshape(1, d)\n",
    "\n",
    "# transform the training features\n",
    "x_train = (x_train - mu) / (sig + 1E-6)\n",
    "\n",
    "# transform the test features\n",
    "x_test = (x_test - mu) / (sig + 1E-6)\n",
    "\n",
    "print('test mean = ')\n",
    "print(numpy.mean(x_test, axis=0))\n",
    "\n",
    "print('test std = ')\n",
    "print(numpy.std(x_test, axis=0))"
   ]
  },
  {
   "cell_type": "markdown",
   "metadata": {},
   "source": [
    "## 1.4. Add a dimension of all ones"
   ]
  },
  {
   "cell_type": "code",
   "execution_count": 4,
   "metadata": {},
   "outputs": [
    {
     "name": "stdout",
     "output_type": "stream",
     "text": [
      "Shape of x_train: (640, 9)\n",
      "Shape of x_test: (128, 9)\n"
     ]
    }
   ],
   "source": [
    "n_train, d = x_train.shape\n",
    "x_train = numpy.concatenate((x_train, numpy.ones((n_train, 1))), axis=1)\n",
    "\n",
    "n_test, d = x_test.shape\n",
    "x_test = numpy.concatenate((x_test, numpy.ones((n_test, 1))), axis=1)\n",
    "\n",
    "print('Shape of x_train: ' + str(x_train.shape))\n",
    "print('Shape of x_test: ' + str(x_test.shape))"
   ]
  },
  {
   "cell_type": "markdown",
   "metadata": {},
   "source": [
    "## 1.5 Worker Nodes"
   ]
  },
  {
   "cell_type": "code",
   "execution_count": 5,
   "metadata": {},
   "outputs": [],
   "source": [
    "class Worker:\n",
    "    def __init__(self, x, y, lam, learning_rate, weight, ID):\n",
    "        self.x = x\n",
    "        self.y = y\n",
    "        self.lam = lam\n",
    "        self.learning_rate = learning_rate\n",
    "        self.w = numpy.zeros([x.shape[1], 1])\n",
    "        self.neighbors = []\n",
    "        self.neighbor_weights = []\n",
    "        self.size = 0\n",
    "        self.weight = weight\n",
    "        self.ID = ID\n",
    "        \n",
    "    def add_neighbor(self, worker_IDs):\n",
    "        for i in range(len(worker_IDs)):\n",
    "            self.neighbors.append(worker_IDs[i])\n",
    "            self.neighbor_weights.append(numpy.zeros_like(self.w))\n",
    "            self.size = self.size+1\n",
    "    \n",
    "    def get_neighbor_ID(self):\n",
    "        return self.neighbors\n",
    "\n",
    "    def get_weight(self, ID, w):\n",
    "        for i in range(self.size):\n",
    "            if self.neighbors[i] == ID:\n",
    "                self.neighbor_weights[i] = w\n",
    "    \n",
    "    def broadcast(self):\n",
    "        return self.w\n",
    "    \n",
    "    def loss(self):\n",
    "        yx = numpy.multiply(self.y, self.x)\n",
    "        yxw = numpy.dot(yx, self.w)\n",
    "        vec1 = numpy.exp(-yxw)\n",
    "        vec2 = numpy.log(1 + vec1)\n",
    "        return numpy.sum(vec2)/x.shape[0]\n",
    "\n",
    "    def gradient(self):\n",
    "        yx = numpy.multiply(self.y, self.x)\n",
    "        yxw = numpy.dot(yx, self.w)\n",
    "        vec1 = numpy.exp(yxw)\n",
    "        vec2 = numpy.divide(-yx, 1 + vec1)\n",
    "        g = numpy.sum(vec2, axis=0).reshape(self.x.shape[1], 1)\n",
    "        g = g/self.x.shape[0]\n",
    "        self.updated_weight()\n",
    "        self.w = self.w - self.learning_rate*(g + self.lam*self.w)\n",
    "        \n",
    "    def updated_weight(self):\n",
    "        w_base = 0\n",
    "        w_base += self.weight * self.w\n",
    "        for i in range(self.size):\n",
    "            w_base = w_base + self.neighbor_weights[i]\n",
    "        self.w = w_base/(self.size+1)  "
   ]
  },
  {
   "cell_type": "markdown",
   "metadata": {},
   "source": [
    "## 1.6 Decentralized Optimization without weighted averaging"
   ]
  },
  {
   "cell_type": "markdown",
   "metadata": {},
   "source": [
    "### 1.6.1 Worker Initialization "
   ]
  },
  {
   "cell_type": "code",
   "execution_count": 6,
   "metadata": {},
   "outputs": [],
   "source": [
    "learning_rate = 1E-1\n",
    "lam = 1E-6\n",
    "weight = 1\n",
    "\n",
    "node_0 = Worker(x_train,y_train,lam,learning_rate,weight,\"0\")\n",
    "node_1 = Worker(x_train,y_train,lam,learning_rate,weight,\"1\")\n",
    "node_2 = Worker(x_train,y_train,lam,learning_rate,weight,\"2\")\n",
    "node_3 = Worker(x_train,y_train,lam,learning_rate,weight,\"3\")\n",
    "node_4 = Worker(x_train,y_train,lam,learning_rate,weight,\"4\")\n",
    "node_5 = Worker(x_train,y_train,lam,learning_rate,weight,\"5\")\n",
    "node_6 = Worker(x_train,y_train,lam,learning_rate,weight,\"6\")\n",
    "node_0.add_neighbor([\"1\",\"2\"])\n",
    "node_1.add_neighbor([\"0\",\"2\",\"3\"])\n",
    "node_2.add_neighbor([\"0\",\"1\",\"4\"])\n",
    "node_3.add_neighbor([\"1\",\"4\",\"5\",\"6\"])\n",
    "node_4.add_neighbor([\"2\",\"3\"])\n",
    "node_5.add_neighbor([\"4\",\"6\"])\n",
    "node_6.add_neighbor([\"4\",\"5\"])"
   ]
  },
  {
   "cell_type": "markdown",
   "metadata": {},
   "source": [
    "### 1.6.2 Performing Parallel GD"
   ]
  },
  {
   "cell_type": "code",
   "execution_count": 7,
   "metadata": {},
   "outputs": [],
   "source": [
    "def decentralized_gd(node, IDs, w):\n",
    "    for i in range(len(IDs)):\n",
    "        node.get_weight(IDs[i], w[i])\n",
    "    node.gradient()\n",
    "    updated_w = node.broadcast()\n",
    "    loss = node.loss()\n",
    "    return node, loss, updated_w"
   ]
  },
  {
   "cell_type": "code",
   "execution_count": 8,
   "metadata": {},
   "outputs": [
    {
     "name": "stdout",
     "output_type": "stream",
     "text": [
      "[0.5610035931767481, 0.5458280128400566, 0.5324843179822987, 0.5207826969684966, 0.5104868884420696, 0.5013849903295134, 0.4932977829114139, 0.4860759563181974, 0.4795955401334197, 0.473753517181476, 0.4684640414456614, 0.4636552978451605, 0.4592669389338135, 0.45524800944520777, 0.4515552713626656, 0.4481518526962433, 0.44500615574536484, 0.44209097260894137, 0.43938276609578836, 0.4368610827857323, 0.4345080719234791, 0.4323080893347609, 0.43024736989539986, 0.42831375549272604, 0.4264964680924666, 0.4247859196226735, 0.4231735520362246, 0.4216517022141773, 0.42021348740090236, 0.41885270767825017, 0.41756376263621225, 0.4163415799174479, 0.4151815537303601, 0.41407949176169234, 0.41303156919166906, 0.4120342887356105, 0.4110844458160478, 0.41017909811669107, 0.40931553889059374, 0.4084912734945513, 0.4077039987042114, 0.40695158443276985, 0.406232057533058, 0.40554358741037116, 0.4048844732132026, 0.4042531324025074, 0.40364809052830436, 0.4030679720662435, 0.40251149218694754, 0.4019774493480807]\n"
     ]
    }
   ],
   "source": [
    "epoch = 50\n",
    "w_0 = numpy.zeros([x_train.shape[1], 1])\n",
    "w_1 = numpy.zeros([x_train.shape[1], 1])\n",
    "w_2 = numpy.zeros([x_train.shape[1], 1])\n",
    "w_3 = numpy.zeros([x_train.shape[1], 1])\n",
    "w_4 = numpy.zeros([x_train.shape[1], 1])\n",
    "w_5 = numpy.zeros([x_train.shape[1], 1])\n",
    "w_6 = numpy.zeros([x_train.shape[1], 1])\n",
    "\n",
    "objective_values = []\n",
    "for i in range(epoch):\n",
    "    losses = 0\n",
    "    node_0_neighbor_weights = [w_1, w_2]\n",
    "    node_0, loss, w_0 = decentralized_gd(node_0, node_0.get_neighbor_ID(), node_0_neighbor_weights)\n",
    "    losses += loss\n",
    "    \n",
    "    node_1_neighbor_weights = [w_0, w_2, w_3]\n",
    "    node_1, loss, w_1 = decentralized_gd(node_1, node_1.get_neighbor_ID(), node_1_neighbor_weights)\n",
    "    losses += loss\n",
    "    \n",
    "    node_2_neighbor_weights = [w_0, w_1, w_4]\n",
    "    node_2, loss, w_2 = decentralized_gd(node_2, node_2.get_neighbor_ID(), node_2_neighbor_weights)\n",
    "    losses += loss\n",
    "    \n",
    "    node_3_neighbor_weights = [w_1, w_4, w_5, w_6]\n",
    "    node_3, loss, w_3 = decentralized_gd(node_3, node_3.get_neighbor_ID(), node_3_neighbor_weights)\n",
    "    losses += loss\n",
    "    \n",
    "    node_4_neighbor_weights = [w_2, w_3]\n",
    "    node_4, loss, w_4 = decentralized_gd(node_4, node_4.get_neighbor_ID(), node_4_neighbor_weights)\n",
    "    losses += loss\n",
    "    \n",
    "    node_5_neighbor_weights = [w_4, w_6]\n",
    "    node_5, loss, w_5 = decentralized_gd(node_5, node_5.get_neighbor_ID(), node_5_neighbor_weights)\n",
    "    losses += loss\n",
    "    \n",
    "    node_6_neighbor_weights = [w_4, w_5]\n",
    "    node_6, loss, w_6 = decentralized_gd(node_6, node_6.get_neighbor_ID(), node_6_neighbor_weights)\n",
    "    losses += loss\n",
    "    \n",
    "    obj = losses/7\n",
    "    objective_values.append(obj)\n",
    "print(objective_values)"
   ]
  },
  {
   "cell_type": "markdown",
   "metadata": {},
   "source": [
    "## 1.7 Decentralized Optimization with weighted averaging"
   ]
  },
  {
   "cell_type": "markdown",
   "metadata": {},
   "source": [
    "### 1.7.1 Worker Initialization"
   ]
  },
  {
   "cell_type": "code",
   "execution_count": 9,
   "metadata": {},
   "outputs": [],
   "source": [
    "learning_rate = 1E-1\n",
    "lam = 1E-6\n",
    "weight = 1.03\n",
    "\n",
    "node_0 = Worker(x_train,y_train,lam,learning_rate,weight,\"0\")\n",
    "node_1 = Worker(x_train,y_train,lam,learning_rate,weight,\"1\")\n",
    "node_2 = Worker(x_train,y_train,lam,learning_rate,weight,\"2\")\n",
    "node_3 = Worker(x_train,y_train,lam,learning_rate,weight,\"3\")\n",
    "node_4 = Worker(x_train,y_train,lam,learning_rate,weight,\"4\")\n",
    "node_5 = Worker(x_train,y_train,lam,learning_rate,weight,\"5\")\n",
    "node_6 = Worker(x_train,y_train,lam,learning_rate,weight,\"6\")\n",
    "node_0.add_neighbor([\"1\",\"2\"])\n",
    "node_1.add_neighbor([\"0\",\"2\",\"3\"])\n",
    "node_2.add_neighbor([\"0\",\"1\",\"4\"])\n",
    "node_3.add_neighbor([\"1\",\"4\",\"5\",\"6\"])\n",
    "node_4.add_neighbor([\"2\",\"3\"])\n",
    "node_5.add_neighbor([\"4\",\"6\"])\n",
    "node_6.add_neighbor([\"4\",\"5\"])"
   ]
  },
  {
   "cell_type": "markdown",
   "metadata": {},
   "source": [
    "### 1.7.2 Performing Parallel GD"
   ]
  },
  {
   "cell_type": "code",
   "execution_count": 10,
   "metadata": {},
   "outputs": [
    {
     "name": "stdout",
     "output_type": "stream",
     "text": [
      "[0.5610035931767481, 0.5456322535476589, 0.531938110668385, 0.519782597902373, 0.5089666905663326, 0.49930518261611706, 0.4906379213149562, 0.4828291020863865, 0.4757642281792641, 0.46934685991709374, 0.4634956639445412, 0.4581418735294327, 0.453227155149114, 0.4487018393009156, 0.44452346338395105, 0.44065557538913774, 0.43706675243384574, 0.43372979483693824, 0.43062106302177583, 0.42771993045188533, 0.4250083308532991, 0.42247038216369376, 0.42009207306011964, 0.41786100066967197, 0.41576615027566854, 0.4137977095985247, 0.4119469116427018, 0.41020590123057843, 0.4085676212487717, 0.40702571535860427, 0.4055744445068002, 0.4042086150441492, 0.4029235166417165, 0.4017148685043233, 0.4005787726337613, 0.39951167310085417, 0.3985103204550229, 0.39757174053955996, 0.39669320709607997, 0.39587221763710373, 0.39510647214511635, 0.3943938542226292, 0.3937324143731361, 0.39312035513929633, 0.3925560178637584, 0.39203787087100406, 0.3915644988964973, 0.39113459361308645, 0.3907469451247471, 0.39040043431492294]\n"
     ]
    }
   ],
   "source": [
    "w_0 = numpy.zeros([x_train.shape[1], 1])\n",
    "w_1 = numpy.zeros([x_train.shape[1], 1])\n",
    "w_2 = numpy.zeros([x_train.shape[1], 1])\n",
    "w_3 = numpy.zeros([x_train.shape[1], 1])\n",
    "w_4 = numpy.zeros([x_train.shape[1], 1])\n",
    "w_5 = numpy.zeros([x_train.shape[1], 1])\n",
    "w_6 = numpy.zeros([x_train.shape[1], 1])\n",
    "\n",
    "objective_values_with_weight = []\n",
    "for i in range(epoch):\n",
    "    losses = 0\n",
    "    node_0_neighbor_weights = [w_1, w_2]\n",
    "    node_0, loss, w_0 = decentralized_gd(node_0, node_0.get_neighbor_ID(), node_0_neighbor_weights)\n",
    "    losses += loss\n",
    "    \n",
    "    node_1_neighbor_weights = [w_0, w_2, w_3]\n",
    "    node_1, loss, w_1 = decentralized_gd(node_1, node_1.get_neighbor_ID(), node_1_neighbor_weights)\n",
    "    losses += loss\n",
    "    \n",
    "    node_2_neighbor_weights = [w_0, w_1, w_4]\n",
    "    node_2, loss, w_2 = decentralized_gd(node_2, node_2.get_neighbor_ID(), node_2_neighbor_weights)\n",
    "    losses += loss\n",
    "    \n",
    "    node_3_neighbor_weights = [w_1, w_4, w_5, w_6]\n",
    "    node_3, loss, w_3 = decentralized_gd(node_3, node_3.get_neighbor_ID(), node_3_neighbor_weights)\n",
    "    losses += loss\n",
    "    \n",
    "    node_4_neighbor_weights = [w_2, w_3]\n",
    "    node_4, loss, w_4 = decentralized_gd(node_4, node_4.get_neighbor_ID(), node_4_neighbor_weights)\n",
    "    losses += loss\n",
    "    \n",
    "    node_5_neighbor_weights = [w_4, w_6]\n",
    "    node_5, loss, w_5 = decentralized_gd(node_5, node_5.get_neighbor_ID(), node_5_neighbor_weights)\n",
    "    losses += loss\n",
    "    \n",
    "    node_6_neighbor_weights = [w_4, w_5]\n",
    "    node_6, loss, w_6 = decentralized_gd(node_6, node_6.get_neighbor_ID(), node_6_neighbor_weights)\n",
    "    losses += loss\n",
    "    \n",
    "    obj = losses/7\n",
    "    objective_values_with_weight.append(obj)\n",
    "print(objective_values_with_weight)"
   ]
  },
  {
   "cell_type": "markdown",
   "metadata": {},
   "source": [
    "## 1.8 Results"
   ]
  },
  {
   "cell_type": "code",
   "execution_count": 11,
   "metadata": {},
   "outputs": [
    {
     "data": {
      "image/png": "[encoded data removed]",
      "text/plain": [
       "<Figure size 720x576 with 1 Axes>"
      ]
     },
     "metadata": {
      "needs_background": "light"
     },
     "output_type": "display_data"
    }
   ],
   "source": [
    "import matplotlib.pyplot as plt \n",
    "%matplotlib inline\n",
    "\n",
    "fig = plt.figure(figsize=(10, 8))\n",
    "\n",
    "epochs_gd = range(epoch)\n",
    "\n",
    "line0, = plt.plot(epochs_gd, objective_values, '--b', LineWidth=4)\n",
    "line1, = plt.plot(epochs_gd, objective_values_with_weight, '-r', LineWidth=4)\n",
    "\n",
    "plt.xlabel('Epoch', FontSize=20)\n",
    "plt.ylabel('Objective Value', FontSize=20)\n",
    "plt.xticks(FontSize=16)\n",
    "plt.yticks(FontSize=16)\n",
    "plt.legend([line0,line1], ['without weighted averaging','with weighted averaging'], fontsize=20)\n",
    "plt.tight_layout()\n",
    "plt.show()\n",
    "fig.savefig('compare_weights.pdf', format='pdf', dpi=1200)"
   ]
  },
  {
   "cell_type": "code",
   "execution_count": null,
   "metadata": {},
   "outputs": [],
   "source": []
  }
 ],
 "metadata": {
  "kernelspec": {
   "display_name": "Python 3",
   "language": "python",
   "name": "python3"
  },
  "language_info": {
   "codemirror_mode": {
    "name": "ipython",
    "version": 3
   },
   "file_extension": ".py",
   "mimetype": "text/x-python",
   "name": "python",
   "nbconvert_exporter": "python",
   "pygments_lexer": "ipython3",
   "version": "3.7.4"
  }
 },
 "nbformat": 4,
 "nbformat_minor": 2
}
