{
 "cells": [
  {
   "cell_type": "markdown",
   "metadata": {},
   "source": [
    "# Bonus1: Parallel Algorithms (Decentralized Optimization)\n",
    "\n",
    "### Name: Mijeong Ban\n"
   ]
  },
  {
   "cell_type": "markdown",
   "metadata": {},
   "source": [
    "## 0. You will do the following:\n",
    "\n",
    "1. Read the lecture note: [click here](https://github.com/wangshusen/DeepLearning/blob/master/LectureNotes/Parallel/Parallel.pdf)\n",
    "\n",
    "2. Implement federated averaging or decentralized optimization.\n",
    "\n",
    "3. Plot the convergence curve. (The x-axis can be ```number of epochs``` or ```number of communication```. You must make sure the label is correct.)\n",
    "\n",
    "4. Convert the .IPYNB file to .HTML file.\n",
    "\n",
    "    * The HTML file must contain **the code** and **the output after execution**.\n",
    "    \n",
    "5. Upload this .HTML file to your Google Drive, Dropbox, or your Github repo. (If it is submitted to Google Drive or Dropbox, you must make the file open-access.)\n",
    "\n",
    "6. Submit the link to this .HTML file to Canvas.\n",
    "\n",
    "    * Example: https://github.com/wangshusen/CS583-2020S/blob/master/homework/Bonus1/Bonus1.html\n",
    "\n"
   ]
  },
  {
   "cell_type": "markdown",
   "metadata": {},
   "source": [
    "# 1. Data processing\n",
    "\n",
    "- Download the Diabete dataset from https://www.csie.ntu.edu.tw/~cjlin/libsvmtools/datasets/binary/diabetes\n",
    "- Load the data using sklearn.\n",
    "- Preprocess the data."
   ]
  },
  {
   "cell_type": "markdown",
   "metadata": {},
   "source": [
    "## 1.1. Load the data"
   ]
  },
  {
   "cell_type": "code",
   "execution_count": 1,
   "metadata": {},
   "outputs": [
    {
     "name": "stdout",
     "output_type": "stream",
     "text": [
      "Shape of x: (768, 8)\n",
      "Shape of y: (768,)\n"
     ]
    }
   ],
   "source": [
    "from sklearn import datasets\n",
    "import numpy\n",
    "\n",
    "x_sparse, y = datasets.load_svmlight_file('diabetes')\n",
    "x = x_sparse.todense()\n",
    "\n",
    "print('Shape of x: ' + str(x.shape))\n",
    "print('Shape of y: ' + str(y.shape))"
   ]
  },
  {
   "cell_type": "markdown",
   "metadata": {},
   "source": [
    "## 1.2. Partition to training and test sets"
   ]
  },
  {
   "cell_type": "code",
   "execution_count": 2,
   "metadata": {},
   "outputs": [
    {
     "name": "stdout",
     "output_type": "stream",
     "text": [
      "Shape of x_train: (640, 8)\n",
      "Shape of x_test: (128, 8)\n",
      "Shape of y_train: (640, 1)\n",
      "Shape of y_test: (128, 1)\n"
     ]
    }
   ],
   "source": [
    "# partition the data to training and test sets\n",
    "n = x.shape[0]\n",
    "n_train = 640\n",
    "n_test = n - n_train\n",
    "\n",
    "rand_indices = numpy.random.permutation(n)\n",
    "train_indices = rand_indices[0:n_train]\n",
    "test_indices = rand_indices[n_train:n]\n",
    "\n",
    "x_train = x[train_indices, :]\n",
    "x_test = x[test_indices, :]\n",
    "y_train = y[train_indices].reshape(n_train, 1)\n",
    "y_test = y[test_indices].reshape(n_test, 1)\n",
    "\n",
    "print('Shape of x_train: ' + str(x_train.shape))\n",
    "print('Shape of x_test: ' + str(x_test.shape))\n",
    "print('Shape of y_train: ' + str(y_train.shape))\n",
    "print('Shape of y_test: ' + str(y_test.shape))"
   ]
  },
  {
   "cell_type": "markdown",
   "metadata": {},
   "source": [
    "## 1.3. Feature scaling"
   ]
  },
  {
   "cell_type": "markdown",
   "metadata": {},
   "source": [
    "Use the standardization to trainsform both training and test features"
   ]
  },
  {
   "cell_type": "code",
   "execution_count": 3,
   "metadata": {},
   "outputs": [
    {
     "name": "stdout",
     "output_type": "stream",
     "text": [
      "test mean = \n",
      "[[-0.01440312 -0.16143462 -0.03002923 -0.06298736 -0.08457043 -0.2114895\n",
      "  -0.02500507 -0.00389161]]\n",
      "test std = \n",
      "[[1.00773362 0.88344705 0.94643579 0.96671905 0.94169399 1.19426339\n",
      "  0.91621837 1.05488628]]\n"
     ]
    }
   ],
   "source": [
    "# Standardization\n",
    "import numpy\n",
    "\n",
    "# calculate mu and sig using the training set\n",
    "d = x_train.shape[1]\n",
    "mu = numpy.mean(x_train, axis=0).reshape(1, d)\n",
    "sig = numpy.std(x_train, axis=0).reshape(1, d)\n",
    "\n",
    "# transform the training features\n",
    "x_train = (x_train - mu) / (sig + 1E-6)\n",
    "\n",
    "# transform the test features\n",
    "x_test = (x_test - mu) / (sig + 1E-6)\n",
    "\n",
    "print('test mean = ')\n",
    "print(numpy.mean(x_test, axis=0))\n",
    "\n",
    "print('test std = ')\n",
    "print(numpy.std(x_test, axis=0))"
   ]
  },
  {
   "cell_type": "markdown",
   "metadata": {},
   "source": [
    "## 1.4. Add a dimension of all ones"
   ]
  },
  {
   "cell_type": "code",
   "execution_count": 4,
   "metadata": {},
   "outputs": [
    {
     "name": "stdout",
     "output_type": "stream",
     "text": [
      "Shape of x_train: (640, 9)\n",
      "Shape of x_test: (128, 9)\n"
     ]
    }
   ],
   "source": [
    "n_train, d = x_train.shape\n",
    "x_train = numpy.concatenate((x_train, numpy.ones((n_train, 1))), axis=1)\n",
    "\n",
    "n_test, d = x_test.shape\n",
    "x_test = numpy.concatenate((x_test, numpy.ones((n_test, 1))), axis=1)\n",
    "\n",
    "print('Shape of x_train: ' + str(x_train.shape))\n",
    "print('Shape of x_test: ' + str(x_test.shape))"
   ]
  },
  {
   "cell_type": "markdown",
   "metadata": {},
   "source": [
    "## 1.5 Worker Nodes"
   ]
  },
  {
   "cell_type": "code",
   "execution_count": 5,
   "metadata": {},
   "outputs": [],
   "source": [
    "class Worker:\n",
    "    def __init__(self, x, y, lam, learning_rate, weight, ID):\n",
    "        self.x = x\n",
    "        self.y = y\n",
    "        self.lam = lam\n",
    "        self.learning_rate = learning_rate\n",
    "        self.w = numpy.zeros([x.shape[1], 1])\n",
    "        self.neighbors = []\n",
    "        self.neighbor_weights = []\n",
    "        self.size = 0\n",
    "        self.weight = weight\n",
    "        self.ID = ID\n",
    "        \n",
    "    def add_neighbor(self, worker_IDs):\n",
    "        for i in range(len(worker_IDs)):\n",
    "            self.neighbors.append(worker_IDs[i])\n",
    "            self.neighbor_weights.append(numpy.zeros_like(self.w))\n",
    "            self.size = self.size+1\n",
    "    \n",
    "    def get_neighbor_ID(self):\n",
    "        return self.neighbors\n",
    "\n",
    "    def get_weight(self, ID, w):\n",
    "        for i in range(self.size):\n",
    "            if self.neighbors[i] == ID:\n",
    "                self.neighbor_weights[i] = w\n",
    "    \n",
    "    def broadcast(self):\n",
    "        return self.w\n",
    "    \n",
    "    def loss(self):\n",
    "        yx = numpy.multiply(self.y, self.x)\n",
    "        yxw = numpy.dot(yx, self.w)\n",
    "        vec1 = numpy.exp(-yxw)\n",
    "        vec2 = numpy.log(1 + vec1)\n",
    "        return numpy.sum(vec2)/x.shape[0]\n",
    "\n",
    "    def gradient(self):\n",
    "        yx = numpy.multiply(self.y, self.x)\n",
    "        yxw = numpy.dot(yx, self.w)\n",
    "        vec1 = numpy.exp(yxw)\n",
    "        vec2 = numpy.divide(-yx, 1 + vec1)\n",
    "        g = numpy.sum(vec2, axis=0).reshape(self.x.shape[1], 1)\n",
    "        g = g/self.x.shape[0]\n",
    "        self.updated_weight()\n",
    "        self.w = self.w - self.learning_rate*(g + self.lam*self.w)\n",
    "        \n",
    "    def updated_weight(self):\n",
    "        w_base = 0\n",
    "        w_base += self.weight * self.w\n",
    "        for i in range(self.size):\n",
    "            w_base = w_base + self.neighbor_weights[i]\n",
    "        self.w = w_base/(self.size+1)  "
   ]
  },
  {
   "cell_type": "markdown",
   "metadata": {},
   "source": [
    "## 1.6 Decentralized Optimization without weighted averaging"
   ]
  },
  {
   "cell_type": "markdown",
   "metadata": {},
   "source": [
    "### 1.6.1 Worker Initialization "
   ]
  },
  {
   "cell_type": "code",
   "execution_count": 6,
   "metadata": {},
   "outputs": [],
   "source": [
    "learning_rate = 1E-1\n",
    "lam = 1E-6\n",
    "weight = 1\n",
    "\n",
    "node_0 = Worker(x_train,y_train,lam,learning_rate,weight,\"0\")\n",
    "node_1 = Worker(x_train,y_train,lam,learning_rate,weight,\"1\")\n",
    "node_2 = Worker(x_train,y_train,lam,learning_rate,weight,\"2\")\n",
    "node_3 = Worker(x_train,y_train,lam,learning_rate,weight,\"3\")\n",
    "node_4 = Worker(x_train,y_train,lam,learning_rate,weight,\"4\")\n",
    "node_5 = Worker(x_train,y_train,lam,learning_rate,weight,\"5\")\n",
    "node_6 = Worker(x_train,y_train,lam,learning_rate,weight,\"6\")\n",
    "node_0.add_neighbor([\"1\",\"2\"])\n",
    "node_1.add_neighbor([\"0\",\"2\",\"3\"])\n",
    "node_2.add_neighbor([\"0\",\"1\",\"4\"])\n",
    "node_3.add_neighbor([\"1\",\"4\",\"5\",\"6\"])\n",
    "node_4.add_neighbor([\"2\",\"3\"])\n",
    "node_5.add_neighbor([\"4\",\"6\"])\n",
    "node_6.add_neighbor([\"4\",\"5\"])"
   ]
  },
  {
   "cell_type": "markdown",
   "metadata": {},
   "source": [
    "### 1.6.2 Performing Parallel GD"
   ]
  },
  {
   "cell_type": "code",
   "execution_count": 7,
   "metadata": {},
   "outputs": [],
   "source": [
    "def decentralized_gd(node, IDs, w):\n",
    "    for i in range(len(IDs)):\n",
    "        node.get_weight(IDs[i], w[i])\n",
    "    node.gradient()\n",
    "    updated_w = node.broadcast()\n",
    "    loss = node.loss()\n",
    "    return node, loss, updated_w"
   ]
  },
  {
   "cell_type": "code",
   "execution_count": 8,
   "metadata": {},
   "outputs": [
    {
     "name": "stdout",
     "output_type": "stream",
     "text": [
      "[0.5620560117861922, 0.5477738131559821, 0.5351573008062863, 0.5240475337229955, 0.5142373126520544, 0.5055382163902212, 0.49778929150249923, 0.4908552325415374, 0.4846227465292423, 0.47899695375331575, 0.47389822844391327, 0.4692595355076627, 0.4650242259679116, 0.4611442288279495, 0.4575785745987903, 0.45429219141573923, 0.4512549229652029, 0.4484407259606346, 0.4458270126435293, 0.44339411040722915, 0.44112481612492244, 0.439004027217924, 0.43701843507875454, 0.435156269320004, 0.4334070835930083, 0.4317615755273635, 0.43021143477940393, 0.42874921432235535, 0.4273682210243898, 0.42606242229179697, 0.4248263661411221, 0.42365511253637517, 0.4225441742088331, 0.4214894654860455, 0.42048725790796143, 0.4195341416131369, 0.4186269916458108, 0.4177629384724964, 0.4169393421103179, 0.4161537693632318, 0.4154039737401424, 0.41468787769370585, 0.41400355687266915, 0.4133492261258282, 0.4127232270336539, 0.41212401677559213, 0.41155015816800994, 0.41100031073058674, 0.4104732226583089, 0.40996772359270345]\n"
     ]
    }
   ],
   "source": [
    "epoch = 50\n",
    "w_0 = numpy.zeros([x_train.shape[1], 1])\n",
    "w_1 = numpy.zeros([x_train.shape[1], 1])\n",
    "w_2 = numpy.zeros([x_train.shape[1], 1])\n",
    "w_3 = numpy.zeros([x_train.shape[1], 1])\n",
    "w_4 = numpy.zeros([x_train.shape[1], 1])\n",
    "w_5 = numpy.zeros([x_train.shape[1], 1])\n",
    "w_6 = numpy.zeros([x_train.shape[1], 1])\n",
    "\n",
    "objective_values = []\n",
    "for i in range(epoch):\n",
    "    losses = 0\n",
    "    node_0_neighbor_weights = [w_1, w_2]\n",
    "    node_0, loss, w_0 = decentralized_gd(node_0, node_0.get_neighbor_ID(), node_0_neighbor_weights)\n",
    "    losses += loss\n",
    "    \n",
    "    node_1_neighbor_weights = [w_0, w_2, w_3]\n",
    "    node_1, loss, w_1 = decentralized_gd(node_1, node_1.get_neighbor_ID(), node_1_neighbor_weights)\n",
    "    losses += loss\n",
    "    \n",
    "    node_2_neighbor_weights = [w_0, w_1, w_4]\n",
    "    node_2, loss, w_2 = decentralized_gd(node_2, node_2.get_neighbor_ID(), node_2_neighbor_weights)\n",
    "    losses += loss\n",
    "    \n",
    "    node_3_neighbor_weights = [w_1, w_4, w_5, w_6]\n",
    "    node_3, loss, w_3 = decentralized_gd(node_3, node_3.get_neighbor_ID(), node_3_neighbor_weights)\n",
    "    losses += loss\n",
    "    \n",
    "    node_4_neighbor_weights = [w_2, w_3]\n",
    "    node_4, loss, w_4 = decentralized_gd(node_4, node_4.get_neighbor_ID(), node_4_neighbor_weights)\n",
    "    losses += loss\n",
    "    \n",
    "    node_5_neighbor_weights = [w_4, w_6]\n",
    "    node_5, loss, w_5 = decentralized_gd(node_5, node_5.get_neighbor_ID(), node_5_neighbor_weights)\n",
    "    losses += loss\n",
    "    \n",
    "    node_6_neighbor_weights = [w_4, w_5]\n",
    "    node_6, loss, w_6 = decentralized_gd(node_6, node_6.get_neighbor_ID(), node_6_neighbor_weights)\n",
    "    losses += loss\n",
    "    \n",
    "    obj = losses/7\n",
    "    objective_values.append(obj)\n",
    "print(objective_values)"
   ]
  },
  {
   "cell_type": "markdown",
   "metadata": {},
   "source": [
    "## 1.7 Decentralized Optimization with weighted averaging"
   ]
  },
  {
   "cell_type": "markdown",
   "metadata": {},
   "source": [
    "### 1.7.1 Worker Initialization"
   ]
  },
  {
   "cell_type": "code",
   "execution_count": 9,
   "metadata": {},
   "outputs": [],
   "source": [
    "learning_rate = 2E-1\n",
    "lam = 1E-6\n",
    "weight = 1.03\n",
    "\n",
    "node_0 = Worker(x_train,y_train,lam,learning_rate,weight,\"0\")\n",
    "node_1 = Worker(x_train,y_train,lam,learning_rate,weight,\"1\")\n",
    "node_2 = Worker(x_train,y_train,lam,learning_rate,weight,\"2\")\n",
    "node_3 = Worker(x_train,y_train,lam,learning_rate,weight,\"3\")\n",
    "node_4 = Worker(x_train,y_train,lam,learning_rate,weight,\"4\")\n",
    "node_5 = Worker(x_train,y_train,lam,learning_rate,weight,\"5\")\n",
    "node_6 = Worker(x_train,y_train,lam,learning_rate,weight,\"6\")\n",
    "node_0.add_neighbor([\"1\",\"2\"])\n",
    "node_1.add_neighbor([\"0\",\"2\",\"3\"])\n",
    "node_2.add_neighbor([\"0\",\"1\",\"4\"])\n",
    "node_3.add_neighbor([\"1\",\"4\",\"5\",\"6\"])\n",
    "node_4.add_neighbor([\"2\",\"3\"])\n",
    "node_5.add_neighbor([\"4\",\"6\"])\n",
    "node_6.add_neighbor([\"4\",\"5\"])"
   ]
  },
  {
   "cell_type": "markdown",
   "metadata": {},
   "source": [
    "### 1.7.2 Performing Parallel GD"
   ]
  },
  {
   "cell_type": "code",
   "execution_count": 10,
   "metadata": {},
   "outputs": [
    {
     "name": "stdout",
     "output_type": "stream",
     "text": [
      "[0.5475656395965339, 0.5230247459751981, 0.5036630853131372, 0.4882360208531987, 0.4757484581237514, 0.4654762190505949, 0.4568997943348122, 0.4496444941824878, 0.4434365493831819, 0.438072718577565, 0.43339958340332796, 0.42929942647467073, 0.42568051009620655, 0.4224702977450146, 0.41961065941710335, 0.4170544302928662, 0.4147629050398562, 0.41270398801131575, 0.4108508095945306, 0.40918067829006566, 0.40767427768715786, 0.40631504425011566, 0.4050886801396731, 0.4039827679832331, 0.40298646341037625, 0.4020902474881044, 0.4012857257239517, 0.400565463592553, 0.39992285094886626, 0.3993519894712044, 0.3988475986050087, 0.39840493647725583, 0.3980197330091113, 0.3976881330336609, 0.3974066476716356, 0.39717211256406537, 0.39698165183103573, 0.39683264683819697, 0.3967227090207868, 0.39664965614876835, 0.3966114915238769, 0.39660638568570955, 0.3966326602739269, 0.3966887737505885, 0.39677330873326006, 0.3968849607278858, 0.39702252808212146, 0.3971849030061571, 0.39737106353002494, 0.3975800662847928]\n"
     ]
    }
   ],
   "source": [
    "w_0 = numpy.zeros([x_train.shape[1], 1])\n",
    "w_1 = numpy.zeros([x_train.shape[1], 1])\n",
    "w_2 = numpy.zeros([x_train.shape[1], 1])\n",
    "w_3 = numpy.zeros([x_train.shape[1], 1])\n",
    "w_4 = numpy.zeros([x_train.shape[1], 1])\n",
    "w_5 = numpy.zeros([x_train.shape[1], 1])\n",
    "w_6 = numpy.zeros([x_train.shape[1], 1])\n",
    "\n",
    "objective_values_with_weight = []\n",
    "for i in range(epoch):\n",
    "    losses = 0\n",
    "    node_0_neighbor_weights = [w_1, w_2]\n",
    "    node_0, loss, w_0 = decentralized_gd(node_0, node_0.get_neighbor_ID(), node_0_neighbor_weights)\n",
    "    losses += loss\n",
    "    \n",
    "    node_1_neighbor_weights = [w_0, w_2, w_3]\n",
    "    node_1, loss, w_1 = decentralized_gd(node_1, node_1.get_neighbor_ID(), node_1_neighbor_weights)\n",
    "    losses += loss\n",
    "    \n",
    "    node_2_neighbor_weights = [w_0, w_1, w_4]\n",
    "    node_2, loss, w_2 = decentralized_gd(node_2, node_2.get_neighbor_ID(), node_2_neighbor_weights)\n",
    "    losses += loss\n",
    "    \n",
    "    node_3_neighbor_weights = [w_1, w_4, w_5, w_6]\n",
    "    node_3, loss, w_3 = decentralized_gd(node_3, node_3.get_neighbor_ID(), node_3_neighbor_weights)\n",
    "    losses += loss\n",
    "    \n",
    "    node_4_neighbor_weights = [w_2, w_3]\n",
    "    node_4, loss, w_4 = decentralized_gd(node_4, node_4.get_neighbor_ID(), node_4_neighbor_weights)\n",
    "    losses += loss\n",
    "    \n",
    "    node_5_neighbor_weights = [w_4, w_6]\n",
    "    node_5, loss, w_5 = decentralized_gd(node_5, node_5.get_neighbor_ID(), node_5_neighbor_weights)\n",
    "    losses += loss\n",
    "    \n",
    "    node_6_neighbor_weights = [w_4, w_5]\n",
    "    node_6, loss, w_6 = decentralized_gd(node_6, node_6.get_neighbor_ID(), node_6_neighbor_weights)\n",
    "    losses += loss\n",
    "    \n",
    "    obj = losses/7\n",
    "    objective_values_with_weight.append(obj)\n",
    "print(objective_values_with_weight)"
   ]
  },
  {
   "cell_type": "markdown",
   "metadata": {},
   "source": [
    "## 1.8 Results"
   ]
  },
  {
   "cell_type": "code",
   "execution_count": 11,
   "metadata": {},
   "outputs": [
    {
     "data": {
      "image/png": "[encoded data removed]",
      "text/plain": [
       "<Figure size 720x576 with 1 Axes>"
      ]
     },
     "metadata": {
      "needs_background": "light"
     },
     "output_type": "display_data"
    }
   ],
   "source": [
    "import matplotlib.pyplot as plt \n",
    "%matplotlib inline\n",
    "\n",
    "fig = plt.figure(figsize=(10, 8))\n",
    "\n",
    "epochs_gd = range(epoch)\n",
    "\n",
    "line0, = plt.plot(epochs_gd, objective_values, '--b', LineWidth=4)\n",
    "line1, = plt.plot(epochs_gd, objective_values_with_weight, '-r', LineWidth=4)\n",
    "\n",
    "plt.xlabel('Epoch', FontSize=20)\n",
    "plt.ylabel('Objective Value', FontSize=20)\n",
    "plt.xticks(FontSize=16)\n",
    "plt.yticks(FontSize=16)\n",
    "plt.legend([line0,line1], ['without weighted averaging','with weighted averaging'], fontsize=20)\n",
    "plt.tight_layout()\n",
    "plt.show()\n",
    "fig.savefig('compare_weights.pdf', format='pdf', dpi=1200)"
   ]
  },
  {
   "cell_type": "code",
   "execution_count": null,
   "metadata": {},
   "outputs": [],
   "source": []
  }
 ],
 "metadata": {
  "kernelspec": {
   "display_name": "Python 3",
   "language": "python",
   "name": "python3"
  },
  "language_info": {
   "codemirror_mode": {
    "name": "ipython",
    "version": 3
   },
   "file_extension": ".py",
   "mimetype": "text/x-python",
   "name": "python",
   "nbconvert_exporter": "python",
   "pygments_lexer": "ipython3",
   "version": "3.7.4"
  }
 },
 "nbformat": 4,
 "nbformat_minor": 2
}
