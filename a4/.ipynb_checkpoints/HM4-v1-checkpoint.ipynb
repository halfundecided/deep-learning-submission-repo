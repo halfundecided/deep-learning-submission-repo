{
 "cells": [
  {
   "cell_type": "markdown",
   "metadata": {
    "colab_type": "text",
    "id": "edzMEOoUoxMc"
   },
   "source": [
    "# Home 4: Build a CNN for image recognition.\n",
    "\n",
    "### Name: Mijeong Ban\n"
   ]
  },
  {
   "cell_type": "markdown",
   "metadata": {
    "colab_type": "text",
    "id": "vt3n_AWBoxMh"
   },
   "source": [
    "## 0. You will do the following:\n",
    "\n",
    "1. Read, complete, and run the code.\n",
    "\n",
    "2. **Make substantial improvements** to maximize the accurcy.\n",
    "    \n",
    "3. Convert the .IPYNB file to .HTML file.\n",
    "\n",
    "    * The HTML file must contain the code and the output after execution.\n",
    "    \n",
    "    * Missing **the output after execution** will not be graded.\n",
    "    \n",
    "4. Upload this .HTML file to your Google Drive, Dropbox, or Github repo. (If you submit the file to Google Drive or Dropbox, you must make the file \"open-access\". The delay caused by \"deny of access\" may result in late penalty.)\n",
    "\n",
    "4. Submit the link to this .HTML file to Canvas.\n",
    "\n",
    "    * Example: https://github.com/wangshusen/CS583-2020S/blob/master/homework/HM4/HM4.html\n",
    "\n",
    "\n",
    "## Requirements:\n",
    "\n",
    "1. You can use whatever CNN architecture, including VGG, Inception, and ResNet. However, you must build the networks layer by layer. You must NOT import the archetectures from ```keras.applications```.\n",
    "\n",
    "2. Make sure ```BatchNormalization``` is between a ```Conv```/```Dense``` layer and an ```activation``` layer.\n",
    "\n",
    "3. If you want to regularize a ```Conv```/```Dense``` layer, you should place a ```Dropout``` layer **before** the ```Conv```/```Dense``` layer.\n",
    "\n",
    "4. An accuracy above 70% is considered reasonable. An accuracy above 80% is considered good. Without data augmentation, achieving 80% accuracy is difficult.\n",
    "\n",
    "\n",
    "## Google Colab\n",
    "\n",
    "- If you do not have GPU, the training of a CNN can be slow. Google Colab is a good option.\n",
    "\n",
    "- Keep in mind that you must download it as an IPYNB file and then use IPython Notebook to convert it to HTML.\n",
    "\n",
    "- Also keep in mind that the IPYNB and HTML files must contain the outputs. (Otherwise, the instructor will not be able to know the correctness and performance.) Do the followings to keep the outputs.\n",
    "\n",
    "- In Colab, go to ```Runtime``` --> ```Change runtime type``` --> Do NOT check ```Omit code cell output when saving this notebook```. In this way, the downloaded IPYNB file contains the outputs."
   ]
  },
  {
   "cell_type": "markdown",
   "metadata": {
    "colab_type": "text",
    "id": "bbVAZj4PoxMk"
   },
   "source": [
    "## 1. Data preparation"
   ]
  },
  {
   "cell_type": "markdown",
   "metadata": {
    "colab_type": "text",
    "id": "K3kOy-Y6oxMo"
   },
   "source": [
    "### 1.1. Load data\n"
   ]
  },
  {
   "cell_type": "code",
   "execution_count": 8,
   "metadata": {
    "colab": {
     "base_uri": "https://localhost:8080/",
     "height": 104
    },
    "colab_type": "code",
    "id": "VIVYzEU0oxMr",
    "outputId": "5f76bbaa-9482-4c4d-a3db-c59bdce68037"
   },
   "outputs": [
    {
     "name": "stdout",
     "output_type": "stream",
     "text": [
      "shape of x_train: (50000, 32, 32, 3)\n",
      "shape of y_train: (50000, 1)\n",
      "shape of x_test: (10000, 32, 32, 3)\n",
      "shape of y_test: (10000, 1)\n",
      "number of classes: 10\n"
     ]
    }
   ],
   "source": [
    "from keras.datasets import cifar10\n",
    "import numpy\n",
    "\n",
    "(x_train, y_train), (x_test, y_test) = cifar10.load_data()\n",
    "\n",
    "print('shape of x_train: ' + str(x_train.shape))\n",
    "print('shape of y_train: ' + str(y_train.shape))\n",
    "print('shape of x_test: ' + str(x_test.shape))\n",
    "print('shape of y_test: ' + str(y_test.shape))\n",
    "print('number of classes: ' + str(numpy.max(y_train) - numpy.min(y_train) + 1))"
   ]
  },
  {
   "cell_type": "markdown",
   "metadata": {
    "colab_type": "text",
    "id": "FQqZi6FwoxM4"
   },
   "source": [
    "### 1.2. One-hot encode the labels\n",
    "\n",
    "In the input, a label is a scalar in $\\{0, 1, \\cdots , 9\\}$. One-hot encode transform such a scalar to a $10$-dim vector. E.g., a scalar ```y_train[j]=3``` is transformed to the vector ```y_train_vec[j]=[0, 0, 0, 1, 0, 0, 0, 0, 0, 0]```.\n",
    "\n",
    "1. Define a function ```to_one_hot``` that transforms an $n\\times 1$ array to a $n\\times 10$ matrix.\n",
    "\n",
    "2. Apply the function to ```y_train``` and ```y_test```."
   ]
  },
  {
   "cell_type": "code",
   "execution_count": 9,
   "metadata": {
    "colab": {
     "base_uri": "https://localhost:8080/",
     "height": 86
    },
    "colab_type": "code",
    "id": "pBX7o-lhoxM7",
    "outputId": "2cd9276e-d93e-47b2-ef4b-19066a1abc3f"
   },
   "outputs": [
    {
     "name": "stdout",
     "output_type": "stream",
     "text": [
      "Shape of y_train_vec: (50000, 10)\n",
      "Shape of y_test_vec: (10000, 10)\n",
      "[6]\n",
      "[0. 0. 0. 0. 0. 0. 1. 0. 0. 0.]\n"
     ]
    }
   ],
   "source": [
    "import numpy as np\n",
    "\n",
    "def to_one_hot(y, num_class=10):\n",
    "    results = np.zeros((len(y), num_class))\n",
    "    for i, label in enumerate(y):\n",
    "        results[i, label] = 1.\n",
    "    return results\n",
    "\n",
    "y_train_vec = to_one_hot(y_train)\n",
    "y_test_vec = to_one_hot(y_test)\n",
    "\n",
    "print('Shape of y_train_vec: ' + str(y_train_vec.shape))\n",
    "print('Shape of y_test_vec: ' + str(y_test_vec.shape))\n",
    "\n",
    "print(y_train[0])\n",
    "print(y_train_vec[0])"
   ]
  },
  {
   "cell_type": "markdown",
   "metadata": {
    "colab_type": "text",
    "id": "B2tLYMgHoxND"
   },
   "source": [
    "#### Remark: the outputs should be\n",
    "* Shape of y_train_vec: (50000, 10)\n",
    "* Shape of y_test_vec: (10000, 10)\n",
    "* [6]\n",
    "* [0. 0. 0. 0. 0. 0. 1. 0. 0. 0.]"
   ]
  },
  {
   "cell_type": "markdown",
   "metadata": {
    "colab_type": "text",
    "id": "k4XdOm2voxNF"
   },
   "source": [
    "### 1.3. Randomly partition the training set to training and validation sets\n",
    "\n",
    "Randomly partition the 50K training samples to 2 sets:\n",
    "* a training set containing 40K samples\n",
    "* a validation set containing 10K samples\n"
   ]
  },
  {
   "cell_type": "code",
   "execution_count": 10,
   "metadata": {
    "colab": {
     "base_uri": "https://localhost:8080/",
     "height": 86
    },
    "colab_type": "code",
    "id": "3mE2ec9XoxNI",
    "outputId": "9ec852f1-1ed1-49a8-94d5-59be37dac440"
   },
   "outputs": [
    {
     "name": "stdout",
     "output_type": "stream",
     "text": [
      "Shape of x_tr: (40000, 32, 32, 3)\n",
      "Shape of y_tr: (40000, 10)\n",
      "Shape of x_val: (10000, 32, 32, 3)\n",
      "Shape of y_val: (10000, 10)\n"
     ]
    }
   ],
   "source": [
    "rand_indices = numpy.random.permutation(50000)\n",
    "train_indices = rand_indices[0:40000]\n",
    "valid_indices = rand_indices[40000:50000]\n",
    "\n",
    "x_val = x_train[valid_indices, :]\n",
    "y_val = y_train_vec[valid_indices, :]\n",
    "\n",
    "x_tr = x_train[train_indices, :]\n",
    "y_tr = y_train_vec[train_indices, :]\n",
    "\n",
    "print('Shape of x_tr: ' + str(x_tr.shape))\n",
    "print('Shape of y_tr: ' + str(y_tr.shape))\n",
    "print('Shape of x_val: ' + str(x_val.shape))\n",
    "print('Shape of y_val: ' + str(y_val.shape))"
   ]
  },
  {
   "cell_type": "markdown",
   "metadata": {
    "colab_type": "text",
    "id": "g2fL_tRmoxNQ"
   },
   "source": [
    "## 2. Build a CNN and tune its hyper-parameters\n",
    "\n",
    "1. Build a convolutional neural network model\n",
    "2. Use the validation data to tune the hyper-parameters (e.g., network structure, and optimization algorithm)\n",
    "    * Do NOT use test data for hyper-parameter tuning!!!\n",
    "3. Try to achieve a validation accuracy as high as possible."
   ]
  },
  {
   "cell_type": "markdown",
   "metadata": {
    "colab_type": "text",
    "id": "rIEI7m7roxNS"
   },
   "source": [
    "### Remark: \n",
    "\n",
    "The following CNN is just an example. You are supposed to make **substantial improvements** such as:\n",
    "* Add more layers.\n",
    "* Use regularizations, e.g., dropout.\n",
    "* Use batch normalization."
   ]
  },
  {
   "cell_type": "code",
   "execution_count": 11,
   "metadata": {
    "colab": {
     "base_uri": "https://localhost:8080/",
     "height": 1000
    },
    "colab_type": "code",
    "id": "KKz4tUbooxNU",
    "outputId": "4049c1d5-89c3-4138-80d9-002c3c72b535"
   },
   "outputs": [
    {
     "name": "stdout",
     "output_type": "stream",
     "text": [
      "Model: \"sequential_2\"\n",
      "_________________________________________________________________\n",
      "Layer (type)                 Output Shape              Param #   \n",
      "=================================================================\n",
      "conv2d_8 (Conv2D)            (None, 32, 32, 32)        896       \n",
      "_________________________________________________________________\n",
      "batch_normalization_9 (Batch (None, 32, 32, 32)        128       \n",
      "_________________________________________________________________\n",
      "activation_9 (Activation)    (None, 32, 32, 32)        0         \n",
      "_________________________________________________________________\n",
      "conv2d_9 (Conv2D)            (None, 32, 32, 32)        9248      \n",
      "_________________________________________________________________\n",
      "batch_normalization_10 (Batc (None, 32, 32, 32)        128       \n",
      "_________________________________________________________________\n",
      "activation_10 (Activation)   (None, 32, 32, 32)        0         \n",
      "_________________________________________________________________\n",
      "max_pooling2d_4 (MaxPooling2 (None, 16, 16, 32)        0         \n",
      "_________________________________________________________________\n",
      "dropout_4 (Dropout)          (None, 16, 16, 32)        0         \n",
      "_________________________________________________________________\n",
      "conv2d_10 (Conv2D)           (None, 16, 16, 64)        18496     \n",
      "_________________________________________________________________\n",
      "batch_normalization_11 (Batc (None, 16, 16, 64)        256       \n",
      "_________________________________________________________________\n",
      "activation_11 (Activation)   (None, 16, 16, 64)        0         \n",
      "_________________________________________________________________\n",
      "conv2d_11 (Conv2D)           (None, 16, 16, 64)        36928     \n",
      "_________________________________________________________________\n",
      "batch_normalization_12 (Batc (None, 16, 16, 64)        256       \n",
      "_________________________________________________________________\n",
      "activation_12 (Activation)   (None, 16, 16, 64)        0         \n",
      "_________________________________________________________________\n",
      "max_pooling2d_5 (MaxPooling2 (None, 8, 8, 64)          0         \n",
      "_________________________________________________________________\n",
      "dropout_5 (Dropout)          (None, 8, 8, 64)          0         \n",
      "_________________________________________________________________\n",
      "conv2d_12 (Conv2D)           (None, 8, 8, 128)         73856     \n",
      "_________________________________________________________________\n",
      "batch_normalization_13 (Batc (None, 8, 8, 128)         512       \n",
      "_________________________________________________________________\n",
      "activation_13 (Activation)   (None, 8, 8, 128)         0         \n",
      "_________________________________________________________________\n",
      "conv2d_13 (Conv2D)           (None, 8, 8, 128)         147584    \n",
      "_________________________________________________________________\n",
      "batch_normalization_14 (Batc (None, 8, 8, 128)         512       \n",
      "_________________________________________________________________\n",
      "activation_14 (Activation)   (None, 8, 8, 128)         0         \n",
      "_________________________________________________________________\n",
      "conv2d_14 (Conv2D)           (None, 8, 8, 128)         147584    \n",
      "_________________________________________________________________\n",
      "batch_normalization_15 (Batc (None, 8, 8, 128)         512       \n",
      "_________________________________________________________________\n",
      "activation_15 (Activation)   (None, 8, 8, 128)         0         \n",
      "_________________________________________________________________\n",
      "max_pooling2d_6 (MaxPooling2 (None, 4, 4, 128)         0         \n",
      "_________________________________________________________________\n",
      "flatten_2 (Flatten)          (None, 2048)              0         \n",
      "_________________________________________________________________\n",
      "dropout_6 (Dropout)          (None, 2048)              0         \n",
      "_________________________________________________________________\n",
      "dense_3 (Dense)              (None, 128)               262272    \n",
      "_________________________________________________________________\n",
      "batch_normalization_16 (Batc (None, 128)               512       \n",
      "_________________________________________________________________\n",
      "activation_16 (Activation)   (None, 128)               0         \n",
      "_________________________________________________________________\n",
      "dense_4 (Dense)              (None, 10)                1290      \n",
      "=================================================================\n",
      "Total params: 700,970\n",
      "Trainable params: 699,562\n",
      "Non-trainable params: 1,408\n",
      "_________________________________________________________________\n"
     ]
    }
   ],
   "source": [
    "from keras.layers import Conv2D, Activation, MaxPooling2D, BatchNormalization, Flatten, Dense, Dropout\n",
    "from keras.models import Sequential\n",
    "\n",
    "model = Sequential()\n",
    "model.add(Conv2D(32, (3, 3), padding='same', input_shape=(32, 32, 3)))\n",
    "model.add(BatchNormalization())\n",
    "model.add(Activation('relu'))\n",
    "# model.add(MaxPooling2D((2, 2)))\n",
    "model.add(Conv2D(32, (3, 3), padding='same'))\n",
    "model.add(BatchNormalization())\n",
    "model.add(Activation('relu'))\n",
    "model.add(MaxPooling2D(2, 2))\n",
    "\n",
    "model.add(Dropout(0.3))\n",
    "\n",
    "model.add(Conv2D(64, (3, 3), padding='same'))\n",
    "model.add(BatchNormalization())\n",
    "model.add(Activation('relu'))\n",
    "# model.add(MaxPooling2D((2, 2)))\n",
    "model.add(Conv2D(64, (3, 3), padding='same'))\n",
    "model.add(BatchNormalization())\n",
    "model.add(Activation('relu'))\n",
    "model.add(MaxPooling2D((2, 2)))\n",
    "\n",
    "model.add(Dropout(0.4))\n",
    "\n",
    "model.add(Conv2D(128, (3, 3), padding='same'))\n",
    "model.add(BatchNormalization())\n",
    "model.add(Activation('relu'))\n",
    "# model.add(MaxPooling2D(2, 2))\n",
    "model.add(Conv2D(128, (3, 3), padding='same'))\n",
    "model.add(BatchNormalization())\n",
    "model.add(Activation('relu'))\n",
    "# model.add(MaxPooling2D(2, 2))\n",
    "model.add(Conv2D(128, (3, 3), padding='same'))\n",
    "model.add(BatchNormalization())\n",
    "model.add(Activation('relu'))\n",
    "model.add(MaxPooling2D(2, 2))\n",
    "\n",
    "model.add(Flatten())\n",
    "\n",
    "model.add(Dropout(0.5))\n",
    "\n",
    "model.add(Dense(128))\n",
    "model.add(BatchNormalization())\n",
    "model.add(Activation('relu'))\n",
    "model.add(Dense(10, activation='softmax'))\n",
    "\n",
    "model.summary()"
   ]
  },
  {
   "cell_type": "code",
   "execution_count": 0,
   "metadata": {
    "colab": {},
    "colab_type": "code",
    "id": "0SMzfNjzoxNa"
   },
   "outputs": [],
   "source": [
    "from keras import optimizers\n",
    "\n",
    "learning_rate = 1E-3 # to be tuned!\n",
    "\n",
    "model.compile(loss='categorical_crossentropy',\n",
    "              optimizer=optimizers.RMSprop(lr=learning_rate),\n",
    "              metrics=['acc'])"
   ]
  },
  {
   "cell_type": "code",
   "execution_count": 0,
   "metadata": {
    "colab": {},
    "colab_type": "code",
    "id": "rzu-j_REoxNg"
   },
   "outputs": [],
   "source": [
    "# Data Augmentation\n",
    "from keras.preprocessing.image import ImageDataGenerator\n",
    "train_datagen = ImageDataGenerator(\n",
    "    rotation_range=20, \n",
    "    width_shift_range=0.2, \n",
    "    height_shift_range=0.2, \n",
    "    zoom_range=0.1, \n",
    "    horizontal_flip=True\n",
    ")\n",
    "train_datagen.fit(x_tr)\n",
    "train_generator = train_datagen.flow(x_tr, y_tr, batch_size=64)"
   ]
  },
  {
   "cell_type": "code",
   "execution_count": 14,
   "metadata": {
    "colab": {
     "base_uri": "https://localhost:8080/",
     "height": 1000
    },
    "colab_type": "code",
    "id": "cSInP8WRoxNm",
    "outputId": "8b7f24ad-a500-4ea2-d43c-630f99196451"
   },
   "outputs": [
    {
     "name": "stdout",
     "output_type": "stream",
     "text": [
      "Epoch 1/100\n",
      "625/625 [==============================] - 24s 38ms/step - loss: 1.6762 - acc: 0.3813 - val_loss: 2.9124 - val_acc: 0.3164\n",
      "Epoch 2/100\n",
      "625/625 [==============================] - 22s 35ms/step - loss: 1.3523 - acc: 0.5062 - val_loss: 1.2796 - val_acc: 0.5466\n",
      "Epoch 3/100\n",
      "625/625 [==============================] - 22s 35ms/step - loss: 1.2129 - acc: 0.5657 - val_loss: 1.4402 - val_acc: 0.5433\n",
      "Epoch 4/100\n",
      "625/625 [==============================] - 22s 35ms/step - loss: 1.1253 - acc: 0.6003 - val_loss: 1.2614 - val_acc: 0.5824\n",
      "Epoch 5/100\n",
      "625/625 [==============================] - 22s 35ms/step - loss: 1.0514 - acc: 0.6268 - val_loss: 1.0273 - val_acc: 0.6694\n",
      "Epoch 6/100\n",
      "625/625 [==============================] - 22s 35ms/step - loss: 0.9966 - acc: 0.6486 - val_loss: 1.4241 - val_acc: 0.5774\n",
      "Epoch 7/100\n",
      "625/625 [==============================] - 22s 35ms/step - loss: 0.9546 - acc: 0.6639 - val_loss: 1.5385 - val_acc: 0.5464\n",
      "Epoch 8/100\n",
      "625/625 [==============================] - 22s 35ms/step - loss: 0.9154 - acc: 0.6788 - val_loss: 1.2217 - val_acc: 0.6267\n",
      "Epoch 9/100\n",
      "625/625 [==============================] - 22s 35ms/step - loss: 0.8832 - acc: 0.6919 - val_loss: 0.9355 - val_acc: 0.7058\n",
      "Epoch 10/100\n",
      "625/625 [==============================] - 22s 35ms/step - loss: 0.8527 - acc: 0.7002 - val_loss: 0.7853 - val_acc: 0.7316\n",
      "Epoch 11/100\n",
      "625/625 [==============================] - 22s 35ms/step - loss: 0.8336 - acc: 0.7089 - val_loss: 0.9421 - val_acc: 0.7096\n",
      "Epoch 12/100\n",
      "625/625 [==============================] - 22s 35ms/step - loss: 0.8043 - acc: 0.7188 - val_loss: 0.8150 - val_acc: 0.7366\n",
      "Epoch 13/100\n",
      "625/625 [==============================] - 22s 35ms/step - loss: 0.7952 - acc: 0.7248 - val_loss: 1.0012 - val_acc: 0.7056\n",
      "Epoch 14/100\n",
      "625/625 [==============================] - 22s 36ms/step - loss: 0.7743 - acc: 0.7297 - val_loss: 1.4257 - val_acc: 0.6402\n",
      "Epoch 15/100\n",
      "625/625 [==============================] - 22s 35ms/step - loss: 0.7578 - acc: 0.7373 - val_loss: 0.8414 - val_acc: 0.7373\n",
      "Epoch 16/100\n",
      "625/625 [==============================] - 22s 35ms/step - loss: 0.7475 - acc: 0.7413 - val_loss: 0.7472 - val_acc: 0.7582\n",
      "Epoch 17/100\n",
      "625/625 [==============================] - 22s 35ms/step - loss: 0.7368 - acc: 0.7456 - val_loss: 0.7528 - val_acc: 0.7646\n",
      "Epoch 18/100\n",
      "625/625 [==============================] - 22s 35ms/step - loss: 0.7193 - acc: 0.7509 - val_loss: 0.8641 - val_acc: 0.7327\n",
      "Epoch 19/100\n",
      "625/625 [==============================] - 22s 35ms/step - loss: 0.7107 - acc: 0.7563 - val_loss: 0.6995 - val_acc: 0.7743\n",
      "Epoch 20/100\n",
      "625/625 [==============================] - 22s 35ms/step - loss: 0.7005 - acc: 0.7582 - val_loss: 0.7210 - val_acc: 0.7825\n",
      "Epoch 21/100\n",
      "625/625 [==============================] - 22s 34ms/step - loss: 0.6819 - acc: 0.7669 - val_loss: 0.9536 - val_acc: 0.7369\n",
      "Epoch 22/100\n",
      "625/625 [==============================] - 22s 35ms/step - loss: 0.6773 - acc: 0.7665 - val_loss: 0.5937 - val_acc: 0.8086\n",
      "Epoch 23/100\n",
      "625/625 [==============================] - 22s 35ms/step - loss: 0.6712 - acc: 0.7702 - val_loss: 0.6620 - val_acc: 0.7860\n",
      "Epoch 24/100\n",
      "625/625 [==============================] - 22s 35ms/step - loss: 0.6650 - acc: 0.7714 - val_loss: 0.6650 - val_acc: 0.7913\n",
      "Epoch 25/100\n",
      "625/625 [==============================] - 22s 35ms/step - loss: 0.6546 - acc: 0.7735 - val_loss: 0.6840 - val_acc: 0.7862\n",
      "Epoch 26/100\n",
      "625/625 [==============================] - 22s 34ms/step - loss: 0.6471 - acc: 0.7785 - val_loss: 0.5702 - val_acc: 0.8177\n",
      "Epoch 27/100\n",
      "625/625 [==============================] - 22s 35ms/step - loss: 0.6403 - acc: 0.7804 - val_loss: 0.7491 - val_acc: 0.7680\n",
      "Epoch 28/100\n",
      "625/625 [==============================] - 22s 35ms/step - loss: 0.6346 - acc: 0.7826 - val_loss: 0.7684 - val_acc: 0.7843\n",
      "Epoch 29/100\n",
      "625/625 [==============================] - 22s 35ms/step - loss: 0.6293 - acc: 0.7811 - val_loss: 0.6683 - val_acc: 0.8012\n",
      "Epoch 30/100\n",
      "625/625 [==============================] - 22s 35ms/step - loss: 0.6273 - acc: 0.7813 - val_loss: 0.7033 - val_acc: 0.7853\n",
      "Epoch 31/100\n",
      "625/625 [==============================] - 22s 35ms/step - loss: 0.6216 - acc: 0.7875 - val_loss: 0.6581 - val_acc: 0.8017\n",
      "Epoch 32/100\n",
      "625/625 [==============================] - 22s 34ms/step - loss: 0.6173 - acc: 0.7861 - val_loss: 0.5720 - val_acc: 0.8266\n",
      "Epoch 33/100\n",
      "625/625 [==============================] - 21s 34ms/step - loss: 0.6166 - acc: 0.7883 - val_loss: 0.6968 - val_acc: 0.7914\n",
      "Epoch 34/100\n",
      "625/625 [==============================] - 22s 35ms/step - loss: 0.6040 - acc: 0.7914 - val_loss: 0.8176 - val_acc: 0.7756\n",
      "Epoch 35/100\n",
      "625/625 [==============================] - 22s 35ms/step - loss: 0.5970 - acc: 0.7950 - val_loss: 0.5443 - val_acc: 0.8321\n",
      "Epoch 36/100\n",
      "625/625 [==============================] - 22s 35ms/step - loss: 0.5888 - acc: 0.7973 - val_loss: 0.7012 - val_acc: 0.7907\n",
      "Epoch 37/100\n",
      "625/625 [==============================] - 22s 35ms/step - loss: 0.5889 - acc: 0.7973 - val_loss: 0.8287 - val_acc: 0.7810\n",
      "Epoch 38/100\n",
      "625/625 [==============================] - 22s 35ms/step - loss: 0.5878 - acc: 0.7971 - val_loss: 0.7571 - val_acc: 0.7836\n",
      "Epoch 39/100\n",
      "625/625 [==============================] - 22s 35ms/step - loss: 0.5839 - acc: 0.7980 - val_loss: 0.5898 - val_acc: 0.8220\n",
      "Epoch 40/100\n",
      "625/625 [==============================] - 22s 35ms/step - loss: 0.5821 - acc: 0.7995 - val_loss: 0.6636 - val_acc: 0.7930\n",
      "Epoch 41/100\n",
      "625/625 [==============================] - 22s 35ms/step - loss: 0.5724 - acc: 0.8029 - val_loss: 0.6634 - val_acc: 0.7980\n",
      "Epoch 42/100\n",
      "625/625 [==============================] - 23s 36ms/step - loss: 0.5705 - acc: 0.8033 - val_loss: 0.6532 - val_acc: 0.8037\n",
      "Epoch 43/100\n",
      "625/625 [==============================] - 22s 36ms/step - loss: 0.5663 - acc: 0.8059 - val_loss: 0.6199 - val_acc: 0.8096\n",
      "Epoch 44/100\n",
      "625/625 [==============================] - 22s 35ms/step - loss: 0.5629 - acc: 0.8053 - val_loss: 0.5037 - val_acc: 0.8407\n",
      "Epoch 45/100\n",
      "625/625 [==============================] - 22s 35ms/step - loss: 0.5593 - acc: 0.8074 - val_loss: 0.6683 - val_acc: 0.8022\n",
      "Epoch 46/100\n",
      "625/625 [==============================] - 22s 35ms/step - loss: 0.5598 - acc: 0.8059 - val_loss: 0.5522 - val_acc: 0.8280\n",
      "Epoch 47/100\n",
      "625/625 [==============================] - 22s 35ms/step - loss: 0.5546 - acc: 0.8088 - val_loss: 0.6232 - val_acc: 0.8098\n",
      "Epoch 48/100\n",
      "625/625 [==============================] - 22s 35ms/step - loss: 0.5480 - acc: 0.8114 - val_loss: 0.6028 - val_acc: 0.8238\n",
      "Epoch 49/100\n",
      "625/625 [==============================] - 22s 35ms/step - loss: 0.5485 - acc: 0.8141 - val_loss: 0.5800 - val_acc: 0.8276\n",
      "Epoch 50/100\n",
      "625/625 [==============================] - 22s 35ms/step - loss: 0.5432 - acc: 0.8134 - val_loss: 0.5599 - val_acc: 0.8274\n",
      "Epoch 51/100\n",
      "625/625 [==============================] - 22s 35ms/step - loss: 0.5355 - acc: 0.8152 - val_loss: 0.6135 - val_acc: 0.8138\n",
      "Epoch 52/100\n",
      "625/625 [==============================] - 22s 35ms/step - loss: 0.5417 - acc: 0.8145 - val_loss: 0.6450 - val_acc: 0.7962\n",
      "Epoch 53/100\n",
      "625/625 [==============================] - 22s 35ms/step - loss: 0.5382 - acc: 0.8153 - val_loss: 0.5661 - val_acc: 0.8279\n",
      "Epoch 54/100\n",
      "625/625 [==============================] - 22s 35ms/step - loss: 0.5354 - acc: 0.8164 - val_loss: 0.6616 - val_acc: 0.8012\n",
      "Epoch 55/100\n",
      "625/625 [==============================] - 22s 35ms/step - loss: 0.5287 - acc: 0.8172 - val_loss: 0.4987 - val_acc: 0.8538\n",
      "Epoch 56/100\n",
      "625/625 [==============================] - 22s 35ms/step - loss: 0.5270 - acc: 0.8199 - val_loss: 0.6518 - val_acc: 0.8095\n",
      "Epoch 57/100\n",
      "625/625 [==============================] - 22s 35ms/step - loss: 0.5289 - acc: 0.8183 - val_loss: 0.5228 - val_acc: 0.8331\n",
      "Epoch 58/100\n",
      "625/625 [==============================] - 22s 35ms/step - loss: 0.5223 - acc: 0.8206 - val_loss: 0.5033 - val_acc: 0.8416\n",
      "Epoch 59/100\n",
      "625/625 [==============================] - 22s 35ms/step - loss: 0.5282 - acc: 0.8192 - val_loss: 0.6427 - val_acc: 0.8204\n",
      "Epoch 60/100\n",
      "625/625 [==============================] - 22s 35ms/step - loss: 0.5240 - acc: 0.8206 - val_loss: 0.5579 - val_acc: 0.8387\n",
      "Epoch 61/100\n",
      "625/625 [==============================] - 22s 35ms/step - loss: 0.5186 - acc: 0.8217 - val_loss: 0.6613 - val_acc: 0.8129\n",
      "Epoch 62/100\n",
      "625/625 [==============================] - 22s 35ms/step - loss: 0.5145 - acc: 0.8225 - val_loss: 0.5443 - val_acc: 0.8397\n",
      "Epoch 63/100\n",
      "625/625 [==============================] - 22s 35ms/step - loss: 0.5119 - acc: 0.8237 - val_loss: 0.6899 - val_acc: 0.8198\n",
      "Epoch 64/100\n",
      "625/625 [==============================] - 22s 35ms/step - loss: 0.5128 - acc: 0.8238 - val_loss: 0.5703 - val_acc: 0.8347\n",
      "Epoch 65/100\n",
      "625/625 [==============================] - 22s 35ms/step - loss: 0.5060 - acc: 0.8247 - val_loss: 0.5492 - val_acc: 0.8396\n",
      "Epoch 66/100\n",
      "625/625 [==============================] - 22s 35ms/step - loss: 0.5096 - acc: 0.8237 - val_loss: 0.6963 - val_acc: 0.8059\n",
      "Epoch 67/100\n",
      "625/625 [==============================] - 22s 36ms/step - loss: 0.5041 - acc: 0.8253 - val_loss: 0.5986 - val_acc: 0.8253\n",
      "Epoch 68/100\n",
      "625/625 [==============================] - 23s 36ms/step - loss: 0.5017 - acc: 0.8265 - val_loss: 0.5290 - val_acc: 0.8458\n",
      "Epoch 69/100\n",
      "625/625 [==============================] - 22s 36ms/step - loss: 0.4991 - acc: 0.8288 - val_loss: 0.5135 - val_acc: 0.8441\n",
      "Epoch 70/100\n",
      "625/625 [==============================] - 22s 36ms/step - loss: 0.5023 - acc: 0.8277 - val_loss: 0.5756 - val_acc: 0.8372\n",
      "Epoch 71/100\n",
      "625/625 [==============================] - 23s 36ms/step - loss: 0.5010 - acc: 0.8285 - val_loss: 0.5130 - val_acc: 0.8463\n",
      "Epoch 72/100\n",
      "625/625 [==============================] - 22s 35ms/step - loss: 0.4984 - acc: 0.8275 - val_loss: 0.6621 - val_acc: 0.8198\n",
      "Epoch 73/100\n",
      "625/625 [==============================] - 22s 35ms/step - loss: 0.4967 - acc: 0.8299 - val_loss: 0.4600 - val_acc: 0.8591\n",
      "Epoch 74/100\n",
      "625/625 [==============================] - 22s 35ms/step - loss: 0.4872 - acc: 0.8320 - val_loss: 0.5276 - val_acc: 0.8388\n",
      "Epoch 75/100\n",
      "625/625 [==============================] - 22s 36ms/step - loss: 0.4939 - acc: 0.8289 - val_loss: 0.6063 - val_acc: 0.8174\n",
      "Epoch 76/100\n",
      "625/625 [==============================] - 22s 35ms/step - loss: 0.4865 - acc: 0.8320 - val_loss: 0.5067 - val_acc: 0.8463\n",
      "Epoch 77/100\n",
      "625/625 [==============================] - 22s 35ms/step - loss: 0.4829 - acc: 0.8337 - val_loss: 0.6753 - val_acc: 0.8209\n",
      "Epoch 78/100\n",
      "625/625 [==============================] - 22s 35ms/step - loss: 0.4866 - acc: 0.8343 - val_loss: 0.5439 - val_acc: 0.8357\n",
      "Epoch 79/100\n",
      "625/625 [==============================] - 22s 36ms/step - loss: 0.4778 - acc: 0.8352 - val_loss: 0.5296 - val_acc: 0.8437\n",
      "Epoch 80/100\n",
      "625/625 [==============================] - 22s 35ms/step - loss: 0.4731 - acc: 0.8364 - val_loss: 0.5680 - val_acc: 0.8390\n",
      "Epoch 81/100\n",
      "625/625 [==============================] - 22s 35ms/step - loss: 0.4759 - acc: 0.8353 - val_loss: 0.5670 - val_acc: 0.8381\n",
      "Epoch 82/100\n",
      "625/625 [==============================] - 22s 35ms/step - loss: 0.4762 - acc: 0.8347 - val_loss: 0.4882 - val_acc: 0.8591\n",
      "Epoch 83/100\n",
      "625/625 [==============================] - 22s 35ms/step - loss: 0.4791 - acc: 0.8349 - val_loss: 0.4932 - val_acc: 0.8553\n",
      "Epoch 84/100\n",
      "625/625 [==============================] - 22s 35ms/step - loss: 0.4698 - acc: 0.8391 - val_loss: 0.5462 - val_acc: 0.8471\n",
      "Epoch 85/100\n",
      "625/625 [==============================] - 22s 35ms/step - loss: 0.4756 - acc: 0.8360 - val_loss: 0.4755 - val_acc: 0.8577\n",
      "Epoch 86/100\n",
      "625/625 [==============================] - 22s 35ms/step - loss: 0.4721 - acc: 0.8360 - val_loss: 0.5132 - val_acc: 0.8476\n",
      "Epoch 87/100\n",
      "625/625 [==============================] - 22s 35ms/step - loss: 0.4787 - acc: 0.8360 - val_loss: 0.4970 - val_acc: 0.8526\n",
      "Epoch 88/100\n",
      "625/625 [==============================] - 22s 34ms/step - loss: 0.4677 - acc: 0.8366 - val_loss: 0.5833 - val_acc: 0.8365\n",
      "Epoch 89/100\n",
      "625/625 [==============================] - 22s 35ms/step - loss: 0.4696 - acc: 0.8372 - val_loss: 0.6982 - val_acc: 0.8282\n",
      "Epoch 90/100\n",
      "625/625 [==============================] - 22s 35ms/step - loss: 0.4591 - acc: 0.8412 - val_loss: 0.5506 - val_acc: 0.8461\n",
      "Epoch 91/100\n",
      "625/625 [==============================] - 22s 35ms/step - loss: 0.4613 - acc: 0.8410 - val_loss: 0.5378 - val_acc: 0.8455\n",
      "Epoch 92/100\n",
      "625/625 [==============================] - 21s 34ms/step - loss: 0.4674 - acc: 0.8412 - val_loss: 0.4881 - val_acc: 0.8580\n",
      "Epoch 93/100\n",
      "625/625 [==============================] - 22s 35ms/step - loss: 0.4599 - acc: 0.8414 - val_loss: 0.5452 - val_acc: 0.8498\n",
      "Epoch 94/100\n",
      "625/625 [==============================] - 22s 35ms/step - loss: 0.4551 - acc: 0.8431 - val_loss: 0.7366 - val_acc: 0.8110\n",
      "Epoch 95/100\n",
      "625/625 [==============================] - 22s 35ms/step - loss: 0.4574 - acc: 0.8402 - val_loss: 0.5190 - val_acc: 0.8578\n",
      "Epoch 96/100\n",
      "625/625 [==============================] - 22s 35ms/step - loss: 0.4611 - acc: 0.8417 - val_loss: 0.4281 - val_acc: 0.8693\n",
      "Epoch 97/100\n",
      "625/625 [==============================] - 22s 35ms/step - loss: 0.4565 - acc: 0.8433 - val_loss: 0.5107 - val_acc: 0.8505\n",
      "Epoch 98/100\n",
      "625/625 [==============================] - 22s 35ms/step - loss: 0.4600 - acc: 0.8419 - val_loss: 0.5148 - val_acc: 0.8512\n",
      "Epoch 99/100\n",
      "625/625 [==============================] - 22s 35ms/step - loss: 0.4570 - acc: 0.8428 - val_loss: 0.6470 - val_acc: 0.8262\n",
      "Epoch 100/100\n",
      "625/625 [==============================] - 22s 35ms/step - loss: 0.4579 - acc: 0.8412 - val_loss: 0.6248 - val_acc: 0.8324\n"
     ]
    }
   ],
   "source": [
    "# history = model.fit(x_tr, y_tr, batch_size=32, epochs=10, validation_data=(x_val, y_val))\n",
    "step = int(x_tr.shape[0] / 64)\n",
    "history = model.fit_generator(train_generator, steps_per_epoch=step, epochs = 100, validation_data=(x_val, y_val))"
   ]
  },
  {
   "cell_type": "code",
   "execution_count": 15,
   "metadata": {
    "colab": {
     "base_uri": "https://localhost:8080/",
     "height": 573
    },
    "colab_type": "code",
    "id": "Syydo60hoxNr",
    "outputId": "f7da2d8d-172b-4b2a-b054-80731f671fa8"
   },
   "outputs": [
    {
     "data": {
      "image/png": "[encoded data removed]",
      "text/plain": [
       "<Figure size 432x288 with 1 Axes>"
      ]
     },
     "metadata": {
      "tags": []
     },
     "output_type": "display_data"
    },
    {
     "data": {
      "image/png": "[encoded data removed]",
      "text/plain": [
       "<Figure size 432x288 with 1 Axes>"
      ]
     },
     "metadata": {
      "tags": []
     },
     "output_type": "display_data"
    }
   ],
   "source": [
    "import matplotlib.pyplot as plt\n",
    "%matplotlib inline\n",
    "\n",
    "acc = history.history['acc']\n",
    "val_acc = history.history['val_acc']\n",
    "\n",
    "loss = history.history['loss']\n",
    "val_loss = history.history['val_loss']\n",
    "\n",
    "epochs = range(len(acc))\n",
    "\n",
    "plt.title('Training & Validation Accuracy')\n",
    "plt.plot(epochs, acc, 'bo', label='Training acc')\n",
    "plt.plot(epochs, val_acc, 'r', label='Validation acc')\n",
    "plt.xlabel('Epochs')\n",
    "plt.ylabel('Accuracy')\n",
    "plt.legend()\n",
    "plt.show()\n",
    "\n",
    "plt.title('Training & Validation Loss')\n",
    "plt.plot(epochs, loss, 'bo', label='Training loss')\n",
    "plt.plot(epochs, val_loss, 'r', label='Validation loss')\n",
    "plt.xlabel('Epochs')\n",
    "plt.ylabel('Loss')\n",
    "plt.legend()\n",
    "plt.show()"
   ]
  },
  {
   "cell_type": "markdown",
   "metadata": {
    "colab_type": "text",
    "id": "yMBlu1wBoxNz"
   },
   "source": [
    "## 3. Train (again) and evaluate the model\n",
    "\n",
    "- To this end, you have found the \"best\" hyper-parameters. \n",
    "- Now, fix the hyper-parameters and train the network on the entire training set (all the 50K training samples)\n",
    "- Evaluate your model on the test set."
   ]
  },
  {
   "cell_type": "markdown",
   "metadata": {
    "colab_type": "text",
    "id": "kEQTweV9oxN1"
   },
   "source": [
    "### 3.1. Train the model on the entire training set\n",
    "\n",
    "Why? Previously, you used 40K samples for training; you wasted 10K samples for the sake of hyper-parameter tuning. Now you already know the hyper-parameters, so why not using all the 50K samples for training?"
   ]
  },
  {
   "cell_type": "code",
   "execution_count": 0,
   "metadata": {
    "colab": {},
    "colab_type": "code",
    "id": "6p34IRgmoxN2"
   },
   "outputs": [],
   "source": [
    "# <Compile your model again (using the same hyper-parameters)>\n",
    "learning_rate = 1E-3\n",
    "\n",
    "model.compile(loss='categorical_crossentropy',\n",
    "              optimizer=optimizers.RMSprop(lr=learning_rate),\n",
    "              metrics=['acc'])"
   ]
  },
  {
   "cell_type": "code",
   "execution_count": 17,
   "metadata": {
    "colab": {
     "base_uri": "https://localhost:8080/",
     "height": 1000
    },
    "colab_type": "code",
    "id": "UzpEH84eoxN8",
    "outputId": "c094145c-ae90-4309-bdda-700f81e5d968"
   },
   "outputs": [
    {
     "name": "stdout",
     "output_type": "stream",
     "text": [
      "Epoch 1/100\n",
      "100/100 [==============================] - 5s 46ms/step - loss: 0.4696 - acc: 0.8355\n",
      "Epoch 2/100\n",
      "100/100 [==============================] - 3s 35ms/step - loss: 0.4591 - acc: 0.8425\n",
      "Epoch 3/100\n",
      "100/100 [==============================] - 3s 34ms/step - loss: 0.4556 - acc: 0.8403\n",
      "Epoch 4/100\n",
      "100/100 [==============================] - 3s 35ms/step - loss: 0.4945 - acc: 0.8253\n",
      "Epoch 5/100\n",
      "100/100 [==============================] - 3s 35ms/step - loss: 0.4938 - acc: 0.8313\n",
      "Epoch 6/100\n",
      "100/100 [==============================] - 3s 34ms/step - loss: 0.4811 - acc: 0.8309\n",
      "Epoch 7/100\n",
      "100/100 [==============================] - 3s 35ms/step - loss: 0.4966 - acc: 0.8312\n",
      "Epoch 8/100\n",
      "100/100 [==============================] - 3s 35ms/step - loss: 0.4902 - acc: 0.8377\n",
      "Epoch 9/100\n",
      "100/100 [==============================] - 4s 35ms/step - loss: 0.4789 - acc: 0.8395\n",
      "Epoch 10/100\n",
      "100/100 [==============================] - 3s 35ms/step - loss: 0.4725 - acc: 0.8411\n",
      "Epoch 11/100\n",
      "100/100 [==============================] - 3s 34ms/step - loss: 0.4686 - acc: 0.8337\n",
      "Epoch 12/100\n",
      "100/100 [==============================] - 3s 34ms/step - loss: 0.4772 - acc: 0.8383\n",
      "Epoch 13/100\n",
      "100/100 [==============================] - 3s 34ms/step - loss: 0.4481 - acc: 0.8469\n",
      "Epoch 14/100\n",
      "100/100 [==============================] - 3s 34ms/step - loss: 0.4847 - acc: 0.8345\n",
      "Epoch 15/100\n",
      "100/100 [==============================] - 3s 34ms/step - loss: 0.4681 - acc: 0.8381\n",
      "Epoch 16/100\n",
      "100/100 [==============================] - 3s 35ms/step - loss: 0.4501 - acc: 0.8395\n",
      "Epoch 17/100\n",
      "100/100 [==============================] - 3s 34ms/step - loss: 0.4657 - acc: 0.8392\n",
      "Epoch 18/100\n",
      "100/100 [==============================] - 3s 34ms/step - loss: 0.4685 - acc: 0.8406\n",
      "Epoch 19/100\n",
      "100/100 [==============================] - 3s 35ms/step - loss: 0.4882 - acc: 0.8300\n",
      "Epoch 20/100\n",
      "100/100 [==============================] - 3s 35ms/step - loss: 0.4815 - acc: 0.8361\n",
      "Epoch 21/100\n",
      "100/100 [==============================] - 3s 35ms/step - loss: 0.4722 - acc: 0.8367\n",
      "Epoch 22/100\n",
      "100/100 [==============================] - 3s 35ms/step - loss: 0.4784 - acc: 0.8309\n",
      "Epoch 23/100\n",
      "100/100 [==============================] - 3s 34ms/step - loss: 0.4648 - acc: 0.8406\n",
      "Epoch 24/100\n",
      "100/100 [==============================] - 4s 36ms/step - loss: 0.4790 - acc: 0.8348\n",
      "Epoch 25/100\n",
      "100/100 [==============================] - 3s 35ms/step - loss: 0.4626 - acc: 0.8363\n",
      "Epoch 26/100\n",
      "100/100 [==============================] - 3s 34ms/step - loss: 0.4736 - acc: 0.8373\n",
      "Epoch 27/100\n",
      "100/100 [==============================] - 3s 34ms/step - loss: 0.4530 - acc: 0.8406\n",
      "Epoch 28/100\n",
      "100/100 [==============================] - 3s 34ms/step - loss: 0.4694 - acc: 0.8405\n",
      "Epoch 29/100\n",
      "100/100 [==============================] - 3s 34ms/step - loss: 0.4557 - acc: 0.8439\n",
      "Epoch 30/100\n",
      "100/100 [==============================] - 3s 34ms/step - loss: 0.4717 - acc: 0.8406\n",
      "Epoch 31/100\n",
      "100/100 [==============================] - 3s 34ms/step - loss: 0.4621 - acc: 0.8408\n",
      "Epoch 32/100\n",
      "100/100 [==============================] - 3s 34ms/step - loss: 0.4745 - acc: 0.8375\n",
      "Epoch 33/100\n",
      "100/100 [==============================] - 3s 34ms/step - loss: 0.4569 - acc: 0.8394\n",
      "Epoch 34/100\n",
      "100/100 [==============================] - 3s 34ms/step - loss: 0.4608 - acc: 0.8423\n",
      "Epoch 35/100\n",
      "100/100 [==============================] - 3s 34ms/step - loss: 0.4740 - acc: 0.8348\n",
      "Epoch 36/100\n",
      "100/100 [==============================] - 3s 34ms/step - loss: 0.4791 - acc: 0.8361\n",
      "Epoch 37/100\n",
      "100/100 [==============================] - 3s 34ms/step - loss: 0.4697 - acc: 0.8408\n",
      "Epoch 38/100\n",
      "100/100 [==============================] - 3s 34ms/step - loss: 0.4622 - acc: 0.8389\n",
      "Epoch 39/100\n",
      "100/100 [==============================] - 3s 34ms/step - loss: 0.4455 - acc: 0.8480\n",
      "Epoch 40/100\n",
      "100/100 [==============================] - 3s 35ms/step - loss: 0.4817 - acc: 0.8337\n",
      "Epoch 41/100\n",
      "100/100 [==============================] - 3s 34ms/step - loss: 0.4596 - acc: 0.8433\n",
      "Epoch 42/100\n",
      "100/100 [==============================] - 3s 34ms/step - loss: 0.4659 - acc: 0.8381\n",
      "Epoch 43/100\n",
      "100/100 [==============================] - 4s 35ms/step - loss: 0.4604 - acc: 0.8453\n",
      "Epoch 44/100\n",
      "100/100 [==============================] - 3s 34ms/step - loss: 0.4721 - acc: 0.8394\n",
      "Epoch 45/100\n",
      "100/100 [==============================] - 3s 35ms/step - loss: 0.4585 - acc: 0.8433\n",
      "Epoch 46/100\n",
      "100/100 [==============================] - 3s 34ms/step - loss: 0.4587 - acc: 0.8397\n",
      "Epoch 47/100\n",
      "100/100 [==============================] - 3s 34ms/step - loss: 0.4641 - acc: 0.8444\n",
      "Epoch 48/100\n",
      "100/100 [==============================] - 3s 34ms/step - loss: 0.4688 - acc: 0.8411\n",
      "Epoch 49/100\n",
      "100/100 [==============================] - 3s 34ms/step - loss: 0.4642 - acc: 0.8427\n",
      "Epoch 50/100\n",
      "100/100 [==============================] - 3s 34ms/step - loss: 0.4665 - acc: 0.8416\n",
      "Epoch 51/100\n",
      "100/100 [==============================] - 3s 34ms/step - loss: 0.4680 - acc: 0.8420\n",
      "Epoch 52/100\n",
      "100/100 [==============================] - 3s 34ms/step - loss: 0.4665 - acc: 0.8375\n",
      "Epoch 53/100\n",
      "100/100 [==============================] - 4s 35ms/step - loss: 0.4570 - acc: 0.8448\n",
      "Epoch 54/100\n",
      "100/100 [==============================] - 3s 35ms/step - loss: 0.4476 - acc: 0.8425\n",
      "Epoch 55/100\n",
      "100/100 [==============================] - 3s 35ms/step - loss: 0.4576 - acc: 0.8425\n",
      "Epoch 56/100\n",
      "100/100 [==============================] - 3s 34ms/step - loss: 0.4592 - acc: 0.8441\n",
      "Epoch 57/100\n",
      "100/100 [==============================] - 3s 33ms/step - loss: 0.4529 - acc: 0.8430\n",
      "Epoch 58/100\n",
      "100/100 [==============================] - 3s 34ms/step - loss: 0.4593 - acc: 0.8444\n",
      "Epoch 59/100\n",
      "100/100 [==============================] - 3s 34ms/step - loss: 0.4773 - acc: 0.8333\n",
      "Epoch 60/100\n",
      "100/100 [==============================] - 3s 34ms/step - loss: 0.4746 - acc: 0.8398\n",
      "Epoch 61/100\n",
      "100/100 [==============================] - 3s 34ms/step - loss: 0.4703 - acc: 0.8389\n",
      "Epoch 62/100\n",
      "100/100 [==============================] - 3s 34ms/step - loss: 0.4883 - acc: 0.8327\n",
      "Epoch 63/100\n",
      "100/100 [==============================] - 3s 34ms/step - loss: 0.4776 - acc: 0.8336\n",
      "Epoch 64/100\n",
      "100/100 [==============================] - 3s 34ms/step - loss: 0.4494 - acc: 0.8409\n",
      "Epoch 65/100\n",
      "100/100 [==============================] - 3s 34ms/step - loss: 0.4573 - acc: 0.8386\n",
      "Epoch 66/100\n",
      "100/100 [==============================] - 3s 34ms/step - loss: 0.4584 - acc: 0.8422\n",
      "Epoch 67/100\n",
      "100/100 [==============================] - 3s 34ms/step - loss: 0.4663 - acc: 0.8425\n",
      "Epoch 68/100\n",
      "100/100 [==============================] - 3s 35ms/step - loss: 0.4677 - acc: 0.8434\n",
      "Epoch 69/100\n",
      "100/100 [==============================] - 3s 34ms/step - loss: 0.4618 - acc: 0.8378\n",
      "Epoch 70/100\n",
      "100/100 [==============================] - 3s 34ms/step - loss: 0.4548 - acc: 0.8409\n",
      "Epoch 71/100\n",
      "100/100 [==============================] - 3s 35ms/step - loss: 0.4472 - acc: 0.8452\n",
      "Epoch 72/100\n",
      "100/100 [==============================] - 3s 35ms/step - loss: 0.4625 - acc: 0.8413\n",
      "Epoch 73/100\n",
      "100/100 [==============================] - 3s 34ms/step - loss: 0.4663 - acc: 0.8416\n",
      "Epoch 74/100\n",
      "100/100 [==============================] - 3s 34ms/step - loss: 0.4544 - acc: 0.8425\n",
      "Epoch 75/100\n",
      "100/100 [==============================] - 3s 34ms/step - loss: 0.4698 - acc: 0.8364\n",
      "Epoch 76/100\n",
      "100/100 [==============================] - 3s 34ms/step - loss: 0.4725 - acc: 0.8378\n",
      "Epoch 77/100\n",
      "100/100 [==============================] - 3s 34ms/step - loss: 0.4768 - acc: 0.8397\n",
      "Epoch 78/100\n",
      "100/100 [==============================] - 3s 34ms/step - loss: 0.4724 - acc: 0.8477\n",
      "Epoch 79/100\n",
      "100/100 [==============================] - 3s 35ms/step - loss: 0.4633 - acc: 0.8403\n",
      "Epoch 80/100\n",
      "100/100 [==============================] - 3s 34ms/step - loss: 0.4552 - acc: 0.8448\n",
      "Epoch 81/100\n",
      "100/100 [==============================] - 3s 34ms/step - loss: 0.4677 - acc: 0.8361\n",
      "Epoch 82/100\n",
      "100/100 [==============================] - 3s 34ms/step - loss: 0.4670 - acc: 0.8380\n",
      "Epoch 83/100\n",
      "100/100 [==============================] - 3s 34ms/step - loss: 0.4616 - acc: 0.8423\n",
      "Epoch 84/100\n",
      "100/100 [==============================] - 3s 34ms/step - loss: 0.4484 - acc: 0.8425\n",
      "Epoch 85/100\n",
      "100/100 [==============================] - 3s 33ms/step - loss: 0.4594 - acc: 0.8392\n",
      "Epoch 86/100\n",
      "100/100 [==============================] - 3s 34ms/step - loss: 0.4551 - acc: 0.8430\n",
      "Epoch 87/100\n",
      "100/100 [==============================] - 3s 34ms/step - loss: 0.4547 - acc: 0.8466\n",
      "Epoch 88/100\n",
      "100/100 [==============================] - 3s 34ms/step - loss: 0.4529 - acc: 0.8452\n",
      "Epoch 89/100\n",
      "100/100 [==============================] - 3s 34ms/step - loss: 0.4616 - acc: 0.8422\n",
      "Epoch 90/100\n",
      "100/100 [==============================] - 3s 35ms/step - loss: 0.4590 - acc: 0.8369\n",
      "Epoch 91/100\n",
      "100/100 [==============================] - 3s 35ms/step - loss: 0.4524 - acc: 0.8448\n",
      "Epoch 92/100\n",
      "100/100 [==============================] - 3s 35ms/step - loss: 0.4419 - acc: 0.8456\n",
      "Epoch 93/100\n",
      "100/100 [==============================] - 3s 34ms/step - loss: 0.4650 - acc: 0.8400\n",
      "Epoch 94/100\n",
      "100/100 [==============================] - 3s 34ms/step - loss: 0.4680 - acc: 0.8431\n",
      "Epoch 95/100\n",
      "100/100 [==============================] - 3s 34ms/step - loss: 0.4363 - acc: 0.8505\n",
      "Epoch 96/100\n",
      "100/100 [==============================] - 3s 34ms/step - loss: 0.4695 - acc: 0.8353\n",
      "Epoch 97/100\n",
      "100/100 [==============================] - 3s 34ms/step - loss: 0.4541 - acc: 0.8495\n",
      "Epoch 98/100\n",
      "100/100 [==============================] - 3s 35ms/step - loss: 0.4338 - acc: 0.8517\n",
      "Epoch 99/100\n",
      "100/100 [==============================] - 3s 35ms/step - loss: 0.4594 - acc: 0.8411\n",
      "Epoch 100/100\n",
      "100/100 [==============================] - 3s 34ms/step - loss: 0.4607 - acc: 0.8428\n"
     ]
    }
   ],
   "source": [
    "# <Train your model on the entire training set (50K samples)>\n",
    "# <Use (x_train, y_train_vec) instead of (x_tr, y_tr)>\n",
    "# <Do NOT use the validation_data option (because now you do not have validation data)>\n",
    "train_datagen.fit(x_train)\n",
    "train_generator = train_datagen.flow(x_train, y_train_vec, batch_size=64)\n",
    "history = model.fit_generator(train_generator, steps_per_epoch=100, epochs = 100)"
   ]
  },
  {
   "cell_type": "markdown",
   "metadata": {
    "colab_type": "text",
    "id": "hUxdHiGwoxOB"
   },
   "source": [
    "### 3.2. Evaluate the model on the test set\n",
    "\n",
    "Do NOT used the test set until now. Make sure that your model parameters and hyper-parameters are independent of the test set."
   ]
  },
  {
   "cell_type": "code",
   "execution_count": 18,
   "metadata": {
    "colab": {
     "base_uri": "https://localhost:8080/",
     "height": 69
    },
    "colab_type": "code",
    "id": "LHeP_TqnoxOD",
    "outputId": "851856a9-4365-4bec-89c8-1dc75b9183c0"
   },
   "outputs": [
    {
     "name": "stdout",
     "output_type": "stream",
     "text": [
      "10000/10000 [==============================] - 1s 137us/step\n",
      "loss = 0.5634610983371735\n",
      "accuracy = 0.8419\n"
     ]
    }
   ],
   "source": [
    "loss_and_acc = model.evaluate(x_test, y_test_vec)\n",
    "print('loss = ' + str(loss_and_acc[0]))\n",
    "print('accuracy = ' + str(loss_and_acc[1]))"
   ]
  },
  {
   "cell_type": "code",
   "execution_count": 0,
   "metadata": {
    "colab": {},
    "colab_type": "code",
    "id": "7XJh8fRDoxOH"
   },
   "outputs": [],
   "source": []
  }
 ],
 "metadata": {
  "accelerator": "GPU",
  "colab": {
   "name": "HM4.ipynb",
   "provenance": []
  },
  "kernelspec": {
   "display_name": "Python 3",
   "language": "python",
   "name": "python3"
  },
  "language_info": {
   "codemirror_mode": {
    "name": "ipython",
    "version": 3
   },
   "file_extension": ".py",
   "mimetype": "text/x-python",
   "name": "python",
   "nbconvert_exporter": "python",
   "pygments_lexer": "ipython3",
   "version": "3.7.4"
  }
 },
 "nbformat": 4,
 "nbformat_minor": 1
}
