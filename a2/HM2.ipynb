{
 "cells": [
  {
   "cell_type": "markdown",
   "metadata": {},
   "source": [
    "# HM2: Numerical Optimization for Logistic Regression.\n",
    "\n",
    "### Name: Mijeong Ban\n"
   ]
  },
  {
   "cell_type": "markdown",
   "metadata": {},
   "source": [
    "## 0. You will do the following:\n",
    "\n",
    "1. Read the lecture note: [click here](https://github.com/wangshusen/DeepLearning/blob/master/LectureNotes/Logistic/paper/logistic.pdf)\n",
    "\n",
    "2. Read, complete, and run my code.\n",
    "\n",
    "3. **Implement mini-batch SGD** and evaluate the performance.\n",
    "\n",
    "4. Convert the .IPYNB file to .HTML file.\n",
    "\n",
    "    * The HTML file must contain **the code** and **the output after execution**.\n",
    "    \n",
    "    * Missing **the output after execution** will not be graded.\n",
    "    \n",
    "5. Upload this .HTML file to your Google Drive, Dropbox, or your Github repo.  (If you submit the file to Google Drive or Dropbox, you must make the file \"open-access\". The delay caused by \"deny of access\" may result in late penalty.)\n",
    "\n",
    "6. Submit the link to this .HTML file to Canvas.\n",
    "\n",
    "    * Example: https://github.com/wangshusen/CS583-2020S/blob/master/homework/HM2/HM2.html\n",
    "\n",
    "\n",
    "## Grading criteria:\n",
    "\n",
    "1. When computing the ```gradient``` and ```objective function value``` using a batch of samples, use **matrix-vector multiplication** rather than a FOR LOOP of **vector-vector multiplications**.\n",
    "\n",
    "2. Plot ```objective function value``` against ```epochs```. In the plot, compare GD, SGD, and MB-SGD (with $b=8$ and $b=64$). The plot must look reasonable."
   ]
  },
  {
   "cell_type": "markdown",
   "metadata": {},
   "source": [
    "# 1. Data processing\n",
    "\n",
    "- Download the Diabete dataset from https://www.csie.ntu.edu.tw/~cjlin/libsvmtools/datasets/binary/diabetes\n",
    "- Load the data using sklearn.\n",
    "- Preprocess the data."
   ]
  },
  {
   "cell_type": "markdown",
   "metadata": {},
   "source": [
    "## 1.1. Load the data"
   ]
  },
  {
   "cell_type": "code",
   "execution_count": 1,
   "metadata": {},
   "outputs": [
    {
     "name": "stdout",
     "output_type": "stream",
     "text": [
      "Shape of x: (768, 8)\n",
      "Shape of y: (768,)\n"
     ]
    }
   ],
   "source": [
    "from sklearn import datasets\n",
    "import numpy\n",
    "\n",
    "x_sparse, y = datasets.load_svmlight_file('diabetes')\n",
    "x = x_sparse.todense()\n",
    "\n",
    "print('Shape of x: ' + str(x.shape))\n",
    "print('Shape of y: ' + str(y.shape))"
   ]
  },
  {
   "cell_type": "markdown",
   "metadata": {},
   "source": [
    "## 1.2. Partition to training and test sets"
   ]
  },
  {
   "cell_type": "code",
   "execution_count": 2,
   "metadata": {},
   "outputs": [
    {
     "name": "stdout",
     "output_type": "stream",
     "text": [
      "Shape of x_train: (640, 8)\n",
      "Shape of x_test: (128, 8)\n",
      "Shape of y_train: (640, 1)\n",
      "Shape of y_test: (128, 1)\n"
     ]
    }
   ],
   "source": [
    "# partition the data to training and test sets\n",
    "n = x.shape[0]\n",
    "n_train = 640\n",
    "n_test = n - n_train\n",
    "\n",
    "rand_indices = numpy.random.permutation(n)\n",
    "train_indices = rand_indices[0:n_train]\n",
    "test_indices = rand_indices[n_train:n]\n",
    "\n",
    "x_train = x[train_indices, :]\n",
    "x_test = x[test_indices, :]\n",
    "y_train = y[train_indices].reshape(n_train, 1)\n",
    "y_test = y[test_indices].reshape(n_test, 1)\n",
    "\n",
    "print('Shape of x_train: ' + str(x_train.shape))\n",
    "print('Shape of x_test: ' + str(x_test.shape))\n",
    "print('Shape of y_train: ' + str(y_train.shape))\n",
    "print('Shape of y_test: ' + str(y_test.shape))"
   ]
  },
  {
   "cell_type": "markdown",
   "metadata": {},
   "source": [
    "## 1.3. Feature scaling"
   ]
  },
  {
   "cell_type": "markdown",
   "metadata": {},
   "source": [
    "Use the standardization to trainsform both training and test features"
   ]
  },
  {
   "cell_type": "code",
   "execution_count": 3,
   "metadata": {},
   "outputs": [
    {
     "name": "stdout",
     "output_type": "stream",
     "text": [
      "test mean = \n",
      "[[ 0.12855333  0.04770889 -0.05977439  0.03674664 -0.06779973 -0.00756588\n",
      "  -0.06570145  0.02362134]]\n",
      "test std = \n",
      "[[1.162173   0.96556012 1.13236882 1.01407714 0.80364406 0.91163902\n",
      "  0.92240997 0.88367515]]\n"
     ]
    }
   ],
   "source": [
    "# Standardization\n",
    "import numpy\n",
    "\n",
    "# calculate mu and sig using the training set\n",
    "d = x_train.shape[1]\n",
    "mu = numpy.mean(x_train, axis=0).reshape(1, d)\n",
    "sig = numpy.std(x_train, axis=0).reshape(1, d)\n",
    "\n",
    "# transform the training features\n",
    "x_train = (x_train - mu) / (sig + 1E-6)\n",
    "\n",
    "# transform the test features\n",
    "x_test = (x_test - mu) / (sig + 1E-6)\n",
    "\n",
    "print('test mean = ')\n",
    "print(numpy.mean(x_test, axis=0))\n",
    "\n",
    "print('test std = ')\n",
    "print(numpy.std(x_test, axis=0))"
   ]
  },
  {
   "cell_type": "markdown",
   "metadata": {},
   "source": [
    "## 1.4. Add a dimension of all ones"
   ]
  },
  {
   "cell_type": "code",
   "execution_count": 4,
   "metadata": {},
   "outputs": [
    {
     "name": "stdout",
     "output_type": "stream",
     "text": [
      "Shape of x_train: (640, 9)\n",
      "Shape of x_test: (128, 9)\n"
     ]
    }
   ],
   "source": [
    "n_train, d = x_train.shape\n",
    "x_train = numpy.concatenate((x_train, numpy.ones((n_train, 1))), axis=1)\n",
    "\n",
    "n_test, d = x_test.shape\n",
    "x_test = numpy.concatenate((x_test, numpy.ones((n_test, 1))), axis=1)\n",
    "\n",
    "print('Shape of x_train: ' + str(x_train.shape))\n",
    "print('Shape of x_test: ' + str(x_test.shape))"
   ]
  },
  {
   "cell_type": "markdown",
   "metadata": {},
   "source": [
    "# 2. Logistic regression model\n",
    "\n",
    "The objective function is $Q (w; X, y) = \\frac{1}{n} \\sum_{i=1}^n \\log \\Big( 1 + \\exp \\big( - y_i x_i^T w \\big) \\Big) + \\frac{\\lambda}{2} \\| w \\|_2^2 $."
   ]
  },
  {
   "cell_type": "code",
   "execution_count": 5,
   "metadata": {},
   "outputs": [],
   "source": [
    "# Calculate the objective function value\n",
    "# Inputs:\n",
    "#     w: d-by-1 matrix\n",
    "#     x: n-by-d matrix\n",
    "#     y: n-by-1 matrix\n",
    "#     lam: scalar, the regularization parameter\n",
    "# Return:\n",
    "#     objective function value (scalar)\n",
    "def objective(w, x, y, lam):\n",
    "    n, d = x.shape\n",
    "    yx = numpy.multiply(y, x) # n-by-d matrix\n",
    "    yxw = numpy.dot(yx, w) # n-by-1 matrix\n",
    "    vec1 = numpy.exp(-yxw) # n-by-1 matrix\n",
    "    vec2 = numpy.log(1 + vec1) # n-by-1 matrix\n",
    "    loss = numpy.mean(vec2) # scalar\n",
    "    reg = lam / 2 * numpy.sum(w * w) # scalar\n",
    "    return loss + reg\n",
    "    "
   ]
  },
  {
   "cell_type": "code",
   "execution_count": 6,
   "metadata": {},
   "outputs": [
    {
     "name": "stdout",
     "output_type": "stream",
     "text": [
      "Initial objective function value = 0.6931471805599453\n"
     ]
    }
   ],
   "source": [
    "# initialize w\n",
    "d = x_train.shape[1]\n",
    "w = numpy.zeros((d, 1))\n",
    "\n",
    "# evaluate the objective function value at w\n",
    "lam = 1E-6\n",
    "objval0 = objective(w, x_train, y_train, lam)\n",
    "print('Initial objective function value = ' + str(objval0))"
   ]
  },
  {
   "cell_type": "markdown",
   "metadata": {},
   "source": [
    "# 3. Numerical optimization"
   ]
  },
  {
   "cell_type": "markdown",
   "metadata": {},
   "source": [
    "## 3.1. Gradient descent\n"
   ]
  },
  {
   "cell_type": "markdown",
   "metadata": {},
   "source": [
    "The gradient at $w$ is $g = - \\frac{1}{n} \\sum_{i=1}^n \\frac{y_i x_i }{1 + \\exp ( y_i x_i^T w)} + \\lambda w$"
   ]
  },
  {
   "cell_type": "code",
   "execution_count": 7,
   "metadata": {},
   "outputs": [],
   "source": [
    "# Calculate the gradient\n",
    "# Inputs:\n",
    "#     w: d-by-1 matrix\n",
    "#     x: n-by-d matrix\n",
    "#     y: n-by-1 matrix\n",
    "#     lam: scalar, the regularization parameter\n",
    "# Return:\n",
    "#     g: g: d-by-1 matrix, full gradient\n",
    "def gradient(w, x, y, lam):\n",
    "    n, d = x.shape\n",
    "    yx = numpy.multiply(y, x) # n-by-d matrix\n",
    "    yxw = numpy.dot(yx, w) # n-by-1 matrix\n",
    "    vec1 = numpy.exp(yxw) # n-by-1 matrix\n",
    "    vec2 = numpy.divide(yx, 1+vec1) # n-by-d matrix\n",
    "    vec3 = -numpy.mean(vec2, axis=0).reshape(d, 1) # d-by-1 matrix\n",
    "    g = vec3 + lam * w\n",
    "    return g"
   ]
  },
  {
   "cell_type": "code",
   "execution_count": 8,
   "metadata": {},
   "outputs": [],
   "source": [
    "# Gradient descent for solving logistic regression\n",
    "# Inputs:\n",
    "#     x: n-by-d matrix\n",
    "#     y: n-by-1 matrix\n",
    "#     lam: scalar, the regularization parameter\n",
    "#     stepsize: scalar\n",
    "#     max_iter: integer, the maximal iterations\n",
    "#     w: d-by-1 matrix, initialization of w\n",
    "# Return:\n",
    "#     w: d-by-1 matrix, the solution\n",
    "#     objvals: a record of each iteration's objective value\n",
    "def grad_descent(x, y, lam, stepsize, max_iter=100, w=None):\n",
    "    n, d = x.shape\n",
    "    objvals = numpy.zeros(max_iter) # store the objective values\n",
    "    if w is None:\n",
    "        w = numpy.zeros((d, 1)) # zero initialization\n",
    "    \n",
    "    for t in range(max_iter):\n",
    "        objval = objective(w, x, y, lam)\n",
    "        objvals[t] = objval\n",
    "        print('Objective value at t=' + str(t) + ' is ' + str(objval))\n",
    "        g = gradient(w, x, y, lam)\n",
    "        w -= stepsize * g\n",
    "    \n",
    "    return w, objvals"
   ]
  },
  {
   "cell_type": "markdown",
   "metadata": {},
   "source": [
    "Run gradient descent."
   ]
  },
  {
   "cell_type": "code",
   "execution_count": 9,
   "metadata": {},
   "outputs": [
    {
     "name": "stdout",
     "output_type": "stream",
     "text": [
      "Objective value at t=0 is 0.6931471805599453\n",
      "Objective value at t=1 is 0.5905562151305327\n",
      "Objective value at t=2 is 0.5485079247078902\n",
      "Objective value at t=3 is 0.5257013550305181\n",
      "Objective value at t=4 is 0.5114092805561493\n",
      "Objective value at t=5 is 0.5017159529096716\n",
      "Objective value at t=6 is 0.49481242521677293\n",
      "Objective value at t=7 is 0.4897296090551807\n",
      "Objective value at t=8 is 0.4858951733790687\n",
      "Objective value at t=9 is 0.4829476795753972\n",
      "Objective value at t=10 is 0.48064761229876807\n",
      "Objective value at t=11 is 0.4788303977821688\n",
      "Objective value at t=12 is 0.47737969429239013\n",
      "Objective value at t=13 is 0.47621133104084534\n",
      "Objective value at t=14 is 0.4752632208714048\n",
      "Objective value at t=15 is 0.4744888017263153\n",
      "Objective value at t=16 is 0.473852649837117\n",
      "Objective value at t=17 is 0.47332747462944647\n",
      "Objective value at t=18 is 0.47289201731609437\n",
      "Objective value at t=19 is 0.4725295545862017\n",
      "Objective value at t=20 is 0.47222681583081894\n",
      "Objective value at t=21 is 0.47197318816052364\n",
      "Objective value at t=22 is 0.47176012499812586\n",
      "Objective value at t=23 is 0.4715807008222536\n",
      "Objective value at t=24 is 0.4714292722665888\n",
      "Objective value at t=25 is 0.47130121758476134\n",
      "Objective value at t=26 is 0.47119273452360233\n",
      "Objective value at t=27 is 0.47110068219392714\n",
      "Objective value at t=28 is 0.47102245641011803\n",
      "Objective value at t=29 is 0.4709558907214882\n",
      "Objective value at t=30 is 0.4708991773320334\n",
      "Objective value at t=31 is 0.470850803536482\n",
      "Objective value at t=32 is 0.4708095003493932\n",
      "Objective value at t=33 is 0.47077420078016435\n",
      "Objective value at t=34 is 0.4707440057864159\n",
      "Objective value at t=35 is 0.47071815637482833\n",
      "Objective value at t=36 is 0.4706960106500951\n",
      "Objective value at t=37 is 0.4706770248664135\n",
      "Objective value at t=38 is 0.4706607377315524\n",
      "Objective value at t=39 is 0.4706467573653587\n",
      "Objective value at t=40 is 0.47063475043315517\n",
      "Objective value at t=41 is 0.4706244330676851\n",
      "Objective value at t=42 is 0.47061556326692106\n",
      "Objective value at t=43 is 0.4706079345135896\n",
      "Objective value at t=44 is 0.47060137040901584\n",
      "Objective value at t=45 is 0.4705957201514103\n",
      "Objective value at t=46 is 0.47059085471896517\n",
      "Objective value at t=47 is 0.47058666364260665\n",
      "Objective value at t=48 is 0.4705830522731596\n",
      "Objective value at t=49 is 0.4705799394639074\n",
      "Objective value at t=50 is 0.47057725560283103\n",
      "Objective value at t=51 is 0.4705749409397247\n",
      "Objective value at t=52 is 0.4705729441623906\n",
      "Objective value at t=53 is 0.47057122118354866\n",
      "Objective value at t=54 is 0.47056973410626357\n",
      "Objective value at t=55 is 0.47056845034081063\n",
      "Objective value at t=56 is 0.4705673418501749\n",
      "Objective value at t=57 is 0.4705663845049321\n",
      "Objective value at t=58 is 0.4705655575312473\n",
      "Objective value at t=59 is 0.4705648430382243\n",
      "Objective value at t=60 is 0.47056422561293526\n",
      "Objective value at t=61 is 0.4705636919732313\n",
      "Objective value at t=62 is 0.47056323066992134\n",
      "Objective value at t=63 is 0.47056283183116204\n",
      "Objective value at t=64 is 0.4705624869429697\n",
      "Objective value at t=65 is 0.47056218866065946\n",
      "Objective value at t=66 is 0.4705619306467847\n",
      "Objective value at t=67 is 0.4705617074317922\n",
      "Objective value at t=68 is 0.47056151429416665\n",
      "Objective value at t=69 is 0.4705613471572964\n",
      "Objective value at t=70 is 0.4705612025007012\n",
      "Objective value at t=71 is 0.47056107728359375\n",
      "Objective value at t=72 is 0.4705609688790426\n",
      "Objective value at t=73 is 0.4705608750172503\n",
      "Objective value at t=74 is 0.4705607937366698\n",
      "Objective value at t=75 is 0.47056072334186544\n",
      "Objective value at t=76 is 0.47056066236717853\n",
      "Objective value at t=77 is 0.4705606095453918\n",
      "Objective value at t=78 is 0.4705605637806974\n",
      "Objective value at t=79 is 0.4705605241253721\n",
      "Objective value at t=80 is 0.4705604897596489\n",
      "Objective value at t=81 is 0.4705604599743426\n",
      "Objective value at t=82 is 0.4705604341558478\n",
      "Objective value at t=83 is 0.4705604117731871\n",
      "Objective value at t=84 is 0.47056039236682307\n",
      "Objective value at t=85 is 0.4705603755389949\n",
      "Objective value at t=86 is 0.4705603609453703\n",
      "Objective value at t=87 is 0.4705603482878303\n",
      "Objective value at t=88 is 0.47056033730823504\n",
      "Objective value at t=89 is 0.47056032778303547\n",
      "Objective value at t=90 is 0.47056031951861355\n",
      "Objective value at t=91 is 0.4705603123472553\n",
      "Objective value at t=92 is 0.47056030612366767\n",
      "Objective value at t=93 is 0.47056030072196586\n",
      "Objective value at t=94 is 0.47056029603306804\n",
      "Objective value at t=95 is 0.4705602919624416\n",
      "Objective value at t=96 is 0.47056028842815295\n",
      "Objective value at t=97 is 0.47056028535918\n",
      "Objective value at t=98 is 0.47056028269395167\n",
      "Objective value at t=99 is 0.47056028037908487\n"
     ]
    }
   ],
   "source": [
    "lam = 1E-6\n",
    "stepsize = 1.0\n",
    "w, objvals_gd = grad_descent(x_train, y_train, lam, stepsize)"
   ]
  },
  {
   "cell_type": "markdown",
   "metadata": {},
   "source": [
    "## 3.2. Stochastic gradient descent (SGD)\n",
    "\n",
    "Define $Q_i (w) = \\log \\Big( 1 + \\exp \\big( - y_i x_i^T w \\big) \\Big) + \\frac{\\lambda}{2} \\| w \\|_2^2 $.\n",
    "\n",
    "The stochastic gradient at $w$ is $g_i = \\frac{\\partial Q_i }{ \\partial w} = -\\frac{y_i x_i }{1 + \\exp ( y_i x_i^T w)} + \\lambda w$."
   ]
  },
  {
   "cell_type": "code",
   "execution_count": 10,
   "metadata": {},
   "outputs": [],
   "source": [
    "# Calculate the objective Q_i and the gradient of Q_i\n",
    "# Inputs:\n",
    "#     w: d-by-1 matrix\n",
    "#     xi: 1-by-d matrix\n",
    "#     yi: scalar\n",
    "#     lam: scalar, the regularization parameter\n",
    "# Return:\n",
    "#     obj: scalar, the objective Q_i\n",
    "#     g: d-by-1 matrix, gradient of Q_i\n",
    "def stochastic_objective_gradient(w, xi, yi, lam):\n",
    "    d = xi.shape[0]\n",
    "    yx = yi * xi # 1-by-d matrix\n",
    "    yxw = float(numpy.dot(yx, w)) # scalar\n",
    "    \n",
    "    # calculate objective function Q_i\n",
    "    loss = numpy.log(1 + numpy.exp(-yxw)) # scalar\n",
    "    reg = lam / 2 * numpy.sum(w * w) # scalar\n",
    "    obj = loss + reg\n",
    "    \n",
    "    # calculate stochastic gradient\n",
    "    g_loss = -yx.T / (1 + numpy.exp(yxw)) # d-by-1 matrix\n",
    "    g = g_loss + lam * w # d-by-1 matrix\n",
    "    \n",
    "    return obj, g"
   ]
  },
  {
   "cell_type": "code",
   "execution_count": 11,
   "metadata": {},
   "outputs": [],
   "source": [
    "# SGD for solving logistic regression\n",
    "# Inputs:\n",
    "#     x: n-by-d matrix\n",
    "#     y: n-by-1 matrix\n",
    "#     lam: scalar, the regularization parameter\n",
    "#     stepsize: scalar\n",
    "#     max_epoch: integer, the maximal epochs\n",
    "#     w: d-by-1 matrix, initialization of w\n",
    "# Return:\n",
    "#     w: the solution\n",
    "#     objvals: record of each iteration's objective value\n",
    "def sgd(x, y, lam, stepsize, max_epoch=100, w=None):\n",
    "    n, d = x.shape\n",
    "    objvals = numpy.zeros(max_epoch) # store the objective values\n",
    "    if w is None:\n",
    "        w = numpy.zeros((d, 1)) # zero initialization\n",
    "    \n",
    "    for t in range(max_epoch):\n",
    "        # randomly shuffle the samples\n",
    "        rand_indices = numpy.random.permutation(n)\n",
    "        x_rand = x[rand_indices, :]\n",
    "        y_rand = y[rand_indices, :]\n",
    "        \n",
    "        objval = 0 # accumulate the objective values\n",
    "        for i in range(n):\n",
    "            xi = x_rand[i, :] # 1-by-d matrix\n",
    "            yi = float(y_rand[i, :]) # scalar\n",
    "            obj, g = stochastic_objective_gradient(w, xi, yi, lam)\n",
    "            objval += obj\n",
    "            w -= stepsize * g\n",
    "        \n",
    "        stepsize *= 0.9 # decrease step size\n",
    "        objval /= n\n",
    "        objvals[t] = objval\n",
    "        print('Objective value at epoch t=' + str(t) + ' is ' + str(objval))\n",
    "    \n",
    "    return w, objvals"
   ]
  },
  {
   "cell_type": "markdown",
   "metadata": {},
   "source": [
    "Run SGD."
   ]
  },
  {
   "cell_type": "code",
   "execution_count": 12,
   "metadata": {},
   "outputs": [
    {
     "name": "stdout",
     "output_type": "stream",
     "text": [
      "Objective value at epoch t=0 is 0.5354372729173259\n",
      "Objective value at epoch t=1 is 0.5180227376093349\n",
      "Objective value at epoch t=2 is 0.504372933605937\n",
      "Objective value at epoch t=3 is 0.5043623259312133\n",
      "Objective value at epoch t=4 is 0.49484671694758875\n",
      "Objective value at epoch t=5 is 0.5046644409144991\n",
      "Objective value at epoch t=6 is 0.4979254183028178\n",
      "Objective value at epoch t=7 is 0.49829950821765123\n",
      "Objective value at epoch t=8 is 0.49080880367630125\n",
      "Objective value at epoch t=9 is 0.49405037159339404\n",
      "Objective value at epoch t=10 is 0.4895805971238832\n",
      "Objective value at epoch t=11 is 0.48705937248966646\n",
      "Objective value at epoch t=12 is 0.4877482695224481\n",
      "Objective value at epoch t=13 is 0.485967970893757\n",
      "Objective value at epoch t=14 is 0.48195432110186676\n",
      "Objective value at epoch t=15 is 0.48362838038786393\n",
      "Objective value at epoch t=16 is 0.4812311964438102\n",
      "Objective value at epoch t=17 is 0.48021025831900055\n",
      "Objective value at epoch t=18 is 0.47708599847062594\n",
      "Objective value at epoch t=19 is 0.4787712423525572\n",
      "Objective value at epoch t=20 is 0.47906532897398024\n",
      "Objective value at epoch t=21 is 0.47808773991211967\n",
      "Objective value at epoch t=22 is 0.4774606077072092\n",
      "Objective value at epoch t=23 is 0.47630423799420596\n",
      "Objective value at epoch t=24 is 0.4763259092912616\n",
      "Objective value at epoch t=25 is 0.4755545209513576\n",
      "Objective value at epoch t=26 is 0.47512584605767394\n",
      "Objective value at epoch t=27 is 0.4744479855566778\n",
      "Objective value at epoch t=28 is 0.47437496077664976\n",
      "Objective value at epoch t=29 is 0.4737245778706566\n",
      "Objective value at epoch t=30 is 0.47351567615830126\n",
      "Objective value at epoch t=31 is 0.47322042429995675\n",
      "Objective value at epoch t=32 is 0.47273724487413726\n",
      "Objective value at epoch t=33 is 0.4727777397745464\n",
      "Objective value at epoch t=34 is 0.4725942918356997\n",
      "Objective value at epoch t=35 is 0.4723520883367273\n",
      "Objective value at epoch t=36 is 0.4722142818093274\n",
      "Objective value at epoch t=37 is 0.47199265279328195\n",
      "Objective value at epoch t=38 is 0.471910521077056\n",
      "Objective value at epoch t=39 is 0.47176770434925475\n",
      "Objective value at epoch t=40 is 0.47162187622495766\n",
      "Objective value at epoch t=41 is 0.4715272306325171\n",
      "Objective value at epoch t=42 is 0.4714364823146339\n",
      "Objective value at epoch t=43 is 0.47135679504861416\n",
      "Objective value at epoch t=44 is 0.4712663848011661\n",
      "Objective value at epoch t=45 is 0.47120086298079056\n",
      "Objective value at epoch t=46 is 0.47114174595297015\n",
      "Objective value at epoch t=47 is 0.4710775312406422\n",
      "Objective value at epoch t=48 is 0.4710315473536836\n",
      "Objective value at epoch t=49 is 0.47098457269558247\n",
      "Objective value at epoch t=50 is 0.47094164974046154\n",
      "Objective value at epoch t=51 is 0.4709023496320233\n",
      "Objective value at epoch t=52 is 0.47087009239482525\n",
      "Objective value at epoch t=53 is 0.4708390036933975\n",
      "Objective value at epoch t=54 is 0.47081123835093175\n",
      "Objective value at epoch t=55 is 0.47078618133763506\n",
      "Objective value at epoch t=56 is 0.470763961239563\n",
      "Objective value at epoch t=57 is 0.47074369897687135\n",
      "Objective value at epoch t=58 is 0.4707249999078842\n",
      "Objective value at epoch t=59 is 0.4707087138801029\n",
      "Objective value at epoch t=60 is 0.47069382617842265\n",
      "Objective value at epoch t=61 is 0.4706806658171202\n",
      "Objective value at epoch t=62 is 0.4706683876262009\n",
      "Objective value at epoch t=63 is 0.4706579277466635\n",
      "Objective value at epoch t=64 is 0.4706481969300217\n",
      "Objective value at epoch t=65 is 0.4706394074454517\n",
      "Objective value at epoch t=66 is 0.4706316303364397\n",
      "Objective value at epoch t=67 is 0.47062442269813864\n",
      "Objective value at epoch t=68 is 0.47061808429574425\n",
      "Objective value at epoch t=69 is 0.47061236188385064\n",
      "Objective value at epoch t=70 is 0.4706071876694885\n",
      "Objective value at epoch t=71 is 0.47060251822783616\n",
      "Objective value at epoch t=72 is 0.4705983240903964\n",
      "Objective value at epoch t=73 is 0.4705945408153749\n",
      "Objective value at epoch t=74 is 0.4705911547969294\n",
      "Objective value at epoch t=75 is 0.4705880879367406\n",
      "Objective value at epoch t=76 is 0.4705853329154651\n",
      "Objective value at epoch t=77 is 0.4705828572824301\n",
      "Objective value at epoch t=78 is 0.470580626900267\n",
      "Objective value at epoch t=79 is 0.4705786253599749\n",
      "Objective value at epoch t=80 is 0.47057681822730874\n",
      "Objective value at epoch t=81 is 0.4705751894126108\n",
      "Objective value at epoch t=82 is 0.4705737241144485\n",
      "Objective value at epoch t=83 is 0.4705724087708855\n",
      "Objective value at epoch t=84 is 0.47057122006194063\n",
      "Objective value at epoch t=85 is 0.4705701539861956\n",
      "Objective value at epoch t=86 is 0.47056919330836644\n",
      "Objective value at epoch t=87 is 0.47056832819174144\n",
      "Objective value at epoch t=88 is 0.4705675504011932\n",
      "Objective value at epoch t=89 is 0.47056684856701736\n",
      "Objective value at epoch t=90 is 0.47056621951375555\n",
      "Objective value at epoch t=91 is 0.47056565129496447\n",
      "Objective value at epoch t=92 is 0.4705651399821222\n",
      "Objective value at epoch t=93 is 0.4705646816356953\n",
      "Objective value at epoch t=94 is 0.4705642676740533\n",
      "Objective value at epoch t=95 is 0.4705638953823149\n",
      "Objective value at epoch t=96 is 0.4705635603258311\n",
      "Objective value at epoch t=97 is 0.47056325877239524\n",
      "Objective value at epoch t=98 is 0.47056298751658276\n",
      "Objective value at epoch t=99 is 0.4705627432071897\n"
     ]
    }
   ],
   "source": [
    "lam = 1E-6\n",
    "stepsize = 0.1\n",
    "w, objvals_sgd = sgd(x_train, y_train, lam, stepsize)"
   ]
  },
  {
   "cell_type": "markdown",
   "metadata": {},
   "source": [
    "# 4. Compare GD with SGD\n",
    "\n",
    "Plot objective function values against epochs."
   ]
  },
  {
   "cell_type": "code",
   "execution_count": 13,
   "metadata": {},
   "outputs": [
    {
     "data": {
      "image/png": "[encoded data removed]",
      "text/plain": [
       "<Figure size 432x288 with 1 Axes>"
      ]
     },
     "metadata": {
      "needs_background": "light"
     },
     "output_type": "display_data"
    }
   ],
   "source": [
    "import matplotlib.pyplot as plt\n",
    "%matplotlib inline\n",
    "\n",
    "fig = plt.figure(figsize=(6, 4))\n",
    "\n",
    "epochs_gd = range(len(objvals_gd))\n",
    "epochs_sgd = range(len(objvals_sgd))\n",
    "\n",
    "line0, = plt.plot(epochs_gd, objvals_gd, '--b', LineWidth=4)\n",
    "line1, = plt.plot(epochs_sgd, objvals_sgd, '-r', LineWidth=2)\n",
    "plt.xlabel('Epochs', FontSize=20)\n",
    "plt.ylabel('Objective Value', FontSize=20)\n",
    "plt.xticks(FontSize=16)\n",
    "plt.yticks(FontSize=16)\n",
    "plt.legend([line0, line1], ['GD', 'SGD'], fontsize=20)\n",
    "plt.tight_layout()\n",
    "plt.show()\n",
    "fig.savefig('compare_gd_sgd.pdf', format='pdf', dpi=1200)"
   ]
  },
  {
   "cell_type": "markdown",
   "metadata": {},
   "source": [
    "# 5. Prediction"
   ]
  },
  {
   "cell_type": "code",
   "execution_count": 14,
   "metadata": {},
   "outputs": [],
   "source": [
    "# Predict class label\n",
    "# Inputs:\n",
    "#     w: d-by-1 matrix\n",
    "#     X: m-by-d matrix\n",
    "# Return:\n",
    "#     f: m-by-1 matrix, the predictions\n",
    "def predict(w, X):\n",
    "    xw = numpy.dot(X, w)\n",
    "    f = numpy.sign(xw)\n",
    "    return f"
   ]
  },
  {
   "cell_type": "code",
   "execution_count": 15,
   "metadata": {},
   "outputs": [
    {
     "name": "stdout",
     "output_type": "stream",
     "text": [
      "Training classification error is 0.215625\n"
     ]
    }
   ],
   "source": [
    "# evaluate training error\n",
    "f_train = predict(w, x_train)\n",
    "diff = numpy.abs(f_train - y_train) / 2\n",
    "error_train = numpy.mean(diff)\n",
    "print('Training classification error is ' + str(error_train))"
   ]
  },
  {
   "cell_type": "code",
   "execution_count": 16,
   "metadata": {},
   "outputs": [
    {
     "name": "stdout",
     "output_type": "stream",
     "text": [
      "Test classification error is 0.2578125\n"
     ]
    }
   ],
   "source": [
    "# evaluate test error\n",
    "f_test = predict(w, x_test)\n",
    "diff = numpy.abs(f_test - y_test) / 2\n",
    "error_test = numpy.mean(diff)\n",
    "print('Test classification error is ' + str(error_test))"
   ]
  },
  {
   "cell_type": "markdown",
   "metadata": {},
   "source": [
    "# 6. Mini-batch SGD (fill the code)\n",
    "\n"
   ]
  },
  {
   "cell_type": "markdown",
   "metadata": {},
   "source": [
    "## 6.1. Compute the objective $Q_I$ and its gradient using a batch of samples\n",
    "\n",
    "Define $Q_I (w) = \\frac{1}{b} \\sum_{i \\in I} \\log \\Big( 1 + \\exp \\big( - y_i x_i^T w \\big) \\Big) + \\frac{\\lambda}{2} \\| w \\|_2^2 $, where $I$ is a set containing $b$ indices randomly drawn from $\\{ 1, \\cdots , n \\}$ without replacement.\n",
    "\n",
    "The stochastic gradient at $w$ is $g_I = \\frac{\\partial Q_I }{ \\partial w} = \\frac{1}{b} \\sum_{i \\in I} \\frac{- y_i x_i }{1 + \\exp ( y_i x_i^T w)} + \\lambda w$."
   ]
  },
  {
   "cell_type": "code",
   "execution_count": 17,
   "metadata": {},
   "outputs": [],
   "source": [
    "# Calculate the objective Q_I and the gradient of Q_I\n",
    "# Inputs:\n",
    "#     w: d-by-1 matrix\n",
    "#     xi: b-by-d matrix\n",
    "#     yi: b-by-1 matrix\n",
    "#     lam: scalar, the regularization parameter\n",
    "#     b: integer, the batch size\n",
    "# Return:\n",
    "#     obj: scalar, the objective Q_i\n",
    "#     g: d-by-1 matrix, gradient of Q_i\n",
    "def mb_stochastic_objective_gradient(w, xi, yi, lam, b):\n",
    "    # Fill the function\n",
    "    # Follow the implementation of stochastic_objective_gradient\n",
    "    # Use matrix-vector multiplication; do not use FOR LOOP of vector-vector multiplications\n",
    "    d = xi.shape[1]\n",
    "    yx = numpy.multiply(yi, xi)\n",
    "    yxw = numpy.dot(yx, w).reshape(b, 1) # b-by-1 matrix \n",
    "    vec1 = numpy.exp(-yxw)\n",
    "    vec2 = numpy.log(1 + vec1)\n",
    "    loss = numpy.mean(vec2, axis=0)\n",
    "    reg = lam/2 * numpy.sum(w*w)\n",
    "    obj = loss + reg # b-by-1 matrix \n",
    "    \n",
    "    g_yx = numpy.multiply(yi, xi)\n",
    "    g_yxw = numpy.dot(g_yx, w)\n",
    "    g_vec1 = numpy.exp(g_yxw)\n",
    "    g_vec2 = numpy.divide(-g_yx, 1+g_vec1)\n",
    "    g_vec3 = numpy.mean(g_vec2, axis=0).reshape(d,1)\n",
    "    g_reg = lam * w\n",
    "    g = g_vec3 + g_reg\n",
    "    \n",
    "    return obj, g"
   ]
  },
  {
   "cell_type": "markdown",
   "metadata": {},
   "source": [
    "## 6.2. Implement mini-batch SGD\n",
    "\n",
    "Hints:\n",
    "1. In every epoch, randomly permute the $n$ samples (just like SGD).\n",
    "2. Each epoch has $\\frac{n}{b}$ iterations. In every iteration, use $b$ samples, and compute the gradient and objective using the ``mb_stochastic_objective_gradient`` function. In the next iteration, use the next $b$ samples, and so on.\n"
   ]
  },
  {
   "cell_type": "code",
   "execution_count": 18,
   "metadata": {},
   "outputs": [],
   "source": [
    "# Mini-Batch SGD for solving logistic regression\n",
    "# Inputs:\n",
    "#     x: n-by-d matrix\n",
    "#     y: n-by-1 matrix\n",
    "#     lam: scalar, the regularization parameter\n",
    "#     b: integer, the batch size\n",
    "#     stepsize: scalar\n",
    "#     max_epoch: integer, the maximal epochs\n",
    "#     w: d-by-1 matrix, initialization of w\n",
    "# Return:\n",
    "#     w: the solution\n",
    "#     objvals: record of each iteration's objective value\n",
    "def mb_sgd(x, y, lam, b, stepsize, max_epoch=100, w=None):\n",
    "    # Fill the function\n",
    "    # Follow the implementation of sgd\n",
    "    # Record one objective value per epoch (not per iteration!)\n",
    "    objvals = numpy.zeros(max_epoch)\n",
    "    n,d = x.shape\n",
    "    \n",
    "    if w is None:\n",
    "        w = numpy.zeros((d, 1))\n",
    "    \n",
    "    for t in range(max_epoch):\n",
    "        # randomly permute the n samples \n",
    "        random_indicies = numpy.random.permutation(n)\n",
    "        random_x = x[random_indicies, :]\n",
    "        random_y = y[random_indicies, :]\n",
    "        objval = 0\n",
    "         \n",
    "        # Each epoch has n/b iterations\n",
    "        for i in range(int(n/b)):\n",
    "            xi = random_x[i*b:(i+1)*b, :]\n",
    "            yi = random_y[i*b:(i+1)*b, :]\n",
    "            obj, g_w = mb_stochastic_objective_gradient(w, xi, yi, lam, b)\n",
    "            w -= stepsize*g_w\n",
    "            objval += obj\n",
    "        stepsize *= 0.91\n",
    "        objvals[t] = objval * b/n\n",
    "        print('Objective value at epoch t=' + str(t) + ' is ' + str(objvals[t]))\n",
    "    \n",
    "    return w, objvals"
   ]
  },
  {
   "cell_type": "markdown",
   "metadata": {},
   "source": [
    "## 6.3. Run MB-SGD"
   ]
  },
  {
   "cell_type": "code",
   "execution_count": 19,
   "metadata": {},
   "outputs": [
    {
     "name": "stdout",
     "output_type": "stream",
     "text": [
      "Objective value at epoch t=0 is 0.5412421090575253\n",
      "Objective value at epoch t=1 is 0.4861795691263099\n",
      "Objective value at epoch t=2 is 0.48026498050047045\n",
      "Objective value at epoch t=3 is 0.4783522152195361\n",
      "Objective value at epoch t=4 is 0.47667395476578084\n",
      "Objective value at epoch t=5 is 0.47542361326163884\n",
      "Objective value at epoch t=6 is 0.4759384261802101\n",
      "Objective value at epoch t=7 is 0.47556654852340685\n",
      "Objective value at epoch t=8 is 0.4751794020732925\n",
      "Objective value at epoch t=9 is 0.4745716259889761\n",
      "Objective value at epoch t=10 is 0.4744755519813243\n",
      "Objective value at epoch t=11 is 0.4736699247847588\n",
      "Objective value at epoch t=12 is 0.47336134293579113\n",
      "Objective value at epoch t=13 is 0.47353878677234473\n",
      "Objective value at epoch t=14 is 0.4731630427912125\n",
      "Objective value at epoch t=15 is 0.47268844290872225\n",
      "Objective value at epoch t=16 is 0.4728274799594585\n",
      "Objective value at epoch t=17 is 0.4725526925261202\n",
      "Objective value at epoch t=18 is 0.4724858692861612\n",
      "Objective value at epoch t=19 is 0.47213350570251755\n",
      "Objective value at epoch t=20 is 0.47199485816459186\n",
      "Objective value at epoch t=21 is 0.4719229561598248\n",
      "Objective value at epoch t=22 is 0.4717860181301729\n",
      "Objective value at epoch t=23 is 0.47175433164442027\n",
      "Objective value at epoch t=24 is 0.47166449138245703\n",
      "Objective value at epoch t=25 is 0.47155349431733545\n",
      "Objective value at epoch t=26 is 0.47136621486509167\n",
      "Objective value at epoch t=27 is 0.47134556778486303\n",
      "Objective value at epoch t=28 is 0.4712588550608706\n",
      "Objective value at epoch t=29 is 0.4711573746559414\n",
      "Objective value at epoch t=30 is 0.4711451372583618\n",
      "Objective value at epoch t=31 is 0.4710938182670962\n",
      "Objective value at epoch t=32 is 0.4710567872770818\n",
      "Objective value at epoch t=33 is 0.4710143046718889\n",
      "Objective value at epoch t=34 is 0.4709843239940352\n",
      "Objective value at epoch t=35 is 0.4709199719355913\n",
      "Objective value at epoch t=36 is 0.4709205907992427\n",
      "Objective value at epoch t=37 is 0.4708717658261352\n",
      "Objective value at epoch t=38 is 0.47083251789306635\n",
      "Objective value at epoch t=39 is 0.47084990843249813\n",
      "Objective value at epoch t=40 is 0.4707795322765409\n",
      "Objective value at epoch t=41 is 0.47075766840982014\n",
      "Objective value at epoch t=42 is 0.47074958573543685\n",
      "Objective value at epoch t=43 is 0.47073816746443464\n",
      "Objective value at epoch t=44 is 0.4707162944761703\n",
      "Objective value at epoch t=45 is 0.4707118032233632\n",
      "Objective value at epoch t=46 is 0.47068554818516456\n",
      "Objective value at epoch t=47 is 0.47068468783097545\n",
      "Objective value at epoch t=48 is 0.47067952278098424\n",
      "Objective value at epoch t=49 is 0.47065727647001976\n",
      "Objective value at epoch t=50 is 0.4706537249347532\n",
      "Objective value at epoch t=51 is 0.4706399863794215\n",
      "Objective value at epoch t=52 is 0.4706332417095017\n",
      "Objective value at epoch t=53 is 0.47062869348982395\n",
      "Objective value at epoch t=54 is 0.4706231865991473\n",
      "Objective value at epoch t=55 is 0.4706134384620301\n",
      "Objective value at epoch t=56 is 0.4706079159305149\n",
      "Objective value at epoch t=57 is 0.47060790327339286\n",
      "Objective value at epoch t=58 is 0.4706020511583405\n",
      "Objective value at epoch t=59 is 0.4706011733823482\n",
      "Objective value at epoch t=60 is 0.4705966133062597\n",
      "Objective value at epoch t=61 is 0.4705951029708733\n",
      "Objective value at epoch t=62 is 0.4705898418314914\n",
      "Objective value at epoch t=63 is 0.47058499188926384\n",
      "Objective value at epoch t=64 is 0.4705876310848066\n",
      "Objective value at epoch t=65 is 0.4705820196713836\n",
      "Objective value at epoch t=66 is 0.47057880738215196\n",
      "Objective value at epoch t=67 is 0.4705795018385003\n",
      "Objective value at epoch t=68 is 0.4705766872552237\n",
      "Objective value at epoch t=69 is 0.4705757050799028\n",
      "Objective value at epoch t=70 is 0.47057380068984267\n",
      "Objective value at epoch t=71 is 0.47057236238382527\n",
      "Objective value at epoch t=72 is 0.47057148682542793\n",
      "Objective value at epoch t=73 is 0.4705720365504663\n",
      "Objective value at epoch t=74 is 0.47056983306429034\n",
      "Objective value at epoch t=75 is 0.4705699390993973\n",
      "Objective value at epoch t=76 is 0.4705685033215219\n",
      "Objective value at epoch t=77 is 0.4705681316369733\n",
      "Objective value at epoch t=78 is 0.4705665209842268\n",
      "Objective value at epoch t=79 is 0.47056725863598803\n",
      "Objective value at epoch t=80 is 0.47056592545921827\n",
      "Objective value at epoch t=81 is 0.47056550477274267\n",
      "Objective value at epoch t=82 is 0.4705647206068037\n",
      "Objective value at epoch t=83 is 0.47056509498535715\n",
      "Objective value at epoch t=84 is 0.47056419030637303\n",
      "Objective value at epoch t=85 is 0.47056390728363295\n",
      "Objective value at epoch t=86 is 0.47056371253359314\n",
      "Objective value at epoch t=87 is 0.4705635123719409\n",
      "Objective value at epoch t=88 is 0.4705634215531068\n",
      "Objective value at epoch t=89 is 0.4705629489102748\n",
      "Objective value at epoch t=90 is 0.47056260627959484\n",
      "Objective value at epoch t=91 is 0.4705626331357048\n",
      "Objective value at epoch t=92 is 0.4705623917806253\n",
      "Objective value at epoch t=93 is 0.47056203851061323\n",
      "Objective value at epoch t=94 is 0.4705621038346832\n",
      "Objective value at epoch t=95 is 0.4705620117418525\n",
      "Objective value at epoch t=96 is 0.4705618883334445\n",
      "Objective value at epoch t=97 is 0.4705616457595586\n",
      "Objective value at epoch t=98 is 0.4705615410219212\n",
      "Objective value at epoch t=99 is 0.47056154127517685\n"
     ]
    }
   ],
   "source": [
    "# MB-SGD with batch size b=8\n",
    "lam = 1E-6 # do not change\n",
    "b = 8 # do not change\n",
    "stepsize = 0.11 # you must tune this parameter\n",
    "\n",
    "w, objvals_mbsgd8 = mb_sgd(x_train, y_train, lam, b, stepsize)"
   ]
  },
  {
   "cell_type": "code",
   "execution_count": 20,
   "metadata": {},
   "outputs": [
    {
     "name": "stdout",
     "output_type": "stream",
     "text": [
      "Objective value at epoch t=0 is 0.5819149647530942\n",
      "Objective value at epoch t=1 is 0.5041268842255511\n",
      "Objective value at epoch t=2 is 0.48755574127905216\n",
      "Objective value at epoch t=3 is 0.4801649050622291\n",
      "Objective value at epoch t=4 is 0.4781001170236495\n",
      "Objective value at epoch t=5 is 0.47591870880735987\n",
      "Objective value at epoch t=6 is 0.4743519487305604\n",
      "Objective value at epoch t=7 is 0.473913847115979\n",
      "Objective value at epoch t=8 is 0.47334936688025026\n",
      "Objective value at epoch t=9 is 0.47356715872313354\n",
      "Objective value at epoch t=10 is 0.47272470330013394\n",
      "Objective value at epoch t=11 is 0.47222669524710403\n",
      "Objective value at epoch t=12 is 0.4722830311915075\n",
      "Objective value at epoch t=13 is 0.47204099679053824\n",
      "Objective value at epoch t=14 is 0.47194493916797925\n",
      "Objective value at epoch t=15 is 0.4715014577649993\n",
      "Objective value at epoch t=16 is 0.4718164956225336\n",
      "Objective value at epoch t=17 is 0.4712417269241337\n",
      "Objective value at epoch t=18 is 0.47156400634949136\n",
      "Objective value at epoch t=19 is 0.47128059987132975\n",
      "Objective value at epoch t=20 is 0.47135885870481325\n",
      "Objective value at epoch t=21 is 0.471305314619283\n",
      "Objective value at epoch t=22 is 0.47117455743359987\n",
      "Objective value at epoch t=23 is 0.47115664146748104\n",
      "Objective value at epoch t=24 is 0.47096968635052383\n",
      "Objective value at epoch t=25 is 0.4709983995206405\n",
      "Objective value at epoch t=26 is 0.4710897963700124\n",
      "Objective value at epoch t=27 is 0.47094072429218964\n",
      "Objective value at epoch t=28 is 0.47087973142685435\n",
      "Objective value at epoch t=29 is 0.47089212395510655\n",
      "Objective value at epoch t=30 is 0.4709140823231803\n",
      "Objective value at epoch t=31 is 0.4708758691479549\n",
      "Objective value at epoch t=32 is 0.47078002523094964\n",
      "Objective value at epoch t=33 is 0.4707643269021765\n",
      "Objective value at epoch t=34 is 0.4707645482650637\n",
      "Objective value at epoch t=35 is 0.4707805804099669\n",
      "Objective value at epoch t=36 is 0.47076964784629804\n",
      "Objective value at epoch t=37 is 0.4707370693906004\n",
      "Objective value at epoch t=38 is 0.4707792908868331\n",
      "Objective value at epoch t=39 is 0.4707072986854728\n",
      "Objective value at epoch t=40 is 0.4707060122095842\n",
      "Objective value at epoch t=41 is 0.4707041489870871\n",
      "Objective value at epoch t=42 is 0.4706772981157343\n",
      "Objective value at epoch t=43 is 0.47066626369418385\n",
      "Objective value at epoch t=44 is 0.4706652594627706\n",
      "Objective value at epoch t=45 is 0.47066667996878797\n",
      "Objective value at epoch t=46 is 0.4706482953040404\n",
      "Objective value at epoch t=47 is 0.4706630508514885\n",
      "Objective value at epoch t=48 is 0.4706546117892424\n",
      "Objective value at epoch t=49 is 0.47065679088367396\n",
      "Objective value at epoch t=50 is 0.47064368569434284\n",
      "Objective value at epoch t=51 is 0.4706413622952824\n",
      "Objective value at epoch t=52 is 0.470636399979218\n",
      "Objective value at epoch t=53 is 0.4706353681189993\n",
      "Objective value at epoch t=54 is 0.47063574464344404\n",
      "Objective value at epoch t=55 is 0.47063919684577166\n",
      "Objective value at epoch t=56 is 0.47062975699938303\n",
      "Objective value at epoch t=57 is 0.4706322671722796\n",
      "Objective value at epoch t=58 is 0.47061864759058974\n",
      "Objective value at epoch t=59 is 0.4706230086081642\n",
      "Objective value at epoch t=60 is 0.4706269499056653\n",
      "Objective value at epoch t=61 is 0.47062154643887394\n",
      "Objective value at epoch t=62 is 0.4706172870610472\n",
      "Objective value at epoch t=63 is 0.4706163822717895\n",
      "Objective value at epoch t=64 is 0.4706164217433312\n",
      "Objective value at epoch t=65 is 0.47061639357500884\n",
      "Objective value at epoch t=66 is 0.47061518532161084\n",
      "Objective value at epoch t=67 is 0.4706139436793146\n",
      "Objective value at epoch t=68 is 0.4706124516940259\n",
      "Objective value at epoch t=69 is 0.470612558621523\n",
      "Objective value at epoch t=70 is 0.4706117777561086\n",
      "Objective value at epoch t=71 is 0.4706099569158055\n",
      "Objective value at epoch t=72 is 0.4706108328219639\n",
      "Objective value at epoch t=73 is 0.47061016481339574\n",
      "Objective value at epoch t=74 is 0.47060985935528504\n",
      "Objective value at epoch t=75 is 0.4706093791770457\n",
      "Objective value at epoch t=76 is 0.4706086710631844\n",
      "Objective value at epoch t=77 is 0.47060843094108823\n",
      "Objective value at epoch t=78 is 0.4706084753848394\n",
      "Objective value at epoch t=79 is 0.4706087241929685\n",
      "Objective value at epoch t=80 is 0.4706078334246235\n",
      "Objective value at epoch t=81 is 0.4706074237316945\n",
      "Objective value at epoch t=82 is 0.4706071295125902\n",
      "Objective value at epoch t=83 is 0.4706079639019129\n",
      "Objective value at epoch t=84 is 0.4706080950757835\n",
      "Objective value at epoch t=85 is 0.4706066257359255\n",
      "Objective value at epoch t=86 is 0.4706067211834116\n",
      "Objective value at epoch t=87 is 0.47060664569369787\n",
      "Objective value at epoch t=88 is 0.4706066902637744\n",
      "Objective value at epoch t=89 is 0.4706065133869893\n",
      "Objective value at epoch t=90 is 0.4706064864070883\n",
      "Objective value at epoch t=91 is 0.4706064863860632\n",
      "Objective value at epoch t=92 is 0.4706066019430099\n",
      "Objective value at epoch t=93 is 0.4706063438330503\n",
      "Objective value at epoch t=94 is 0.4706062789289511\n",
      "Objective value at epoch t=95 is 0.47060610391752455\n",
      "Objective value at epoch t=96 is 0.47060605493858515\n",
      "Objective value at epoch t=97 is 0.4706059912107053\n",
      "Objective value at epoch t=98 is 0.47060604940448514\n",
      "Objective value at epoch t=99 is 0.4706060604043243\n"
     ]
    }
   ],
   "source": [
    "# MB-SGD with batch size b=64\n",
    "lam = 1E-6 # do not change\n",
    "b = 64 # do not change\n",
    "stepsize = 0.4 # you must tune this parameter\n",
    "\n",
    "w, objvals_mbsgd64 = mb_sgd(x_train, y_train, lam, b, stepsize)"
   ]
  },
  {
   "cell_type": "markdown",
   "metadata": {},
   "source": [
    "# 7. Plot and compare GD, SGD, and MB-SGD"
   ]
  },
  {
   "cell_type": "markdown",
   "metadata": {},
   "source": [
    "You are required to compare the following algorithms:\n",
    "\n",
    "- Gradient descent (GD)\n",
    "\n",
    "- SGD\n",
    "\n",
    "- MB-SGD with b=8\n",
    "\n",
    "- MB-SGD with b=64\n",
    "\n",
    "Follow the code in Section 4 to plot ```objective function value``` against ```epochs```. There should be four curves in the plot; each curve corresponds to one algorithm."
   ]
  },
  {
   "cell_type": "markdown",
   "metadata": {},
   "source": [
    "Hint: Logistic regression with $\\ell_2$-norm regularization is a strongly convex optimization problem. All the algorithms will converge to the same solution. **In the end, the ``objective function value`` of the 4 algorithms will be the same. If not the same, your implementation must be wrong. Do NOT submit wrong code and wrong result!**"
   ]
  },
  {
   "cell_type": "code",
   "execution_count": 21,
   "metadata": {},
   "outputs": [
    {
     "data": {
      "image/png": "[encoded data removed]",
      "text/plain": [
       "<Figure size 432x288 with 1 Axes>"
      ]
     },
     "metadata": {
      "needs_background": "light"
     },
     "output_type": "display_data"
    }
   ],
   "source": [
    "# plot the 4 curves:\n",
    "import matplotlib.pyplot as plt\n",
    "%matplotlib inline\n",
    "\n",
    "fig = plt.figure(figsize=(6, 4))\n",
    "\n",
    "epochs_gd = range(len(objvals_gd))\n",
    "epochs_sgd = range(len(objvals_sgd))\n",
    "epochs_mbsgd8 = range(len(objvals_mbsgd8))\n",
    "epochs_mbsgd64 = range(len(objvals_mbsgd64))\n",
    "\n",
    "line0, = plt.plot(epochs_gd, objvals_gd, '--b', LineWidth=4)\n",
    "line1, = plt.plot(epochs_sgd, objvals_sgd, '-r', LineWidth=2)\n",
    "line2, = plt.plot(epochs_mbsgd8, objvals_mbsgd8, '-g', LineWidth=2)\n",
    "line3, = plt.plot(epochs_mbsgd64, objvals_mbsgd64, '--c', LineWidth=2)\n",
    "\n",
    "plt.xlabel('Epochs', FontSize=20)\n",
    "plt.ylabel('Objective Value', FontSize=20)\n",
    "plt.xticks(FontSize=12)\n",
    "plt.yticks(FontSize=12)\n",
    "plt.legend([line0, line1, line2, line3], ['GD', 'SGD', 'MB-SGD with b=8', 'MB-SGD with b=64'], fontsize=20)\n",
    "plt.tight_layout()\n",
    "plt.show()\n",
    "fig.savefig('compare_gd_sgd_mbsgd.pdf', format='pdf', dpi=1200)"
   ]
  },
  {
   "cell_type": "markdown",
   "metadata": {},
   "source": []
  }
 ],
 "metadata": {
  "kernelspec": {
   "display_name": "Python 3",
   "language": "python",
   "name": "python3"
  },
  "language_info": {
   "codemirror_mode": {
    "name": "ipython",
    "version": 3
   },
   "file_extension": ".py",
   "mimetype": "text/x-python",
   "name": "python",
   "nbconvert_exporter": "python",
   "pygments_lexer": "ipython3",
   "version": "3.7.4"
  }
 },
 "nbformat": 4,
 "nbformat_minor": 2
}
