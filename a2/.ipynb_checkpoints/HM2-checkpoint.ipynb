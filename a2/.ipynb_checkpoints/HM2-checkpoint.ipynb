{
 "cells": [
  {
   "cell_type": "markdown",
   "metadata": {},
   "source": [
    "# HM2: Numerical Optimization for Logistic Regression.\n",
    "\n",
    "### Name: Mijeong Ban\n"
   ]
  },
  {
   "cell_type": "markdown",
   "metadata": {},
   "source": [
    "## 0. You will do the following:\n",
    "\n",
    "1. Read the lecture note: [click here](https://github.com/wangshusen/DeepLearning/blob/master/LectureNotes/Logistic/paper/logistic.pdf)\n",
    "\n",
    "2. Read, complete, and run my code.\n",
    "\n",
    "3. **Implement mini-batch SGD** and evaluate the performance.\n",
    "\n",
    "4. Convert the .IPYNB file to .HTML file.\n",
    "\n",
    "    * The HTML file must contain **the code** and **the output after execution**.\n",
    "    \n",
    "    * Missing **the output after execution** will not be graded.\n",
    "    \n",
    "5. Upload this .HTML file to your Google Drive, Dropbox, or your Github repo.  (If you submit the file to Google Drive or Dropbox, you must make the file \"open-access\". The delay caused by \"deny of access\" may result in late penalty.)\n",
    "\n",
    "6. Submit the link to this .HTML file to Canvas.\n",
    "\n",
    "    * Example: https://github.com/wangshusen/CS583-2020S/blob/master/homework/HM2/HM2.html\n",
    "\n",
    "\n",
    "## Grading criteria:\n",
    "\n",
    "1. When computing the ```gradient``` and ```objective function value``` using a batch of samples, use **matrix-vector multiplication** rather than a FOR LOOP of **vector-vector multiplications**.\n",
    "\n",
    "2. Plot ```objective function value``` against ```epochs```. In the plot, compare GD, SGD, and MB-SGD (with $b=8$ and $b=64$). The plot must look reasonable."
   ]
  },
  {
   "cell_type": "markdown",
   "metadata": {},
   "source": [
    "# 1. Data processing\n",
    "\n",
    "- Download the Diabete dataset from https://www.csie.ntu.edu.tw/~cjlin/libsvmtools/datasets/binary/diabetes\n",
    "- Load the data using sklearn.\n",
    "- Preprocess the data."
   ]
  },
  {
   "cell_type": "markdown",
   "metadata": {},
   "source": [
    "## 1.1. Load the data"
   ]
  },
  {
   "cell_type": "code",
   "execution_count": 43,
   "metadata": {},
   "outputs": [
    {
     "name": "stdout",
     "output_type": "stream",
     "text": [
      "Shape of x: (768, 8)\n",
      "Shape of y: (768,)\n"
     ]
    }
   ],
   "source": [
    "from sklearn import datasets\n",
    "import numpy\n",
    "\n",
    "x_sparse, y = datasets.load_svmlight_file('diabetes')\n",
    "x = x_sparse.todense()\n",
    "\n",
    "print('Shape of x: ' + str(x.shape))\n",
    "print('Shape of y: ' + str(y.shape))"
   ]
  },
  {
   "cell_type": "markdown",
   "metadata": {},
   "source": [
    "## 1.2. Partition to training and test sets"
   ]
  },
  {
   "cell_type": "code",
   "execution_count": 44,
   "metadata": {},
   "outputs": [
    {
     "name": "stdout",
     "output_type": "stream",
     "text": [
      "Shape of x_train: (640, 8)\n",
      "Shape of x_test: (128, 8)\n",
      "Shape of y_train: (640, 1)\n",
      "Shape of y_test: (128, 1)\n"
     ]
    }
   ],
   "source": [
    "# partition the data to training and test sets\n",
    "n = x.shape[0]\n",
    "n_train = 640\n",
    "n_test = n - n_train\n",
    "\n",
    "rand_indices = numpy.random.permutation(n)\n",
    "train_indices = rand_indices[0:n_train]\n",
    "test_indices = rand_indices[n_train:n]\n",
    "\n",
    "x_train = x[train_indices, :]\n",
    "x_test = x[test_indices, :]\n",
    "y_train = y[train_indices].reshape(n_train, 1)\n",
    "y_test = y[test_indices].reshape(n_test, 1)\n",
    "\n",
    "print('Shape of x_train: ' + str(x_train.shape))\n",
    "print('Shape of x_test: ' + str(x_test.shape))\n",
    "print('Shape of y_train: ' + str(y_train.shape))\n",
    "print('Shape of y_test: ' + str(y_test.shape))"
   ]
  },
  {
   "cell_type": "markdown",
   "metadata": {},
   "source": [
    "## 1.3. Feature scaling"
   ]
  },
  {
   "cell_type": "markdown",
   "metadata": {},
   "source": [
    "Use the standardization to trainsform both training and test features"
   ]
  },
  {
   "cell_type": "code",
   "execution_count": 45,
   "metadata": {},
   "outputs": [
    {
     "name": "stdout",
     "output_type": "stream",
     "text": [
      "test mean = \n",
      "[[ 0.0135995   0.03748734  0.00170308  0.0213963   0.0402135   0.12008365\n",
      "   0.07242613 -0.11349401]]\n",
      "test std = \n",
      "[[1.06218299 0.96452031 1.02361744 1.00808248 0.85159978 0.94991108\n",
      "  1.02622122 0.92742754]]\n"
     ]
    }
   ],
   "source": [
    "# Standardization\n",
    "import numpy\n",
    "\n",
    "# calculate mu and sig using the training set\n",
    "d = x_train.shape[1]\n",
    "mu = numpy.mean(x_train, axis=0).reshape(1, d)\n",
    "sig = numpy.std(x_train, axis=0).reshape(1, d)\n",
    "\n",
    "# transform the training features\n",
    "x_train = (x_train - mu) / (sig + 1E-6)\n",
    "\n",
    "# transform the test features\n",
    "x_test = (x_test - mu) / (sig + 1E-6)\n",
    "\n",
    "print('test mean = ')\n",
    "print(numpy.mean(x_test, axis=0))\n",
    "\n",
    "print('test std = ')\n",
    "print(numpy.std(x_test, axis=0))"
   ]
  },
  {
   "cell_type": "markdown",
   "metadata": {},
   "source": [
    "## 1.4. Add a dimension of all ones"
   ]
  },
  {
   "cell_type": "code",
   "execution_count": 46,
   "metadata": {},
   "outputs": [
    {
     "name": "stdout",
     "output_type": "stream",
     "text": [
      "Shape of x_train: (640, 9)\n",
      "Shape of x_test: (128, 9)\n"
     ]
    }
   ],
   "source": [
    "n_train, d = x_train.shape\n",
    "x_train = numpy.concatenate((x_train, numpy.ones((n_train, 1))), axis=1)\n",
    "\n",
    "n_test, d = x_test.shape\n",
    "x_test = numpy.concatenate((x_test, numpy.ones((n_test, 1))), axis=1)\n",
    "\n",
    "print('Shape of x_train: ' + str(x_train.shape))\n",
    "print('Shape of x_test: ' + str(x_test.shape))"
   ]
  },
  {
   "cell_type": "markdown",
   "metadata": {},
   "source": [
    "# 2. Logistic regression model\n",
    "\n",
    "The objective function is $Q (w; X, y) = \\frac{1}{n} \\sum_{i=1}^n \\log \\Big( 1 + \\exp \\big( - y_i x_i^T w \\big) \\Big) + \\frac{\\lambda}{2} \\| w \\|_2^2 $."
   ]
  },
  {
   "cell_type": "code",
   "execution_count": 47,
   "metadata": {},
   "outputs": [],
   "source": [
    "# Calculate the objective function value\n",
    "# Inputs:\n",
    "#     w: d-by-1 matrix\n",
    "#     x: n-by-d matrix\n",
    "#     y: n-by-1 matrix\n",
    "#     lam: scalar, the regularization parameter\n",
    "# Return:\n",
    "#     objective function value (scalar)\n",
    "def objective(w, x, y, lam):\n",
    "    n, d = x.shape\n",
    "    yx = numpy.multiply(y, x) # n-by-d matrix\n",
    "    yxw = numpy.dot(yx, w) # n-by-1 matrix\n",
    "    vec1 = numpy.exp(-yxw) # n-by-1 matrix\n",
    "    vec2 = numpy.log(1 + vec1) # n-by-1 matrix\n",
    "    loss = numpy.mean(vec2) # scalar\n",
    "    reg = lam / 2 * numpy.sum(w * w) # scalar\n",
    "    return loss + reg\n",
    "    "
   ]
  },
  {
   "cell_type": "code",
   "execution_count": 48,
   "metadata": {},
   "outputs": [
    {
     "name": "stdout",
     "output_type": "stream",
     "text": [
      "Initial objective function value = 0.6931471805599453\n"
     ]
    }
   ],
   "source": [
    "# initialize w\n",
    "d = x_train.shape[1]\n",
    "w = numpy.zeros((d, 1))\n",
    "\n",
    "# evaluate the objective function value at w\n",
    "lam = 1E-6\n",
    "objval0 = objective(w, x_train, y_train, lam)\n",
    "print('Initial objective function value = ' + str(objval0))"
   ]
  },
  {
   "cell_type": "markdown",
   "metadata": {},
   "source": [
    "# 3. Numerical optimization"
   ]
  },
  {
   "cell_type": "markdown",
   "metadata": {},
   "source": [
    "## 3.1. Gradient descent\n"
   ]
  },
  {
   "cell_type": "markdown",
   "metadata": {},
   "source": [
    "The gradient at $w$ is $g = - \\frac{1}{n} \\sum_{i=1}^n \\frac{y_i x_i }{1 + \\exp ( y_i x_i^T w)} + \\lambda w$"
   ]
  },
  {
   "cell_type": "code",
   "execution_count": 49,
   "metadata": {},
   "outputs": [],
   "source": [
    "# Calculate the gradient\n",
    "# Inputs:\n",
    "#     w: d-by-1 matrix\n",
    "#     x: n-by-d matrix\n",
    "#     y: n-by-1 matrix\n",
    "#     lam: scalar, the regularization parameter\n",
    "# Return:\n",
    "#     g: g: d-by-1 matrix, full gradient\n",
    "def gradient(w, x, y, lam):\n",
    "    n, d = x.shape\n",
    "    yx = numpy.multiply(y, x) # n-by-d matrix\n",
    "    yxw = numpy.dot(yx, w) # n-by-1 matrix\n",
    "    vec1 = numpy.exp(yxw) # n-by-1 matrix\n",
    "    vec2 = numpy.divide(yx, 1+vec1) # n-by-d matrix\n",
    "    vec3 = -numpy.mean(vec2, axis=0).reshape(d, 1) # d-by-1 matrix\n",
    "    g = vec3 + lam * w\n",
    "    return g"
   ]
  },
  {
   "cell_type": "code",
   "execution_count": 50,
   "metadata": {},
   "outputs": [],
   "source": [
    "# Gradient descent for solving logistic regression\n",
    "# Inputs:\n",
    "#     x: n-by-d matrix\n",
    "#     y: n-by-1 matrix\n",
    "#     lam: scalar, the regularization parameter\n",
    "#     stepsize: scalar\n",
    "#     max_iter: integer, the maximal iterations\n",
    "#     w: d-by-1 matrix, initialization of w\n",
    "# Return:\n",
    "#     w: d-by-1 matrix, the solution\n",
    "#     objvals: a record of each iteration's objective value\n",
    "def grad_descent(x, y, lam, stepsize, max_iter=100, w=None):\n",
    "    n, d = x.shape\n",
    "    objvals = numpy.zeros(max_iter) # store the objective values\n",
    "    if w is None:\n",
    "        w = numpy.zeros((d, 1)) # zero initialization\n",
    "    \n",
    "    for t in range(max_iter):\n",
    "        objval = objective(w, x, y, lam)\n",
    "        objvals[t] = objval\n",
    "        print('Objective value at t=' + str(t) + ' is ' + str(objval))\n",
    "        g = gradient(w, x, y, lam)\n",
    "        w -= stepsize * g\n",
    "    \n",
    "    return w, objvals"
   ]
  },
  {
   "cell_type": "markdown",
   "metadata": {},
   "source": [
    "Run gradient descent."
   ]
  },
  {
   "cell_type": "code",
   "execution_count": 51,
   "metadata": {},
   "outputs": [
    {
     "name": "stdout",
     "output_type": "stream",
     "text": [
      "Objective value at t=0 is 0.6931471805599453\n",
      "Objective value at t=1 is 0.5978060608074112\n",
      "Objective value at t=2 is 0.5566940687955698\n",
      "Objective value at t=3 is 0.5342028076135961\n",
      "Objective value at t=4 is 0.5201060935576933\n",
      "Objective value at t=5 is 0.5105582689871058\n",
      "Objective value at t=6 is 0.5037687689151319\n",
      "Objective value at t=7 is 0.498777014085264\n",
      "Objective value at t=8 is 0.4950160503494915\n",
      "Objective value at t=9 is 0.4921282609722473\n",
      "Objective value at t=10 is 0.4898769694412095\n",
      "Objective value at t=11 is 0.4880997584185422\n",
      "Objective value at t=12 is 0.486681951557817\n",
      "Objective value at t=13 is 0.4855406831732998\n",
      "Objective value at t=14 is 0.48461490254575873\n",
      "Objective value at t=15 is 0.4838588804334873\n",
      "Objective value at t=16 is 0.48323786902794996\n",
      "Objective value at t=17 is 0.48272513098224906\n",
      "Objective value at t=18 is 0.48229986332717234\n",
      "Objective value at t=19 is 0.4819457202900167\n",
      "Objective value at t=20 is 0.4816497452270318\n",
      "Objective value at t=21 is 0.4814015871341734\n",
      "Objective value at t=22 is 0.48119291835347566\n",
      "Objective value at t=23 is 0.481016996635071\n",
      "Objective value at t=24 is 0.4808683321760061\n",
      "Objective value at t=25 is 0.4807424319483554\n",
      "Objective value at t=26 is 0.48063560158337904\n",
      "Objective value at t=27 is 0.4805447905699637\n",
      "Objective value at t=28 is 0.4804674703684106\n",
      "Objective value at t=29 is 0.4804015377637333\n",
      "Objective value at t=30 is 0.4803452377350296\n",
      "Objective value at t=31 is 0.4802971015327527\n",
      "Objective value at t=32 is 0.48025589669224544\n",
      "Objective value at t=33 is 0.48022058647843396\n",
      "Objective value at t=34 is 0.480190296828641\n",
      "Objective value at t=35 is 0.48016428929107313\n",
      "Objective value at t=36 is 0.4801419387832959\n",
      "Objective value at t=37 is 0.48012271524485095\n",
      "Objective value at t=38 is 0.4801061684505855\n",
      "Objective value at t=39 is 0.4800919154004581\n",
      "Objective value at t=40 is 0.48007962981800184\n",
      "Objective value at t=41 is 0.4800690333810212\n",
      "Objective value at t=42 is 0.4800598883802463\n",
      "Objective value at t=43 is 0.48005199155894673\n",
      "Objective value at t=44 is 0.4800451689321841\n",
      "Objective value at t=45 is 0.48003927142100833\n",
      "Objective value at t=46 is 0.4800341711663764\n",
      "Objective value at t=47 is 0.48002975841141987\n",
      "Objective value at t=48 is 0.4800259388600266\n",
      "Objective value at t=49 is 0.4800226314354766\n",
      "Objective value at t=50 is 0.4800197663757613\n",
      "Objective value at t=51 is 0.48001728361279045\n",
      "Objective value at t=52 is 0.4800151313914018\n",
      "Objective value at t=53 is 0.48001326509126985\n",
      "Objective value at t=54 is 0.48001164622076203\n",
      "Objective value at t=55 is 0.48001024155672634\n",
      "Objective value at t=56 is 0.48000902240830406\n",
      "Objective value at t=57 is 0.48000796398628764\n",
      "Objective value at t=58 is 0.4800070448624072\n",
      "Objective value at t=59 is 0.4800062465053321\n",
      "Objective value at t=60 is 0.4800055528821826\n",
      "Objective value at t=61 is 0.4800049501160457\n",
      "Objective value at t=62 is 0.4800044261914124\n",
      "Objective value at t=63 is 0.4800039707006608\n",
      "Objective value at t=64 is 0.4800035746257235\n",
      "Objective value at t=65 is 0.48000323014994367\n",
      "Objective value at t=66 is 0.4800029304958498\n",
      "Objective value at t=67 is 0.48000266978520345\n",
      "Objective value at t=68 is 0.4800024429181969\n",
      "Objective value at t=69 is 0.4800022454691311\n",
      "Objective value at t=70 is 0.4800020735962808\n",
      "Objective value at t=71 is 0.4800019239639819\n",
      "Objective value at t=72 is 0.4800017936752577\n",
      "Objective value at t=73 is 0.48000168021353173\n",
      "Objective value at t=74 is 0.48000158139218224\n",
      "Objective value at t=75 is 0.48000149531086916\n",
      "Objective value at t=76 is 0.4800014203177077\n",
      "Objective value at t=77 is 0.48000135497649726\n",
      "Objective value at t=78 is 0.4800012980383191\n",
      "Objective value at t=79 is 0.48000124841691355\n",
      "Objective value at t=80 is 0.48000120516732675\n",
      "Objective value at t=81 is 0.480001167467388\n",
      "Objective value at t=82 is 0.4800011346016376\n",
      "Objective value at t=83 is 0.4800011059473778\n",
      "Objective value at t=84 is 0.4800010809625628\n",
      "Objective value at t=85 is 0.4800010591752824\n",
      "Objective value at t=86 is 0.4800010401746296\n",
      "Objective value at t=87 is 0.4800010236027646\n",
      "Objective value at t=88 is 0.4800010091480208\n",
      "Objective value at t=89 is 0.4800009965389121\n",
      "Objective value at t=90 is 0.480000985538923\n",
      "Objective value at t=91 is 0.4800009759419801\n",
      "Objective value at t=92 is 0.4800009675685128\n",
      "Objective value at t=93 is 0.48000096026202743\n",
      "Objective value at t=94 is 0.480000953886127\n",
      "Objective value at t=95 is 0.48000094832191825\n",
      "Objective value at t=96 is 0.48000094346575434\n",
      "Objective value at t=97 is 0.4800009392272719\n",
      "Objective value at t=98 is 0.48000093552768\n",
      "Objective value at t=99 is 0.48000093229827295\n"
     ]
    }
   ],
   "source": [
    "lam = 1E-6\n",
    "stepsize = 1.0\n",
    "w, objvals_gd = grad_descent(x_train, y_train, lam, stepsize)"
   ]
  },
  {
   "cell_type": "markdown",
   "metadata": {},
   "source": [
    "## 3.2. Stochastic gradient descent (SGD)\n",
    "\n",
    "Define $Q_i (w) = \\log \\Big( 1 + \\exp \\big( - y_i x_i^T w \\big) \\Big) + \\frac{\\lambda}{2} \\| w \\|_2^2 $.\n",
    "\n",
    "The stochastic gradient at $w$ is $g_i = \\frac{\\partial Q_i }{ \\partial w} = -\\frac{y_i x_i }{1 + \\exp ( y_i x_i^T w)} + \\lambda w$."
   ]
  },
  {
   "cell_type": "code",
   "execution_count": 52,
   "metadata": {},
   "outputs": [],
   "source": [
    "# Calculate the objective Q_i and the gradient of Q_i\n",
    "# Inputs:\n",
    "#     w: d-by-1 matrix\n",
    "#     xi: 1-by-d matrix\n",
    "#     yi: scalar\n",
    "#     lam: scalar, the regularization parameter\n",
    "# Return:\n",
    "#     obj: scalar, the objective Q_i\n",
    "#     g: d-by-1 matrix, gradient of Q_i\n",
    "def stochastic_objective_gradient(w, xi, yi, lam):\n",
    "    d = xi.shape[0]\n",
    "    yx = yi * xi # 1-by-d matrix\n",
    "    yxw = float(numpy.dot(yx, w)) # scalar\n",
    "    \n",
    "    # calculate objective function Q_i\n",
    "    loss = numpy.log(1 + numpy.exp(-yxw)) # scalar\n",
    "    reg = lam / 2 * numpy.sum(w * w) # scalar\n",
    "    obj = loss + reg\n",
    "    \n",
    "    # calculate stochastic gradient\n",
    "    g_loss = -yx.T / (1 + numpy.exp(yxw)) # d-by-1 matrix\n",
    "    g = g_loss + lam * w # d-by-1 matrix\n",
    "    \n",
    "    return obj, g"
   ]
  },
  {
   "cell_type": "code",
   "execution_count": 53,
   "metadata": {},
   "outputs": [],
   "source": [
    "# SGD for solving logistic regression\n",
    "# Inputs:\n",
    "#     x: n-by-d matrix\n",
    "#     y: n-by-1 matrix\n",
    "#     lam: scalar, the regularization parameter\n",
    "#     stepsize: scalar\n",
    "#     max_epoch: integer, the maximal epochs\n",
    "#     w: d-by-1 matrix, initialization of w\n",
    "# Return:\n",
    "#     w: the solution\n",
    "#     objvals: record of each iteration's objective value\n",
    "def sgd(x, y, lam, stepsize, max_epoch=100, w=None):\n",
    "    n, d = x.shape\n",
    "    objvals = numpy.zeros(max_epoch) # store the objective values\n",
    "    if w is None:\n",
    "        w = numpy.zeros((d, 1)) # zero initialization\n",
    "    \n",
    "    for t in range(max_epoch):\n",
    "        # randomly shuffle the samples\n",
    "        rand_indices = numpy.random.permutation(n)\n",
    "        x_rand = x[rand_indices, :]\n",
    "        y_rand = y[rand_indices, :]\n",
    "        \n",
    "        objval = 0 # accumulate the objective values\n",
    "        for i in range(n):\n",
    "            xi = x_rand[i, :] # 1-by-d matrix\n",
    "            yi = float(y_rand[i, :]) # scalar\n",
    "            obj, g = stochastic_objective_gradient(w, xi, yi, lam)\n",
    "            objval += obj\n",
    "            w -= stepsize * g\n",
    "        \n",
    "        stepsize *= 0.9 # decrease step size\n",
    "        objval /= n\n",
    "        objvals[t] = objval\n",
    "        print('Objective value at epoch t=' + str(t) + ' is ' + str(objval))\n",
    "    \n",
    "    return w, objvals"
   ]
  },
  {
   "cell_type": "markdown",
   "metadata": {},
   "source": [
    "Run SGD."
   ]
  },
  {
   "cell_type": "code",
   "execution_count": 54,
   "metadata": {},
   "outputs": [
    {
     "name": "stdout",
     "output_type": "stream",
     "text": [
      "Objective value at epoch t=0 is 0.5263384162833591\n",
      "Objective value at epoch t=1 is 0.534610720451609\n",
      "Objective value at epoch t=2 is 0.5234052813923149\n",
      "Objective value at epoch t=3 is 0.5255673045583448\n",
      "Objective value at epoch t=4 is 0.5185814648267136\n",
      "Objective value at epoch t=5 is 0.5144861913830303\n",
      "Objective value at epoch t=6 is 0.5060597712959412\n",
      "Objective value at epoch t=7 is 0.5037444080754785\n",
      "Objective value at epoch t=8 is 0.4981780473144495\n",
      "Objective value at epoch t=9 is 0.5009323115714958\n",
      "Objective value at epoch t=10 is 0.49841510750634965\n",
      "Objective value at epoch t=11 is 0.49588742711489137\n",
      "Objective value at epoch t=12 is 0.50003468347499\n",
      "Objective value at epoch t=13 is 0.4934072834327239\n",
      "Objective value at epoch t=14 is 0.4935482754197408\n",
      "Objective value at epoch t=15 is 0.4927302449861958\n",
      "Objective value at epoch t=16 is 0.4935764137787957\n",
      "Objective value at epoch t=17 is 0.49001258968407047\n",
      "Objective value at epoch t=18 is 0.49007619547463444\n",
      "Objective value at epoch t=19 is 0.48707099531731846\n",
      "Objective value at epoch t=20 is 0.4863729824508898\n",
      "Objective value at epoch t=21 is 0.48835138029820435\n",
      "Objective value at epoch t=22 is 0.4869304113319394\n",
      "Objective value at epoch t=23 is 0.48631186928738845\n",
      "Objective value at epoch t=24 is 0.48555207620182994\n",
      "Objective value at epoch t=25 is 0.4850076454257257\n",
      "Objective value at epoch t=26 is 0.48410602844021255\n",
      "Objective value at epoch t=27 is 0.4834920441851529\n",
      "Objective value at epoch t=28 is 0.483754838859108\n",
      "Objective value at epoch t=29 is 0.48340271257493395\n",
      "Objective value at epoch t=30 is 0.4829866501460497\n",
      "Objective value at epoch t=31 is 0.4827600406346706\n",
      "Objective value at epoch t=32 is 0.48248685368253835\n",
      "Objective value at epoch t=33 is 0.48233146664958565\n",
      "Objective value at epoch t=34 is 0.48212478093703093\n",
      "Objective value at epoch t=35 is 0.4818623541610066\n",
      "Objective value at epoch t=36 is 0.48171718077751635\n",
      "Objective value at epoch t=37 is 0.4815384412785636\n",
      "Objective value at epoch t=38 is 0.48135647878222854\n",
      "Objective value at epoch t=39 is 0.48124078205313126\n",
      "Objective value at epoch t=40 is 0.4811055225434161\n",
      "Objective value at epoch t=41 is 0.48101881908060673\n",
      "Objective value at epoch t=42 is 0.4808659792093189\n",
      "Objective value at epoch t=43 is 0.480825757211975\n",
      "Objective value at epoch t=44 is 0.4807403431541194\n",
      "Objective value at epoch t=45 is 0.480660109055621\n",
      "Objective value at epoch t=46 is 0.48060629418291134\n",
      "Objective value at epoch t=47 is 0.4805398731918823\n",
      "Objective value at epoch t=48 is 0.48048861903524165\n",
      "Objective value at epoch t=49 is 0.48043605166139863\n",
      "Objective value at epoch t=50 is 0.4803972154689138\n",
      "Objective value at epoch t=51 is 0.4803577625693033\n",
      "Objective value at epoch t=52 is 0.4803211547065863\n",
      "Objective value at epoch t=53 is 0.4802899631444407\n",
      "Objective value at epoch t=54 is 0.4802608060588594\n",
      "Objective value at epoch t=55 is 0.48023499224265576\n",
      "Objective value at epoch t=56 is 0.4802110655062365\n",
      "Objective value at epoch t=57 is 0.48019113176297135\n",
      "Objective value at epoch t=58 is 0.480171468556631\n",
      "Objective value at epoch t=59 is 0.4801548147564576\n",
      "Objective value at epoch t=60 is 0.48013903028889715\n",
      "Objective value at epoch t=61 is 0.480125779540861\n",
      "Objective value at epoch t=62 is 0.48011317059594133\n",
      "Objective value at epoch t=63 is 0.48010220914808943\n",
      "Objective value at epoch t=64 is 0.48009200514222183\n",
      "Objective value at epoch t=65 is 0.48008292386381457\n",
      "Objective value at epoch t=66 is 0.48007474099740677\n",
      "Objective value at epoch t=67 is 0.4800673518178985\n",
      "Objective value at epoch t=68 is 0.4800607689682598\n",
      "Objective value at epoch t=69 is 0.48005482896182816\n",
      "Objective value at epoch t=70 is 0.48004938149628956\n",
      "Objective value at epoch t=71 is 0.48004461225678596\n",
      "Objective value at epoch t=72 is 0.48004024459586636\n",
      "Objective value at epoch t=73 is 0.48003630956562954\n",
      "Objective value at epoch t=74 is 0.48003281499407685\n",
      "Objective value at epoch t=75 is 0.4800296319342978\n",
      "Objective value at epoch t=76 is 0.48002676208142175\n",
      "Objective value at epoch t=77 is 0.48002419964190457\n",
      "Objective value at epoch t=78 is 0.48002187685462594\n",
      "Objective value at epoch t=79 is 0.4800197969728236\n",
      "Objective value at epoch t=80 is 0.48001792414995964\n",
      "Objective value at epoch t=81 is 0.4800162387471126\n",
      "Objective value at epoch t=82 is 0.4800147144521635\n",
      "Objective value at epoch t=83 is 0.4800133505331393\n",
      "Objective value at epoch t=84 is 0.4800121206796515\n",
      "Objective value at epoch t=85 is 0.48001101227020193\n",
      "Objective value at epoch t=86 is 0.48001001335142546\n",
      "Objective value at epoch t=87 is 0.48000911781213923\n",
      "Objective value at epoch t=88 is 0.48000831086351414\n",
      "Objective value at epoch t=89 is 0.480007583392075\n",
      "Objective value at epoch t=90 is 0.480006929345147\n",
      "Objective value at epoch t=91 is 0.4800063409820178\n",
      "Objective value at epoch t=92 is 0.48000581107605605\n",
      "Objective value at epoch t=93 is 0.48000533382641447\n",
      "Objective value at epoch t=94 is 0.4800049046949907\n",
      "Objective value at epoch t=95 is 0.4800045185258634\n",
      "Objective value at epoch t=96 is 0.4800041708429473\n",
      "Objective value at epoch t=97 is 0.4800038579198989\n",
      "Objective value at epoch t=98 is 0.48000357621492895\n",
      "Objective value at epoch t=99 is 0.48000332275959146\n"
     ]
    }
   ],
   "source": [
    "lam = 1E-6\n",
    "stepsize = 0.1\n",
    "w, objvals_sgd = sgd(x_train, y_train, lam, stepsize)"
   ]
  },
  {
   "cell_type": "markdown",
   "metadata": {},
   "source": [
    "# 4. Compare GD with SGD\n",
    "\n",
    "Plot objective function values against epochs."
   ]
  },
  {
   "cell_type": "code",
   "execution_count": 58,
   "metadata": {},
   "outputs": [
    {
     "data": {
      "image/png": "[encoded data removed]",
      "text/plain": [
       "<Figure size 432x288 with 1 Axes>"
      ]
     },
     "metadata": {
      "needs_background": "light"
     },
     "output_type": "display_data"
    }
   ],
   "source": [
    "import matplotlib.pyplot as plt\n",
    "%matplotlib inline\n",
    "\n",
    "fig = plt.figure(figsize=(6, 4))\n",
    "\n",
    "epochs_gd = range(len(objvals_gd))\n",
    "epochs_sgd = range(len(objvals_sgd))\n",
    "\n",
    "line0, = plt.plot(epochs_gd, objvals_gd, '--b', LineWidth=4)\n",
    "line1, = plt.plot(epochs_sgd, objvals_sgd, '-r', LineWidth=2)\n",
    "plt.xlabel('Epochs', FontSize=20)\n",
    "plt.ylabel('Objective Value', FontSize=20)\n",
    "plt.xticks(FontSize=16)\n",
    "plt.yticks(FontSize=16)\n",
    "plt.legend([line0, line1], ['GD', 'SGD'], fontsize=20)\n",
    "plt.tight_layout()\n",
    "plt.show()\n",
    "fig.savefig('compare_gd_sgd.pdf', format='pdf', dpi=1200)"
   ]
  },
  {
   "cell_type": "markdown",
   "metadata": {},
   "source": [
    "# 5. Prediction"
   ]
  },
  {
   "cell_type": "code",
   "execution_count": 59,
   "metadata": {},
   "outputs": [],
   "source": [
    "# Predict class label\n",
    "# Inputs:\n",
    "#     w: d-by-1 matrix\n",
    "#     X: m-by-d matrix\n",
    "# Return:\n",
    "#     f: m-by-1 matrix, the predictions\n",
    "def predict(w, X):\n",
    "    xw = numpy.dot(X, w)\n",
    "    f = numpy.sign(xw)\n",
    "    return f"
   ]
  },
  {
   "cell_type": "code",
   "execution_count": 60,
   "metadata": {},
   "outputs": [
    {
     "name": "stdout",
     "output_type": "stream",
     "text": [
      "Training classification error is 0.2234375\n"
     ]
    }
   ],
   "source": [
    "# evaluate training error\n",
    "f_train = predict(w, x_train)\n",
    "diff = numpy.abs(f_train - y_train) / 2\n",
    "error_train = numpy.mean(diff)\n",
    "print('Training classification error is ' + str(error_train))"
   ]
  },
  {
   "cell_type": "code",
   "execution_count": 61,
   "metadata": {},
   "outputs": [
    {
     "name": "stdout",
     "output_type": "stream",
     "text": [
      "Test classification error is 0.1953125\n"
     ]
    }
   ],
   "source": [
    "# evaluate test error\n",
    "f_test = predict(w, x_test)\n",
    "diff = numpy.abs(f_test - y_test) / 2\n",
    "error_test = numpy.mean(diff)\n",
    "print('Test classification error is ' + str(error_test))"
   ]
  },
  {
   "cell_type": "markdown",
   "metadata": {},
   "source": [
    "# 6. Mini-batch SGD (fill the code)\n",
    "\n"
   ]
  },
  {
   "cell_type": "markdown",
   "metadata": {},
   "source": [
    "## 6.1. Compute the objective $Q_I$ and its gradient using a batch of samples\n",
    "\n",
    "Define $Q_I (w) = \\frac{1}{b} \\sum_{i \\in I} \\log \\Big( 1 + \\exp \\big( - y_i x_i^T w \\big) \\Big) + \\frac{\\lambda}{2} \\| w \\|_2^2 $, where $I$ is a set containing $b$ indices randomly drawn from $\\{ 1, \\cdots , n \\}$ without replacement.\n",
    "\n",
    "The stochastic gradient at $w$ is $g_I = \\frac{\\partial Q_I }{ \\partial w} = \\frac{1}{b} \\sum_{i \\in I} \\frac{- y_i x_i }{1 + \\exp ( y_i x_i^T w)} + \\lambda w$."
   ]
  },
  {
   "cell_type": "code",
   "execution_count": null,
   "metadata": {},
   "outputs": [],
   "source": [
    "# Calculate the objective Q_I and the gradient of Q_I\n",
    "# Inputs:\n",
    "#     w: d-by-1 matrix\n",
    "#     xi: b-by-d matrix\n",
    "#     yi: b-by-1 matrix\n",
    "#     lam: scalar, the regularization parameter\n",
    "#     b: integer, the batch size\n",
    "# Return:\n",
    "#     obj: scalar, the objective Q_i\n",
    "#     g: d-by-1 matrix, gradient of Q_i\n",
    "def mb_stochastic_objective_gradient(w, xi, yi, lam, b):\n",
    "    # Fill the function\n",
    "    # Follow the implementation of stochastic_objective_gradient\n",
    "    # Use matrix-vector multiplication; do not use FOR LOOP of vector-vector multiplications\n",
    "    d = xi.shape[1]\n",
    "    yx = numpy.multiply(yi, xi)\n",
    "    yxw = numpy.dot(yx, w).reshape(b, 1) # b-by-1 matrix \n",
    "    vec1 = numpy.exp(-yxw)\n",
    "    vec2 = numpy.log(1 + vec1)\n",
    "    loss = numpy.mean(vec2, axis=0)\n",
    "    reg = lam/2 * numpy.sum(w*w)\n",
    "    obj = loss + reg # b-by-1 matrix \n",
    "    \n",
    "    g_yx = numpy.multiply(yi, xi)\n",
    "    g_yxw = numpy.dot(g_yx, w)\n",
    "    g_vec1 = numpy.exp(g_yxw)\n",
    "    g_vec2 = numpy.divide(-g_yx, 1+g_vec1)\n",
    "    g_vec3 = numpy.mean(g_vec2, axis=0).reshape(d,1)\n",
    "    g_reg = lam * w\n",
    "    g = g_vec3 + g_reg\n",
    "    \n",
    "    return obj, g"
   ]
  },
  {
   "cell_type": "markdown",
   "metadata": {},
   "source": [
    "## 6.2. Implement mini-batch SGD\n",
    "\n",
    "Hints:\n",
    "1. In every epoch, randomly permute the $n$ samples (just like SGD).\n",
    "2. Each epoch has $\\frac{n}{b}$ iterations. In every iteration, use $b$ samples, and compute the gradient and objective using the ``mb_stochastic_objective_gradient`` function. In the next iteration, use the next $b$ samples, and so on.\n"
   ]
  },
  {
   "cell_type": "code",
   "execution_count": null,
   "metadata": {},
   "outputs": [],
   "source": [
    "# Mini-Batch SGD for solving logistic regression\n",
    "# Inputs:\n",
    "#     x: n-by-d matrix\n",
    "#     y: n-by-1 matrix\n",
    "#     lam: scalar, the regularization parameter\n",
    "#     b: integer, the batch size\n",
    "#     stepsize: scalar\n",
    "#     max_epoch: integer, the maximal epochs\n",
    "#     w: d-by-1 matrix, initialization of w\n",
    "# Return:\n",
    "#     w: the solution\n",
    "#     objvals: record of each iteration's objective value\n",
    "def mb_sgd(x, y, lam, b, stepsize, max_epoch=100, w=None):\n",
    "    # Fill the function\n",
    "    # Follow the implementation of sgd\n",
    "    # Record one objective value per epoch (not per iteration!)\n",
    "    objvals = numpy.zeros(max_epoch)\n",
    "    n,d = x.shape\n",
    "    \n",
    "    if w is None:\n",
    "        w = numpy.zeros((d, 1))\n",
    "    \n",
    "    for t in range(max_epoch):\n",
    "        # randomly permute the n samples \n",
    "        random_indicies = numpy.random.permutation(n)\n",
    "        random_x = x[random_indicies, :]\n",
    "        random_y = y[random_indicies, :]\n",
    "        objval = 0\n",
    "         \n",
    "        # Each epoch has n/b iterations\n",
    "        for i in range(int(n/b)):\n",
    "            xi = random_x[i*b:(i+1)*b, :]\n",
    "            yi = random_y[i*b:(i+1)*b, :]\n",
    "            obj, g_w = mb_stochastic_objective_gradient(w, xi, yi, lam, b)\n",
    "            w -= stepsize*g_w\n",
    "            objval += obj\n",
    "        stepsize *= 0.91\n",
    "        objvals[t] = objval * b/n\n",
    "        print('Objective value at epoch t=' + str(t) + ' is ' + str(objvals[t]))\n",
    "    \n",
    "    return w, objvals"
   ]
  },
  {
   "cell_type": "markdown",
   "metadata": {},
   "source": [
    "## 6.3. Run MB-SGD"
   ]
  },
  {
   "cell_type": "code",
   "execution_count": null,
   "metadata": {},
   "outputs": [],
   "source": [
    "# MB-SGD with batch size b=8\n",
    "lam = 1E-6 # do not change\n",
    "b = 8 # do not change\n",
    "stepsize = 0.1 # you must tune this parameter\n",
    "\n",
    "w, objvals_mbsgd8 = mb_sgd(x_train, y_train, lam, b, stepsize)"
   ]
  },
  {
   "cell_type": "code",
   "execution_count": null,
   "metadata": {},
   "outputs": [],
   "source": [
    "# MB-SGD with batch size b=64\n",
    "lam = 1E-6 # do not change\n",
    "b = 64 # do not change\n",
    "stepsize = 0.1 # you must tune this parameter\n",
    "\n",
    "w, objvals_mbsgd64 = mb_sgd(x_train, y_train, lam, b, stepsize)"
   ]
  },
  {
   "cell_type": "markdown",
   "metadata": {},
   "source": [
    "# 7. Plot and compare GD, SGD, and MB-SGD"
   ]
  },
  {
   "cell_type": "markdown",
   "metadata": {},
   "source": [
    "You are required to compare the following algorithms:\n",
    "\n",
    "- Gradient descent (GD)\n",
    "\n",
    "- SGD\n",
    "\n",
    "- MB-SGD with b=8\n",
    "\n",
    "- MB-SGD with b=64\n",
    "\n",
    "Follow the code in Section 4 to plot ```objective function value``` against ```epochs```. There should be four curves in the plot; each curve corresponds to one algorithm."
   ]
  },
  {
   "cell_type": "markdown",
   "metadata": {},
   "source": [
    "Hint: Logistic regression with $\\ell_2$-norm regularization is a strongly convex optimization problem. All the algorithms will converge to the same solution. **In the end, the ``objective function value`` of the 4 algorithms will be the same. If not the same, your implementation must be wrong. Do NOT submit wrong code and wrong result!**"
   ]
  },
  {
   "cell_type": "code",
   "execution_count": null,
   "metadata": {},
   "outputs": [],
   "source": [
    "# plot the 4 curves:"
   ]
  },
  {
   "cell_type": "markdown",
   "metadata": {},
   "source": []
  }
 ],
 "metadata": {
  "kernelspec": {
   "display_name": "Python 3",
   "language": "python",
   "name": "python3"
  },
  "language_info": {
   "codemirror_mode": {
    "name": "ipython",
    "version": 3
   },
   "file_extension": ".py",
   "mimetype": "text/x-python",
   "name": "python",
   "nbconvert_exporter": "python",
   "pygments_lexer": "ipython3",
   "version": "3.7.4"
  }
 },
 "nbformat": 4,
 "nbformat_minor": 2
}
