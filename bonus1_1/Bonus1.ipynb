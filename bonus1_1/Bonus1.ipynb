{
 "cells": [
  {
   "cell_type": "markdown",
   "metadata": {},
   "source": [
    "# Bonus1: Parallel Algorithms (Federated Averaging) \n",
    "\n",
    "### Name: Mijeong Ban\n"
   ]
  },
  {
   "cell_type": "markdown",
   "metadata": {},
   "source": [
    "## 0. You will do the following:\n",
    "\n",
    "1. Read the lecture note: [click here](https://github.com/wangshusen/DeepLearning/blob/master/LectureNotes/Parallel/Parallel.pdf)\n",
    "\n",
    "2. Implement federated averaging or decentralized optimization.\n",
    "\n",
    "3. Plot the convergence curve. (The x-axis can be ```number of epochs``` or ```number of communication```. You must make sure the label is correct.)\n",
    "\n",
    "4. Convert the .IPYNB file to .HTML file.\n",
    "\n",
    "    * The HTML file must contain **the code** and **the output after execution**.\n",
    "    \n",
    "5. Upload this .HTML file to your Google Drive, Dropbox, or your Github repo. (If it is submitted to Google Drive or Dropbox, you must make the file open-access.)\n",
    "\n",
    "6. Submit the link to this .HTML file to Canvas.\n",
    "\n",
    "    * Example: https://github.com/wangshusen/CS583-2020S/blob/master/homework/Bonus1/Bonus1.html\n",
    "\n"
   ]
  },
  {
   "cell_type": "markdown",
   "metadata": {},
   "source": [
    "# 1. Data processing\n",
    "\n",
    "- Download the Diabete dataset from https://www.csie.ntu.edu.tw/~cjlin/libsvmtools/datasets/binary/diabetes\n",
    "- Load the data using sklearn.\n",
    "- Preprocess the data."
   ]
  },
  {
   "cell_type": "markdown",
   "metadata": {},
   "source": [
    "## 1.1. Load the data"
   ]
  },
  {
   "cell_type": "code",
   "execution_count": 1,
   "metadata": {},
   "outputs": [
    {
     "name": "stdout",
     "output_type": "stream",
     "text": [
      "Shape of x: (768, 8)\n",
      "Shape of y: (768,)\n"
     ]
    }
   ],
   "source": [
    "from sklearn import datasets\n",
    "import numpy\n",
    "\n",
    "x_sparse, y = datasets.load_svmlight_file('diabetes')\n",
    "x = x_sparse.todense()\n",
    "\n",
    "print('Shape of x: ' + str(x.shape))\n",
    "print('Shape of y: ' + str(y.shape))"
   ]
  },
  {
   "cell_type": "markdown",
   "metadata": {},
   "source": [
    "## 1.2. Partition to training and test sets"
   ]
  },
  {
   "cell_type": "code",
   "execution_count": 2,
   "metadata": {},
   "outputs": [
    {
     "name": "stdout",
     "output_type": "stream",
     "text": [
      "Shape of x_train: (640, 8)\n",
      "Shape of x_test: (128, 8)\n",
      "Shape of y_train: (640, 1)\n",
      "Shape of y_test: (128, 1)\n"
     ]
    }
   ],
   "source": [
    "# partition the data to training and test sets\n",
    "n = x.shape[0]\n",
    "n_train = 640\n",
    "n_test = n - n_train\n",
    "\n",
    "rand_indices = numpy.random.permutation(n)\n",
    "train_indices = rand_indices[0:n_train]\n",
    "test_indices = rand_indices[n_train:n]\n",
    "\n",
    "x_train = x[train_indices, :]\n",
    "x_test = x[test_indices, :]\n",
    "y_train = y[train_indices].reshape(n_train, 1)\n",
    "y_test = y[test_indices].reshape(n_test, 1)\n",
    "\n",
    "print('Shape of x_train: ' + str(x_train.shape))\n",
    "print('Shape of x_test: ' + str(x_test.shape))\n",
    "print('Shape of y_train: ' + str(y_train.shape))\n",
    "print('Shape of y_test: ' + str(y_test.shape))"
   ]
  },
  {
   "cell_type": "markdown",
   "metadata": {},
   "source": [
    "## 1.3. Feature scaling"
   ]
  },
  {
   "cell_type": "markdown",
   "metadata": {},
   "source": [
    "Use the standardization to trainsform both training and test features"
   ]
  },
  {
   "cell_type": "code",
   "execution_count": 3,
   "metadata": {},
   "outputs": [
    {
     "name": "stdout",
     "output_type": "stream",
     "text": [
      "test mean = \n",
      "[[ 0.0557117  -0.10121378  0.09179237  0.08598023  0.04713392  0.11696943\n",
      "  -0.0705327  -0.02753523]]\n",
      "test std = \n",
      "[[1.05136261 0.96856003 0.92826038 1.03253048 1.04379809 0.81670032\n",
      "  0.91894262 0.94411781]]\n"
     ]
    }
   ],
   "source": [
    "# Standardization\n",
    "import numpy\n",
    "\n",
    "# calculate mu and sig using the training set\n",
    "d = x_train.shape[1]\n",
    "mu = numpy.mean(x_train, axis=0).reshape(1, d)\n",
    "sig = numpy.std(x_train, axis=0).reshape(1, d)\n",
    "\n",
    "# transform the training features\n",
    "x_train = (x_train - mu) / (sig + 1E-6)\n",
    "\n",
    "# transform the test features\n",
    "x_test = (x_test - mu) / (sig + 1E-6)\n",
    "\n",
    "print('test mean = ')\n",
    "print(numpy.mean(x_test, axis=0))\n",
    "\n",
    "print('test std = ')\n",
    "print(numpy.std(x_test, axis=0))"
   ]
  },
  {
   "cell_type": "markdown",
   "metadata": {},
   "source": [
    "## 1.4. Add a dimension of all ones"
   ]
  },
  {
   "cell_type": "code",
   "execution_count": 4,
   "metadata": {},
   "outputs": [
    {
     "name": "stdout",
     "output_type": "stream",
     "text": [
      "Shape of x_train: (640, 9)\n",
      "Shape of x_test: (128, 9)\n"
     ]
    }
   ],
   "source": [
    "n_train, d = x_train.shape\n",
    "x_train = numpy.concatenate((x_train, numpy.ones((n_train, 1))), axis=1)\n",
    "\n",
    "n_test, d = x_test.shape\n",
    "x_test = numpy.concatenate((x_test, numpy.ones((n_test, 1))), axis=1)\n",
    "\n",
    "print('Shape of x_train: ' + str(x_train.shape))\n",
    "print('Shape of x_test: ' + str(x_test.shape))"
   ]
  },
  {
   "cell_type": "markdown",
   "metadata": {},
   "source": [
    "## 1.5 Worker nodes "
   ]
  },
  {
   "cell_type": "code",
   "execution_count": 5,
   "metadata": {},
   "outputs": [],
   "source": [
    "class Worker: \n",
    "    def __init__(self, x, y, q, batch_size, lam, learning_rate):\n",
    "        self.x = x\n",
    "        self.y = y\n",
    "        self.q = q\n",
    "        self.batch_size = batch_size\n",
    "        self.lam = lam \n",
    "        self.learning_rate = learning_rate\n",
    "        self.w = numpy.zeros([x.shape[1], 1])\n",
    "    \n",
    "    def set_param(self, w):\n",
    "        self.w = w\n",
    "        \n",
    "    def loss(self):\n",
    "        yx = numpy.multiply(self.y, self.x)\n",
    "        yxw = numpy.dot(yx, self.w)\n",
    "        vec1 = numpy.exp(-yxw)\n",
    "        vec2 = numpy.log(1 + vec1)\n",
    "        return numpy.sum(vec2)\n",
    "    \n",
    "    def gradient(self, i):\n",
    "        w_base = self.w \n",
    "        for j in range(q):\n",
    "            batch_x = self.x[i*self.batch_size:(i+1)*self.batch_size,:]\n",
    "            batch_y = self.y[i*self.batch_size:(i+1)*self.batch_size,:]\n",
    "            i = i + 1\n",
    "            i = i%(math.ceil(self.x.shape[0]/self.batch_size))\n",
    "            yx = numpy.multiply(batch_x, batch_y)\n",
    "            yxw = numpy.dot(yx, self.w)\n",
    "            vec1 = numpy.exp(yxw) \n",
    "            vec2 = numpy.divide(-yx, 1+vec1)\n",
    "            g = numpy.sum(vec2, axis=0).reshape(batch_x.shape[1], 1)\n",
    "            g = g / self.batch_size\n",
    "            self.w = self.w - self.learning_rate*(g + self.lam*self.w)\n",
    "        p = w_base - self.w\n",
    "        return p, i"
   ]
  },
  {
   "cell_type": "markdown",
   "metadata": {},
   "source": [
    "## 1.6 Server Nodes"
   ]
  },
  {
   "cell_type": "code",
   "execution_count": 6,
   "metadata": {},
   "outputs": [],
   "source": [
    "class Server:\n",
    "    def __init__(self, m, n, d, lam, learning_rate):\n",
    "        self.m = m\n",
    "        self.n = n\n",
    "        self.d = d\n",
    "        self.lam = lam\n",
    "        self.learning_rate = learning_rate\n",
    "        self.w = numpy.zeros((d, 1))\n",
    "        self.g = numpy.zeros_like(self.w)\n",
    "        self.loss = 0\n",
    "        self.obj = 0\n",
    "    \n",
    "    def broadcast(self):\n",
    "        return self.w\n",
    "        \n",
    "    def aggregate(self, grads, losses):\n",
    "        self.g = numpy.zeros_like(self.w)\n",
    "        self.loss = 0\n",
    "        for k in range(self.m):\n",
    "            self.g = self.g + grads[k]\n",
    "            self.loss += losses[k]\n",
    "            \n",
    "    def gradient(self):\n",
    "        self.g = self.g / self.m + self.lam * self.w\n",
    "        \n",
    "    def objective(self):\n",
    "        self.obj = self.loss / self.n\n",
    "        return self.obj\n",
    "    \n",
    "    def updated_weight(self):\n",
    "        self.w -= self.learning_rate * self.g"
   ]
  },
  {
   "cell_type": "markdown",
   "metadata": {},
   "source": [
    "## 1.7 Initialization"
   ]
  },
  {
   "cell_type": "code",
   "execution_count": 7,
   "metadata": {},
   "outputs": [],
   "source": [
    "import math\n",
    "def create_server_workers(m, x, y, q, lam, learning_rate, batch_size):\n",
    "    n, d = x.shape\n",
    "    s = math.floor(n/m)\n",
    "    server = Server(m, n, d, lam, learning_rate)\n",
    "    workers = []\n",
    "    \n",
    "    for i in range(m):\n",
    "        indices = list(range(i*s, (i+1)*s))\n",
    "        worker = Worker(x[indices,:], y[indices,:], q, batch_size, lam, learning_rate)\n",
    "        workers.append(worker)\n",
    "    return server, workers "
   ]
  },
  {
   "cell_type": "markdown",
   "metadata": {},
   "source": [
    "## 1.8 Performing Parallel GD / SGD"
   ]
  },
  {
   "cell_type": "code",
   "execution_count": 8,
   "metadata": {},
   "outputs": [],
   "source": [
    "def gd_sgd(server, workers, communication, batch_size):\n",
    "    obj = []\n",
    "    i = 0\n",
    "    for j in range(communication):\n",
    "        w = server.broadcast()\n",
    "        grads = []\n",
    "        losses = []\n",
    "        for k in range(m):\n",
    "            workers[k].set_param(w)\n",
    "            grads.append(0)\n",
    "        for k in range(m):\n",
    "            grads[k], i = workers[k].gradient(i)\n",
    "            losses.append(workers[k].loss())\n",
    "        server.aggregate(grads, losses)\n",
    "        server.gradient()\n",
    "        server.updated_weight()\n",
    "        obj.append(server.objective())\n",
    "    return obj"
   ]
  },
  {
   "cell_type": "code",
   "execution_count": 9,
   "metadata": {},
   "outputs": [],
   "source": [
    "n, d = x.shape\n",
    "m = 4 # number of worker nodes \n",
    "s = math.floor(n/m)\n",
    "learning_rate = 8E-2\n",
    "lam = 1E-5\n",
    "communication = 3000"
   ]
  },
  {
   "cell_type": "markdown",
   "metadata": {},
   "source": [
    "### 1.8.1 GD with q=1"
   ]
  },
  {
   "cell_type": "code",
   "execution_count": 10,
   "metadata": {},
   "outputs": [],
   "source": [
    "q = 1\n",
    "server, workers = create_server_workers(m, x_train, y_train, q, lam, learning_rate, s)\n",
    "GD_1 = gd_sgd(server, workers, communication, s)"
   ]
  },
  {
   "cell_type": "markdown",
   "metadata": {},
   "source": [
    "### 1.8.2 GD with q=8"
   ]
  },
  {
   "cell_type": "code",
   "execution_count": 11,
   "metadata": {},
   "outputs": [],
   "source": [
    "q = 8\n",
    "server, workers = create_server_workers(m, x_train, y_train, q, lam, learning_rate, s)\n",
    "GD_8 = gd_sgd(server, workers, communication, s)"
   ]
  },
  {
   "cell_type": "markdown",
   "metadata": {},
   "source": [
    "### 1.8.3 SGD with q=1"
   ]
  },
  {
   "cell_type": "code",
   "execution_count": 12,
   "metadata": {},
   "outputs": [],
   "source": [
    "q = 1\n",
    "server, workers = create_server_workers(m, x_train, y_train, q, lam, learning_rate, 1)\n",
    "SGD_1 = gd_sgd(server, workers, communication, 1)"
   ]
  },
  {
   "cell_type": "markdown",
   "metadata": {},
   "source": [
    "### 1.8.4 SGD with q=8"
   ]
  },
  {
   "cell_type": "code",
   "execution_count": 13,
   "metadata": {},
   "outputs": [],
   "source": [
    "q = 8\n",
    "server, workers = create_server_workers(m, x_train, y_train, q, lam, learning_rate, 1)\n",
    "SGD_8 = gd_sgd(server, workers, communication, 1)"
   ]
  },
  {
   "cell_type": "markdown",
   "metadata": {},
   "source": [
    "## 1.9 Results"
   ]
  },
  {
   "cell_type": "code",
   "execution_count": 14,
   "metadata": {},
   "outputs": [
    {
     "data": {
      "image/png": "[encoded data removed]",
      "text/plain": [
       "<Figure size 432x288 with 1 Axes>"
      ]
     },
     "metadata": {
      "needs_background": "light"
     },
     "output_type": "display_data"
    }
   ],
   "source": [
    "import matplotlib.pyplot as plt \n",
    "%matplotlib inline\n",
    "\n",
    "fig = plt.figure(figsize=(6, 4))\n",
    "\n",
    "epochs_gd_sgd = range(communication)\n",
    "\n",
    "line0, = plt.plot(epochs_gd_sgd, GD_1, '--b', LineWidth=4)\n",
    "line1, = plt.plot(epochs_gd_sgd, GD_8, '-r', LineWidth=4)\n",
    "line2, = plt.plot(epochs_gd_sgd, SGD_1, '-g', LineWidth=2)\n",
    "line3, = plt.plot(epochs_gd_sgd, SGD_8, '--c', LineWidth=2)\n",
    "\n",
    "plt.xlabel('Communication', FontSize=20)\n",
    "plt.ylabel('Objective Value', FontSize=20)\n",
    "plt.xticks(FontSize=16)\n",
    "plt.yticks(FontSize=16)\n",
    "plt.legend([line0,line1,line2,line3], ['GD w/ q=1','GD w/ q=8','SGD w/ q=1','SGD w/ q=8'], fontsize=20)\n",
    "plt.tight_layout()\n",
    "plt.show()\n",
    "fig.savefig('compare_gd_sgd.pdf', format='pdf', dpi=1200)"
   ]
  },
  {
   "cell_type": "code",
   "execution_count": null,
   "metadata": {},
   "outputs": [],
   "source": []
  }
 ],
 "metadata": {
  "kernelspec": {
   "display_name": "Python 3",
   "language": "python",
   "name": "python3"
  },
  "language_info": {
   "codemirror_mode": {
    "name": "ipython",
    "version": 3
   },
   "file_extension": ".py",
   "mimetype": "text/x-python",
   "name": "python",
   "nbconvert_exporter": "python",
   "pygments_lexer": "ipython3",
   "version": "3.7.4"
  }
 },
 "nbformat": 4,
 "nbformat_minor": 2
}
